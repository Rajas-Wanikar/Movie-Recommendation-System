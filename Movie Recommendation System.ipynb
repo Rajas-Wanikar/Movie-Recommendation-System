{
 "cells": [
  {
   "cell_type": "code",
   "execution_count": 4,
   "id": "ef906819-5b20-4619-b6dc-7f6051408a63",
   "metadata": {},
   "outputs": [],
   "source": [
    "import pandas as pd\n",
    "import numpy as np"
   ]
  },
  {
   "cell_type": "code",
   "execution_count": 5,
   "id": "2bf9a6ee-803c-45c8-b884-9f00562a3efa",
   "metadata": {},
   "outputs": [],
   "source": [
    "movies_df = pd.read_csv('tmdb_5000_movies.csv')\n",
    "credits_df = pd.read_csv('tmdb_5000_credits.csv')"
   ]
  },
  {
   "cell_type": "code",
   "execution_count": 6,
   "id": "eb5e9dc3-cf14-4d82-a200-c19f4b1ce24a",
   "metadata": {},
   "outputs": [
    {
     "data": {
      "text/html": [
       "<div>\n",
       "<style scoped>\n",
       "    .dataframe tbody tr th:only-of-type {\n",
       "        vertical-align: middle;\n",
       "    }\n",
       "\n",
       "    .dataframe tbody tr th {\n",
       "        vertical-align: top;\n",
       "    }\n",
       "\n",
       "    .dataframe thead th {\n",
       "        text-align: right;\n",
       "    }\n",
       "</style>\n",
       "<table border=\"1\" class=\"dataframe\">\n",
       "  <thead>\n",
       "    <tr style=\"text-align: right;\">\n",
       "      <th></th>\n",
       "      <th>budget</th>\n",
       "      <th>genres</th>\n",
       "      <th>homepage</th>\n",
       "      <th>id</th>\n",
       "      <th>keywords</th>\n",
       "      <th>original_language</th>\n",
       "      <th>original_title</th>\n",
       "      <th>overview</th>\n",
       "      <th>popularity</th>\n",
       "      <th>production_companies</th>\n",
       "      <th>production_countries</th>\n",
       "      <th>release_date</th>\n",
       "      <th>revenue</th>\n",
       "      <th>runtime</th>\n",
       "      <th>spoken_languages</th>\n",
       "      <th>status</th>\n",
       "      <th>tagline</th>\n",
       "      <th>title</th>\n",
       "      <th>vote_average</th>\n",
       "      <th>vote_count</th>\n",
       "    </tr>\n",
       "  </thead>\n",
       "  <tbody>\n",
       "    <tr>\n",
       "      <th>0</th>\n",
       "      <td>237000000</td>\n",
       "      <td>[{\"id\": 28, \"name\": \"Action\"}, {\"id\": 12, \"nam...</td>\n",
       "      <td>http://www.avatarmovie.com/</td>\n",
       "      <td>19995</td>\n",
       "      <td>[{\"id\": 1463, \"name\": \"culture clash\"}, {\"id\":...</td>\n",
       "      <td>en</td>\n",
       "      <td>Avatar</td>\n",
       "      <td>In the 22nd century, a paraplegic Marine is di...</td>\n",
       "      <td>150.437577</td>\n",
       "      <td>[{\"name\": \"Ingenious Film Partners\", \"id\": 289...</td>\n",
       "      <td>[{\"iso_3166_1\": \"US\", \"name\": \"United States o...</td>\n",
       "      <td>2009-12-10</td>\n",
       "      <td>2787965087</td>\n",
       "      <td>162.0</td>\n",
       "      <td>[{\"iso_639_1\": \"en\", \"name\": \"English\"}, {\"iso...</td>\n",
       "      <td>Released</td>\n",
       "      <td>Enter the World of Pandora.</td>\n",
       "      <td>Avatar</td>\n",
       "      <td>7.2</td>\n",
       "      <td>11800</td>\n",
       "    </tr>\n",
       "    <tr>\n",
       "      <th>1</th>\n",
       "      <td>300000000</td>\n",
       "      <td>[{\"id\": 12, \"name\": \"Adventure\"}, {\"id\": 14, \"...</td>\n",
       "      <td>http://disney.go.com/disneypictures/pirates/</td>\n",
       "      <td>285</td>\n",
       "      <td>[{\"id\": 270, \"name\": \"ocean\"}, {\"id\": 726, \"na...</td>\n",
       "      <td>en</td>\n",
       "      <td>Pirates of the Caribbean: At World's End</td>\n",
       "      <td>Captain Barbossa, long believed to be dead, ha...</td>\n",
       "      <td>139.082615</td>\n",
       "      <td>[{\"name\": \"Walt Disney Pictures\", \"id\": 2}, {\"...</td>\n",
       "      <td>[{\"iso_3166_1\": \"US\", \"name\": \"United States o...</td>\n",
       "      <td>2007-05-19</td>\n",
       "      <td>961000000</td>\n",
       "      <td>169.0</td>\n",
       "      <td>[{\"iso_639_1\": \"en\", \"name\": \"English\"}]</td>\n",
       "      <td>Released</td>\n",
       "      <td>At the end of the world, the adventure begins.</td>\n",
       "      <td>Pirates of the Caribbean: At World's End</td>\n",
       "      <td>6.9</td>\n",
       "      <td>4500</td>\n",
       "    </tr>\n",
       "  </tbody>\n",
       "</table>\n",
       "</div>"
      ],
      "text/plain": [
       "      budget                                             genres  \\\n",
       "0  237000000  [{\"id\": 28, \"name\": \"Action\"}, {\"id\": 12, \"nam...   \n",
       "1  300000000  [{\"id\": 12, \"name\": \"Adventure\"}, {\"id\": 14, \"...   \n",
       "\n",
       "                                       homepage     id  \\\n",
       "0                   http://www.avatarmovie.com/  19995   \n",
       "1  http://disney.go.com/disneypictures/pirates/    285   \n",
       "\n",
       "                                            keywords original_language  \\\n",
       "0  [{\"id\": 1463, \"name\": \"culture clash\"}, {\"id\":...                en   \n",
       "1  [{\"id\": 270, \"name\": \"ocean\"}, {\"id\": 726, \"na...                en   \n",
       "\n",
       "                             original_title  \\\n",
       "0                                    Avatar   \n",
       "1  Pirates of the Caribbean: At World's End   \n",
       "\n",
       "                                            overview  popularity  \\\n",
       "0  In the 22nd century, a paraplegic Marine is di...  150.437577   \n",
       "1  Captain Barbossa, long believed to be dead, ha...  139.082615   \n",
       "\n",
       "                                production_companies  \\\n",
       "0  [{\"name\": \"Ingenious Film Partners\", \"id\": 289...   \n",
       "1  [{\"name\": \"Walt Disney Pictures\", \"id\": 2}, {\"...   \n",
       "\n",
       "                                production_countries release_date     revenue  \\\n",
       "0  [{\"iso_3166_1\": \"US\", \"name\": \"United States o...   2009-12-10  2787965087   \n",
       "1  [{\"iso_3166_1\": \"US\", \"name\": \"United States o...   2007-05-19   961000000   \n",
       "\n",
       "   runtime                                   spoken_languages    status  \\\n",
       "0    162.0  [{\"iso_639_1\": \"en\", \"name\": \"English\"}, {\"iso...  Released   \n",
       "1    169.0           [{\"iso_639_1\": \"en\", \"name\": \"English\"}]  Released   \n",
       "\n",
       "                                          tagline  \\\n",
       "0                     Enter the World of Pandora.   \n",
       "1  At the end of the world, the adventure begins.   \n",
       "\n",
       "                                      title  vote_average  vote_count  \n",
       "0                                    Avatar           7.2       11800  \n",
       "1  Pirates of the Caribbean: At World's End           6.9        4500  "
      ]
     },
     "execution_count": 6,
     "metadata": {},
     "output_type": "execute_result"
    }
   ],
   "source": [
    "movies_df.head(2)"
   ]
  },
  {
   "cell_type": "code",
   "execution_count": 7,
   "id": "e4fde5d8-63d1-4067-aa28-43067419f09d",
   "metadata": {},
   "outputs": [
    {
     "data": {
      "text/html": [
       "<div>\n",
       "<style scoped>\n",
       "    .dataframe tbody tr th:only-of-type {\n",
       "        vertical-align: middle;\n",
       "    }\n",
       "\n",
       "    .dataframe tbody tr th {\n",
       "        vertical-align: top;\n",
       "    }\n",
       "\n",
       "    .dataframe thead th {\n",
       "        text-align: right;\n",
       "    }\n",
       "</style>\n",
       "<table border=\"1\" class=\"dataframe\">\n",
       "  <thead>\n",
       "    <tr style=\"text-align: right;\">\n",
       "      <th></th>\n",
       "      <th>movie_id</th>\n",
       "      <th>title</th>\n",
       "      <th>cast</th>\n",
       "      <th>crew</th>\n",
       "    </tr>\n",
       "  </thead>\n",
       "  <tbody>\n",
       "    <tr>\n",
       "      <th>0</th>\n",
       "      <td>19995</td>\n",
       "      <td>Avatar</td>\n",
       "      <td>[{\"cast_id\": 242, \"character\": \"Jake Sully\", \"...</td>\n",
       "      <td>[{\"credit_id\": \"52fe48009251416c750aca23\", \"de...</td>\n",
       "    </tr>\n",
       "    <tr>\n",
       "      <th>1</th>\n",
       "      <td>285</td>\n",
       "      <td>Pirates of the Caribbean: At World's End</td>\n",
       "      <td>[{\"cast_id\": 4, \"character\": \"Captain Jack Spa...</td>\n",
       "      <td>[{\"credit_id\": \"52fe4232c3a36847f800b579\", \"de...</td>\n",
       "    </tr>\n",
       "    <tr>\n",
       "      <th>2</th>\n",
       "      <td>206647</td>\n",
       "      <td>Spectre</td>\n",
       "      <td>[{\"cast_id\": 1, \"character\": \"James Bond\", \"cr...</td>\n",
       "      <td>[{\"credit_id\": \"54805967c3a36829b5002c41\", \"de...</td>\n",
       "    </tr>\n",
       "    <tr>\n",
       "      <th>3</th>\n",
       "      <td>49026</td>\n",
       "      <td>The Dark Knight Rises</td>\n",
       "      <td>[{\"cast_id\": 2, \"character\": \"Bruce Wayne / Ba...</td>\n",
       "      <td>[{\"credit_id\": \"52fe4781c3a36847f81398c3\", \"de...</td>\n",
       "    </tr>\n",
       "    <tr>\n",
       "      <th>4</th>\n",
       "      <td>49529</td>\n",
       "      <td>John Carter</td>\n",
       "      <td>[{\"cast_id\": 5, \"character\": \"John Carter\", \"c...</td>\n",
       "      <td>[{\"credit_id\": \"52fe479ac3a36847f813eaa3\", \"de...</td>\n",
       "    </tr>\n",
       "  </tbody>\n",
       "</table>\n",
       "</div>"
      ],
      "text/plain": [
       "   movie_id                                     title  \\\n",
       "0     19995                                    Avatar   \n",
       "1       285  Pirates of the Caribbean: At World's End   \n",
       "2    206647                                   Spectre   \n",
       "3     49026                     The Dark Knight Rises   \n",
       "4     49529                               John Carter   \n",
       "\n",
       "                                                cast  \\\n",
       "0  [{\"cast_id\": 242, \"character\": \"Jake Sully\", \"...   \n",
       "1  [{\"cast_id\": 4, \"character\": \"Captain Jack Spa...   \n",
       "2  [{\"cast_id\": 1, \"character\": \"James Bond\", \"cr...   \n",
       "3  [{\"cast_id\": 2, \"character\": \"Bruce Wayne / Ba...   \n",
       "4  [{\"cast_id\": 5, \"character\": \"John Carter\", \"c...   \n",
       "\n",
       "                                                crew  \n",
       "0  [{\"credit_id\": \"52fe48009251416c750aca23\", \"de...  \n",
       "1  [{\"credit_id\": \"52fe4232c3a36847f800b579\", \"de...  \n",
       "2  [{\"credit_id\": \"54805967c3a36829b5002c41\", \"de...  \n",
       "3  [{\"credit_id\": \"52fe4781c3a36847f81398c3\", \"de...  \n",
       "4  [{\"credit_id\": \"52fe479ac3a36847f813eaa3\", \"de...  "
      ]
     },
     "execution_count": 7,
     "metadata": {},
     "output_type": "execute_result"
    }
   ],
   "source": [
    "credits_df.head()"
   ]
  },
  {
   "cell_type": "code",
   "execution_count": 8,
   "id": "b4a4e370-5b30-49d1-a216-a6c59b638f2f",
   "metadata": {},
   "outputs": [
    {
     "data": {
      "text/html": [
       "<div>\n",
       "<style scoped>\n",
       "    .dataframe tbody tr th:only-of-type {\n",
       "        vertical-align: middle;\n",
       "    }\n",
       "\n",
       "    .dataframe tbody tr th {\n",
       "        vertical-align: top;\n",
       "    }\n",
       "\n",
       "    .dataframe thead th {\n",
       "        text-align: right;\n",
       "    }\n",
       "</style>\n",
       "<table border=\"1\" class=\"dataframe\">\n",
       "  <thead>\n",
       "    <tr style=\"text-align: right;\">\n",
       "      <th></th>\n",
       "      <th>budget</th>\n",
       "      <th>genres</th>\n",
       "      <th>homepage</th>\n",
       "      <th>id</th>\n",
       "      <th>keywords</th>\n",
       "      <th>original_language</th>\n",
       "      <th>original_title</th>\n",
       "      <th>overview</th>\n",
       "      <th>popularity</th>\n",
       "      <th>production_companies</th>\n",
       "      <th>...</th>\n",
       "      <th>runtime</th>\n",
       "      <th>spoken_languages</th>\n",
       "      <th>status</th>\n",
       "      <th>tagline</th>\n",
       "      <th>title</th>\n",
       "      <th>vote_average</th>\n",
       "      <th>vote_count</th>\n",
       "      <th>movie_id</th>\n",
       "      <th>cast</th>\n",
       "      <th>crew</th>\n",
       "    </tr>\n",
       "  </thead>\n",
       "  <tbody>\n",
       "    <tr>\n",
       "      <th>0</th>\n",
       "      <td>237000000</td>\n",
       "      <td>[{\"id\": 28, \"name\": \"Action\"}, {\"id\": 12, \"nam...</td>\n",
       "      <td>http://www.avatarmovie.com/</td>\n",
       "      <td>19995</td>\n",
       "      <td>[{\"id\": 1463, \"name\": \"culture clash\"}, {\"id\":...</td>\n",
       "      <td>en</td>\n",
       "      <td>Avatar</td>\n",
       "      <td>In the 22nd century, a paraplegic Marine is di...</td>\n",
       "      <td>150.437577</td>\n",
       "      <td>[{\"name\": \"Ingenious Film Partners\", \"id\": 289...</td>\n",
       "      <td>...</td>\n",
       "      <td>162.0</td>\n",
       "      <td>[{\"iso_639_1\": \"en\", \"name\": \"English\"}, {\"iso...</td>\n",
       "      <td>Released</td>\n",
       "      <td>Enter the World of Pandora.</td>\n",
       "      <td>Avatar</td>\n",
       "      <td>7.2</td>\n",
       "      <td>11800</td>\n",
       "      <td>19995</td>\n",
       "      <td>[{\"cast_id\": 242, \"character\": \"Jake Sully\", \"...</td>\n",
       "      <td>[{\"credit_id\": \"52fe48009251416c750aca23\", \"de...</td>\n",
       "    </tr>\n",
       "    <tr>\n",
       "      <th>1</th>\n",
       "      <td>300000000</td>\n",
       "      <td>[{\"id\": 12, \"name\": \"Adventure\"}, {\"id\": 14, \"...</td>\n",
       "      <td>http://disney.go.com/disneypictures/pirates/</td>\n",
       "      <td>285</td>\n",
       "      <td>[{\"id\": 270, \"name\": \"ocean\"}, {\"id\": 726, \"na...</td>\n",
       "      <td>en</td>\n",
       "      <td>Pirates of the Caribbean: At World's End</td>\n",
       "      <td>Captain Barbossa, long believed to be dead, ha...</td>\n",
       "      <td>139.082615</td>\n",
       "      <td>[{\"name\": \"Walt Disney Pictures\", \"id\": 2}, {\"...</td>\n",
       "      <td>...</td>\n",
       "      <td>169.0</td>\n",
       "      <td>[{\"iso_639_1\": \"en\", \"name\": \"English\"}]</td>\n",
       "      <td>Released</td>\n",
       "      <td>At the end of the world, the adventure begins.</td>\n",
       "      <td>Pirates of the Caribbean: At World's End</td>\n",
       "      <td>6.9</td>\n",
       "      <td>4500</td>\n",
       "      <td>285</td>\n",
       "      <td>[{\"cast_id\": 4, \"character\": \"Captain Jack Spa...</td>\n",
       "      <td>[{\"credit_id\": \"52fe4232c3a36847f800b579\", \"de...</td>\n",
       "    </tr>\n",
       "  </tbody>\n",
       "</table>\n",
       "<p>2 rows × 23 columns</p>\n",
       "</div>"
      ],
      "text/plain": [
       "      budget                                             genres  \\\n",
       "0  237000000  [{\"id\": 28, \"name\": \"Action\"}, {\"id\": 12, \"nam...   \n",
       "1  300000000  [{\"id\": 12, \"name\": \"Adventure\"}, {\"id\": 14, \"...   \n",
       "\n",
       "                                       homepage     id  \\\n",
       "0                   http://www.avatarmovie.com/  19995   \n",
       "1  http://disney.go.com/disneypictures/pirates/    285   \n",
       "\n",
       "                                            keywords original_language  \\\n",
       "0  [{\"id\": 1463, \"name\": \"culture clash\"}, {\"id\":...                en   \n",
       "1  [{\"id\": 270, \"name\": \"ocean\"}, {\"id\": 726, \"na...                en   \n",
       "\n",
       "                             original_title  \\\n",
       "0                                    Avatar   \n",
       "1  Pirates of the Caribbean: At World's End   \n",
       "\n",
       "                                            overview  popularity  \\\n",
       "0  In the 22nd century, a paraplegic Marine is di...  150.437577   \n",
       "1  Captain Barbossa, long believed to be dead, ha...  139.082615   \n",
       "\n",
       "                                production_companies  ... runtime  \\\n",
       "0  [{\"name\": \"Ingenious Film Partners\", \"id\": 289...  ...   162.0   \n",
       "1  [{\"name\": \"Walt Disney Pictures\", \"id\": 2}, {\"...  ...   169.0   \n",
       "\n",
       "                                    spoken_languages    status  \\\n",
       "0  [{\"iso_639_1\": \"en\", \"name\": \"English\"}, {\"iso...  Released   \n",
       "1           [{\"iso_639_1\": \"en\", \"name\": \"English\"}]  Released   \n",
       "\n",
       "                                          tagline  \\\n",
       "0                     Enter the World of Pandora.   \n",
       "1  At the end of the world, the adventure begins.   \n",
       "\n",
       "                                      title vote_average vote_count movie_id  \\\n",
       "0                                    Avatar          7.2      11800    19995   \n",
       "1  Pirates of the Caribbean: At World's End          6.9       4500      285   \n",
       "\n",
       "                                                cast  \\\n",
       "0  [{\"cast_id\": 242, \"character\": \"Jake Sully\", \"...   \n",
       "1  [{\"cast_id\": 4, \"character\": \"Captain Jack Spa...   \n",
       "\n",
       "                                                crew  \n",
       "0  [{\"credit_id\": \"52fe48009251416c750aca23\", \"de...  \n",
       "1  [{\"credit_id\": \"52fe4232c3a36847f800b579\", \"de...  \n",
       "\n",
       "[2 rows x 23 columns]"
      ]
     },
     "execution_count": 8,
     "metadata": {},
     "output_type": "execute_result"
    }
   ],
   "source": [
    "merged = movies_df.merge(credits_df, on = 'title')\n",
    "merged.head(2)"
   ]
  },
  {
   "cell_type": "code",
   "execution_count": 9,
   "id": "2ceb844c-aca4-4c9f-ac0a-08a216697e91",
   "metadata": {},
   "outputs": [
    {
     "data": {
      "text/html": [
       "<div>\n",
       "<style scoped>\n",
       "    .dataframe tbody tr th:only-of-type {\n",
       "        vertical-align: middle;\n",
       "    }\n",
       "\n",
       "    .dataframe tbody tr th {\n",
       "        vertical-align: top;\n",
       "    }\n",
       "\n",
       "    .dataframe thead th {\n",
       "        text-align: right;\n",
       "    }\n",
       "</style>\n",
       "<table border=\"1\" class=\"dataframe\">\n",
       "  <thead>\n",
       "    <tr style=\"text-align: right;\">\n",
       "      <th></th>\n",
       "      <th>movie_id</th>\n",
       "      <th>title</th>\n",
       "      <th>overview</th>\n",
       "      <th>genres</th>\n",
       "      <th>keywords</th>\n",
       "      <th>cast</th>\n",
       "      <th>crew</th>\n",
       "    </tr>\n",
       "  </thead>\n",
       "  <tbody>\n",
       "    <tr>\n",
       "      <th>0</th>\n",
       "      <td>19995</td>\n",
       "      <td>Avatar</td>\n",
       "      <td>In the 22nd century, a paraplegic Marine is di...</td>\n",
       "      <td>[{\"id\": 28, \"name\": \"Action\"}, {\"id\": 12, \"nam...</td>\n",
       "      <td>[{\"id\": 1463, \"name\": \"culture clash\"}, {\"id\":...</td>\n",
       "      <td>[{\"cast_id\": 242, \"character\": \"Jake Sully\", \"...</td>\n",
       "      <td>[{\"credit_id\": \"52fe48009251416c750aca23\", \"de...</td>\n",
       "    </tr>\n",
       "    <tr>\n",
       "      <th>1</th>\n",
       "      <td>285</td>\n",
       "      <td>Pirates of the Caribbean: At World's End</td>\n",
       "      <td>Captain Barbossa, long believed to be dead, ha...</td>\n",
       "      <td>[{\"id\": 12, \"name\": \"Adventure\"}, {\"id\": 14, \"...</td>\n",
       "      <td>[{\"id\": 270, \"name\": \"ocean\"}, {\"id\": 726, \"na...</td>\n",
       "      <td>[{\"cast_id\": 4, \"character\": \"Captain Jack Spa...</td>\n",
       "      <td>[{\"credit_id\": \"52fe4232c3a36847f800b579\", \"de...</td>\n",
       "    </tr>\n",
       "    <tr>\n",
       "      <th>2</th>\n",
       "      <td>206647</td>\n",
       "      <td>Spectre</td>\n",
       "      <td>A cryptic message from Bond’s past sends him o...</td>\n",
       "      <td>[{\"id\": 28, \"name\": \"Action\"}, {\"id\": 12, \"nam...</td>\n",
       "      <td>[{\"id\": 470, \"name\": \"spy\"}, {\"id\": 818, \"name...</td>\n",
       "      <td>[{\"cast_id\": 1, \"character\": \"James Bond\", \"cr...</td>\n",
       "      <td>[{\"credit_id\": \"54805967c3a36829b5002c41\", \"de...</td>\n",
       "    </tr>\n",
       "  </tbody>\n",
       "</table>\n",
       "</div>"
      ],
      "text/plain": [
       "   movie_id                                     title  \\\n",
       "0     19995                                    Avatar   \n",
       "1       285  Pirates of the Caribbean: At World's End   \n",
       "2    206647                                   Spectre   \n",
       "\n",
       "                                            overview  \\\n",
       "0  In the 22nd century, a paraplegic Marine is di...   \n",
       "1  Captain Barbossa, long believed to be dead, ha...   \n",
       "2  A cryptic message from Bond’s past sends him o...   \n",
       "\n",
       "                                              genres  \\\n",
       "0  [{\"id\": 28, \"name\": \"Action\"}, {\"id\": 12, \"nam...   \n",
       "1  [{\"id\": 12, \"name\": \"Adventure\"}, {\"id\": 14, \"...   \n",
       "2  [{\"id\": 28, \"name\": \"Action\"}, {\"id\": 12, \"nam...   \n",
       "\n",
       "                                            keywords  \\\n",
       "0  [{\"id\": 1463, \"name\": \"culture clash\"}, {\"id\":...   \n",
       "1  [{\"id\": 270, \"name\": \"ocean\"}, {\"id\": 726, \"na...   \n",
       "2  [{\"id\": 470, \"name\": \"spy\"}, {\"id\": 818, \"name...   \n",
       "\n",
       "                                                cast  \\\n",
       "0  [{\"cast_id\": 242, \"character\": \"Jake Sully\", \"...   \n",
       "1  [{\"cast_id\": 4, \"character\": \"Captain Jack Spa...   \n",
       "2  [{\"cast_id\": 1, \"character\": \"James Bond\", \"cr...   \n",
       "\n",
       "                                                crew  \n",
       "0  [{\"credit_id\": \"52fe48009251416c750aca23\", \"de...  \n",
       "1  [{\"credit_id\": \"52fe4232c3a36847f800b579\", \"de...  \n",
       "2  [{\"credit_id\": \"54805967c3a36829b5002c41\", \"de...  "
      ]
     },
     "execution_count": 9,
     "metadata": {},
     "output_type": "execute_result"
    }
   ],
   "source": [
    "movies = merged[['movie_id','title','overview','genres','keywords','cast','crew']]\n",
    "movies.head(3)"
   ]
  },
  {
   "cell_type": "code",
   "execution_count": 10,
   "id": "8296257f-c62b-446b-bd3c-c88df9765c73",
   "metadata": {},
   "outputs": [
    {
     "data": {
      "text/plain": [
       "movie_id    0\n",
       "title       0\n",
       "overview    3\n",
       "genres      0\n",
       "keywords    0\n",
       "cast        0\n",
       "crew        0\n",
       "dtype: int64"
      ]
     },
     "execution_count": 10,
     "metadata": {},
     "output_type": "execute_result"
    }
   ],
   "source": [
    "movies.isnull().sum()"
   ]
  },
  {
   "cell_type": "code",
   "execution_count": 11,
   "id": "3c81bbc9-f7c7-4296-8a32-72435776724e",
   "metadata": {},
   "outputs": [
    {
     "data": {
      "text/plain": [
       "np.int64(0)"
      ]
     },
     "execution_count": 11,
     "metadata": {},
     "output_type": "execute_result"
    }
   ],
   "source": [
    "movies.duplicated().sum()"
   ]
  },
  {
   "cell_type": "code",
   "execution_count": 12,
   "id": "26477b6b-4bc8-43e9-8d39-cd3c8ae128c8",
   "metadata": {},
   "outputs": [
    {
     "data": {
      "text/plain": [
       "'[{\"id\": 28, \"name\": \"Action\"}, {\"id\": 12, \"name\": \"Adventure\"}, {\"id\": 14, \"name\": \"Fantasy\"}, {\"id\": 878, \"name\": \"Science Fiction\"}]'"
      ]
     },
     "execution_count": 12,
     "metadata": {},
     "output_type": "execute_result"
    }
   ],
   "source": [
    "movies.iloc[0].genres"
   ]
  },
  {
   "cell_type": "code",
   "execution_count": 13,
   "id": "f064d240-21c8-4111-b520-c3ff41fb1387",
   "metadata": {},
   "outputs": [
    {
     "data": {
      "text/plain": [
       "[{'id': 28, 'name': 'Action'},\n",
       " {'id': 12, 'name': 'Adventure'},\n",
       " {'id': 14, 'name': 'Fantasy'},\n",
       " {'id': 878, 'name': 'Science Fiction'}]"
      ]
     },
     "execution_count": 13,
     "metadata": {},
     "output_type": "execute_result"
    }
   ],
   "source": [
    "import ast\n",
    "ast.literal_eval('[{\"id\": 28, \"name\": \"Action\"}, {\"id\": 12, \"name\": \"Adventure\"}, {\"id\": 14, \"name\": \"Fantasy\"}, {\"id\": 878, \"name\": \"Science Fiction\"}]')"
   ]
  },
  {
   "cell_type": "code",
   "execution_count": 14,
   "id": "be68031e-e403-4003-aa83-f6e992ae35ad",
   "metadata": {},
   "outputs": [],
   "source": [
    "def convert(text):\n",
    "    L = []\n",
    "    for i in ast.literal_eval(text):\n",
    "        L.append(i['name']) \n",
    "    return L "
   ]
  },
  {
   "cell_type": "code",
   "execution_count": 15,
   "id": "277b01a3-8393-470f-a1b9-26eff1f12a9f",
   "metadata": {},
   "outputs": [
    {
     "name": "stderr",
     "output_type": "stream",
     "text": [
      "C:\\Users\\Rajas\\AppData\\Local\\Temp\\ipykernel_31052\\1189516248.py:1: SettingWithCopyWarning: \n",
      "A value is trying to be set on a copy of a slice from a DataFrame.\n",
      "Try using .loc[row_indexer,col_indexer] = value instead\n",
      "\n",
      "See the caveats in the documentation: https://pandas.pydata.org/pandas-docs/stable/user_guide/indexing.html#returning-a-view-versus-a-copy\n",
      "  movies['genres'] = movies['genres'].apply(convert)\n"
     ]
    }
   ],
   "source": [
    "movies['genres'] = movies['genres'].apply(convert)"
   ]
  },
  {
   "cell_type": "code",
   "execution_count": 16,
   "id": "0df6149c-a7d3-49cf-a011-26e001fdcb0a",
   "metadata": {},
   "outputs": [
    {
     "name": "stderr",
     "output_type": "stream",
     "text": [
      "C:\\Users\\Rajas\\AppData\\Local\\Temp\\ipykernel_31052\\3328512696.py:1: SettingWithCopyWarning: \n",
      "A value is trying to be set on a copy of a slice from a DataFrame.\n",
      "Try using .loc[row_indexer,col_indexer] = value instead\n",
      "\n",
      "See the caveats in the documentation: https://pandas.pydata.org/pandas-docs/stable/user_guide/indexing.html#returning-a-view-versus-a-copy\n",
      "  movies['keywords'] = movies['keywords'].apply(convert)\n"
     ]
    }
   ],
   "source": [
    "movies['keywords'] = movies['keywords'].apply(convert)"
   ]
  },
  {
   "cell_type": "code",
   "execution_count": 17,
   "id": "37c6aec4-af52-4fa5-889f-32bdc25d3866",
   "metadata": {},
   "outputs": [],
   "source": [
    "def convert3(text):\n",
    "    L = []\n",
    "    counter = 0\n",
    "    for i in ast.literal_eval(text):\n",
    "        if counter != 3:\n",
    "            L.append(i['name'])\n",
    "        counter+=1\n",
    "    return L"
   ]
  },
  {
   "cell_type": "code",
   "execution_count": 18,
   "id": "ea83a98c-0e98-4356-9305-b3303d0f02ae",
   "metadata": {},
   "outputs": [
    {
     "name": "stderr",
     "output_type": "stream",
     "text": [
      "C:\\Users\\Rajas\\AppData\\Local\\Temp\\ipykernel_31052\\3593664571.py:1: SettingWithCopyWarning: \n",
      "A value is trying to be set on a copy of a slice from a DataFrame.\n",
      "Try using .loc[row_indexer,col_indexer] = value instead\n",
      "\n",
      "See the caveats in the documentation: https://pandas.pydata.org/pandas-docs/stable/user_guide/indexing.html#returning-a-view-versus-a-copy\n",
      "  movies['cast'] = movies['cast'].apply(convert3)\n"
     ]
    }
   ],
   "source": [
    "movies['cast'] = movies['cast'].apply(convert3)"
   ]
  },
  {
   "cell_type": "code",
   "execution_count": 19,
   "id": "ce1d9a5a-95c0-4ad7-a72d-41709128c49d",
   "metadata": {},
   "outputs": [],
   "source": [
    "def fetch_director(text):\n",
    "    L = []\n",
    "    for i in ast.literal_eval(text):\n",
    "        if i['job'] == 'Director':\n",
    "            L.append(i['name'])\n",
    "            break\n",
    "    return L "
   ]
  },
  {
   "cell_type": "code",
   "execution_count": 20,
   "id": "b20e8e05-875f-42d0-95ab-fd9a1adb02b9",
   "metadata": {},
   "outputs": [
    {
     "name": "stderr",
     "output_type": "stream",
     "text": [
      "C:\\Users\\Rajas\\AppData\\Local\\Temp\\ipykernel_31052\\2884021428.py:1: SettingWithCopyWarning: \n",
      "A value is trying to be set on a copy of a slice from a DataFrame.\n",
      "Try using .loc[row_indexer,col_indexer] = value instead\n",
      "\n",
      "See the caveats in the documentation: https://pandas.pydata.org/pandas-docs/stable/user_guide/indexing.html#returning-a-view-versus-a-copy\n",
      "  movies['crew'] = movies['crew'].apply(fetch_director)\n"
     ]
    }
   ],
   "source": [
    "movies['crew'] = movies['crew'].apply(fetch_director)"
   ]
  },
  {
   "cell_type": "code",
   "execution_count": 21,
   "id": "580be69f-eb84-47ab-a214-98786eeb1f50",
   "metadata": {},
   "outputs": [
    {
     "name": "stderr",
     "output_type": "stream",
     "text": [
      "C:\\Users\\Rajas\\AppData\\Local\\Temp\\ipykernel_31052\\3800461955.py:1: SettingWithCopyWarning: \n",
      "A value is trying to be set on a copy of a slice from a DataFrame\n",
      "\n",
      "See the caveats in the documentation: https://pandas.pydata.org/pandas-docs/stable/user_guide/indexing.html#returning-a-view-versus-a-copy\n",
      "  movies.rename(columns = {'crew':'director'}, inplace = True)\n"
     ]
    }
   ],
   "source": [
    "movies.rename(columns = {'crew':'director'}, inplace = True)"
   ]
  },
  {
   "cell_type": "code",
   "execution_count": 22,
   "id": "be7e3ca0-e59e-43a7-ad77-047c6e971199",
   "metadata": {},
   "outputs": [
    {
     "name": "stderr",
     "output_type": "stream",
     "text": [
      "C:\\Users\\Rajas\\AppData\\Local\\Temp\\ipykernel_31052\\4238686928.py:1: SettingWithCopyWarning: \n",
      "A value is trying to be set on a copy of a slice from a DataFrame.\n",
      "Try using .loc[row_indexer,col_indexer] = value instead\n",
      "\n",
      "See the caveats in the documentation: https://pandas.pydata.org/pandas-docs/stable/user_guide/indexing.html#returning-a-view-versus-a-copy\n",
      "  movies['overview'] = movies['overview'].apply(lambda x:x.split()if isinstance(x, str) else [])\n"
     ]
    }
   ],
   "source": [
    "movies['overview'] = movies['overview'].apply(lambda x:x.split()if isinstance(x, str) else [])"
   ]
  },
  {
   "cell_type": "code",
   "execution_count": 23,
   "id": "1aa983bc-9f5d-4b24-a02f-01ab0c58964a",
   "metadata": {},
   "outputs": [
    {
     "name": "stderr",
     "output_type": "stream",
     "text": [
      "C:\\Users\\Rajas\\AppData\\Local\\Temp\\ipykernel_31052\\885532882.py:1: SettingWithCopyWarning: \n",
      "A value is trying to be set on a copy of a slice from a DataFrame.\n",
      "Try using .loc[row_indexer,col_indexer] = value instead\n",
      "\n",
      "See the caveats in the documentation: https://pandas.pydata.org/pandas-docs/stable/user_guide/indexing.html#returning-a-view-versus-a-copy\n",
      "  movies['genres'] = movies['genres'].apply(lambda x:[i.replace(\" \",\"\")for i in x])\n"
     ]
    }
   ],
   "source": [
    "movies['genres'] = movies['genres'].apply(lambda x:[i.replace(\" \",\"\")for i in x])"
   ]
  },
  {
   "cell_type": "code",
   "execution_count": 24,
   "id": "6094fff8-4520-493e-98e7-2ee88f14719a",
   "metadata": {},
   "outputs": [],
   "source": [
    "def collapse(L):\n",
    "    L1 = []\n",
    "    for i in L:\n",
    "        L1.append(i.replace(\" \",\"\"))\n",
    "    return L1"
   ]
  },
  {
   "cell_type": "code",
   "execution_count": 25,
   "id": "39fbc35c-1e37-49f5-89bc-d957dfd8fa90",
   "metadata": {},
   "outputs": [
    {
     "name": "stderr",
     "output_type": "stream",
     "text": [
      "C:\\Users\\Rajas\\AppData\\Local\\Temp\\ipykernel_31052\\1498184675.py:1: SettingWithCopyWarning: \n",
      "A value is trying to be set on a copy of a slice from a DataFrame.\n",
      "Try using .loc[row_indexer,col_indexer] = value instead\n",
      "\n",
      "See the caveats in the documentation: https://pandas.pydata.org/pandas-docs/stable/user_guide/indexing.html#returning-a-view-versus-a-copy\n",
      "  movies['cast'] = movies['cast'].apply(collapse)\n",
      "C:\\Users\\Rajas\\AppData\\Local\\Temp\\ipykernel_31052\\1498184675.py:2: SettingWithCopyWarning: \n",
      "A value is trying to be set on a copy of a slice from a DataFrame.\n",
      "Try using .loc[row_indexer,col_indexer] = value instead\n",
      "\n",
      "See the caveats in the documentation: https://pandas.pydata.org/pandas-docs/stable/user_guide/indexing.html#returning-a-view-versus-a-copy\n",
      "  movies['director'] = movies['director'].apply(collapse)\n",
      "C:\\Users\\Rajas\\AppData\\Local\\Temp\\ipykernel_31052\\1498184675.py:3: SettingWithCopyWarning: \n",
      "A value is trying to be set on a copy of a slice from a DataFrame.\n",
      "Try using .loc[row_indexer,col_indexer] = value instead\n",
      "\n",
      "See the caveats in the documentation: https://pandas.pydata.org/pandas-docs/stable/user_guide/indexing.html#returning-a-view-versus-a-copy\n",
      "  movies['keywords'] = movies['keywords'].apply(collapse)\n"
     ]
    }
   ],
   "source": [
    "movies['cast'] = movies['cast'].apply(collapse)\n",
    "movies['director'] = movies['director'].apply(collapse)\n",
    "movies['keywords'] = movies['keywords'].apply(collapse)"
   ]
  },
  {
   "cell_type": "code",
   "execution_count": 26,
   "id": "4e2780e5-ba97-4208-9dce-2fc596494508",
   "metadata": {},
   "outputs": [
    {
     "name": "stderr",
     "output_type": "stream",
     "text": [
      "C:\\Users\\Rajas\\AppData\\Local\\Temp\\ipykernel_31052\\2691237537.py:1: SettingWithCopyWarning: \n",
      "A value is trying to be set on a copy of a slice from a DataFrame.\n",
      "Try using .loc[row_indexer,col_indexer] = value instead\n",
      "\n",
      "See the caveats in the documentation: https://pandas.pydata.org/pandas-docs/stable/user_guide/indexing.html#returning-a-view-versus-a-copy\n",
      "  movies['tags'] = movies['overview'] + movies['genres'] + movies['keywords'] + movies['cast'] + movies['director']\n"
     ]
    }
   ],
   "source": [
    "movies['tags'] = movies['overview'] + movies['genres'] + movies['keywords'] + movies['cast'] + movies['director']"
   ]
  },
  {
   "cell_type": "code",
   "execution_count": 27,
   "id": "ddde2861-cd2d-4e28-9194-2c92c07390aa",
   "metadata": {},
   "outputs": [
    {
     "data": {
      "text/html": [
       "<div>\n",
       "<style scoped>\n",
       "    .dataframe tbody tr th:only-of-type {\n",
       "        vertical-align: middle;\n",
       "    }\n",
       "\n",
       "    .dataframe tbody tr th {\n",
       "        vertical-align: top;\n",
       "    }\n",
       "\n",
       "    .dataframe thead th {\n",
       "        text-align: right;\n",
       "    }\n",
       "</style>\n",
       "<table border=\"1\" class=\"dataframe\">\n",
       "  <thead>\n",
       "    <tr style=\"text-align: right;\">\n",
       "      <th></th>\n",
       "      <th>movie_id</th>\n",
       "      <th>title</th>\n",
       "      <th>overview</th>\n",
       "      <th>genres</th>\n",
       "      <th>keywords</th>\n",
       "      <th>cast</th>\n",
       "      <th>director</th>\n",
       "      <th>tags</th>\n",
       "    </tr>\n",
       "  </thead>\n",
       "  <tbody>\n",
       "    <tr>\n",
       "      <th>0</th>\n",
       "      <td>19995</td>\n",
       "      <td>Avatar</td>\n",
       "      <td>[In, the, 22nd, century,, a, paraplegic, Marin...</td>\n",
       "      <td>[Action, Adventure, Fantasy, ScienceFiction]</td>\n",
       "      <td>[cultureclash, future, spacewar, spacecolony, ...</td>\n",
       "      <td>[SamWorthington, ZoeSaldana, SigourneyWeaver, ...</td>\n",
       "      <td>[JamesCameron]</td>\n",
       "      <td>[In, the, 22nd, century,, a, paraplegic, Marin...</td>\n",
       "    </tr>\n",
       "    <tr>\n",
       "      <th>1</th>\n",
       "      <td>285</td>\n",
       "      <td>Pirates of the Caribbean: At World's End</td>\n",
       "      <td>[Captain, Barbossa,, long, believed, to, be, d...</td>\n",
       "      <td>[Adventure, Fantasy, Action]</td>\n",
       "      <td>[ocean, drugabuse, exoticisland, eastindiatrad...</td>\n",
       "      <td>[JohnnyDepp, OrlandoBloom, KeiraKnightley, Cho...</td>\n",
       "      <td>[GoreVerbinski]</td>\n",
       "      <td>[Captain, Barbossa,, long, believed, to, be, d...</td>\n",
       "    </tr>\n",
       "    <tr>\n",
       "      <th>2</th>\n",
       "      <td>206647</td>\n",
       "      <td>Spectre</td>\n",
       "      <td>[A, cryptic, message, from, Bond’s, past, send...</td>\n",
       "      <td>[Action, Adventure, Crime]</td>\n",
       "      <td>[spy, basedonnovel, secretagent, sequel, mi6, ...</td>\n",
       "      <td>[DanielCraig, ChristophWaltz, LéaSeydoux, Moni...</td>\n",
       "      <td>[SamMendes]</td>\n",
       "      <td>[A, cryptic, message, from, Bond’s, past, send...</td>\n",
       "    </tr>\n",
       "  </tbody>\n",
       "</table>\n",
       "</div>"
      ],
      "text/plain": [
       "   movie_id                                     title  \\\n",
       "0     19995                                    Avatar   \n",
       "1       285  Pirates of the Caribbean: At World's End   \n",
       "2    206647                                   Spectre   \n",
       "\n",
       "                                            overview  \\\n",
       "0  [In, the, 22nd, century,, a, paraplegic, Marin...   \n",
       "1  [Captain, Barbossa,, long, believed, to, be, d...   \n",
       "2  [A, cryptic, message, from, Bond’s, past, send...   \n",
       "\n",
       "                                         genres  \\\n",
       "0  [Action, Adventure, Fantasy, ScienceFiction]   \n",
       "1                  [Adventure, Fantasy, Action]   \n",
       "2                    [Action, Adventure, Crime]   \n",
       "\n",
       "                                            keywords  \\\n",
       "0  [cultureclash, future, spacewar, spacecolony, ...   \n",
       "1  [ocean, drugabuse, exoticisland, eastindiatrad...   \n",
       "2  [spy, basedonnovel, secretagent, sequel, mi6, ...   \n",
       "\n",
       "                                                cast         director  \\\n",
       "0  [SamWorthington, ZoeSaldana, SigourneyWeaver, ...   [JamesCameron]   \n",
       "1  [JohnnyDepp, OrlandoBloom, KeiraKnightley, Cho...  [GoreVerbinski]   \n",
       "2  [DanielCraig, ChristophWaltz, LéaSeydoux, Moni...      [SamMendes]   \n",
       "\n",
       "                                                tags  \n",
       "0  [In, the, 22nd, century,, a, paraplegic, Marin...  \n",
       "1  [Captain, Barbossa,, long, believed, to, be, d...  \n",
       "2  [A, cryptic, message, from, Bond’s, past, send...  "
      ]
     },
     "execution_count": 27,
     "metadata": {},
     "output_type": "execute_result"
    }
   ],
   "source": [
    "movies.head(3)"
   ]
  },
  {
   "cell_type": "code",
   "execution_count": 28,
   "id": "ba2a51c6-467e-4a5f-804e-76c138718e0e",
   "metadata": {},
   "outputs": [],
   "source": [
    "new = movies.drop(columns=['overview','genres','keywords','cast','director'])"
   ]
  },
  {
   "cell_type": "code",
   "execution_count": 29,
   "id": "ba2b9018-53fd-4676-860b-7dd2d92be9d9",
   "metadata": {},
   "outputs": [],
   "source": [
    "new['tags'] = new['tags'].apply(lambda x: \" \".join(x))"
   ]
  },
  {
   "cell_type": "code",
   "execution_count": 30,
   "id": "3edc6c63-bfa1-4a21-ba38-210d7b932005",
   "metadata": {},
   "outputs": [
    {
     "data": {
      "text/html": [
       "<div>\n",
       "<style scoped>\n",
       "    .dataframe tbody tr th:only-of-type {\n",
       "        vertical-align: middle;\n",
       "    }\n",
       "\n",
       "    .dataframe tbody tr th {\n",
       "        vertical-align: top;\n",
       "    }\n",
       "\n",
       "    .dataframe thead th {\n",
       "        text-align: right;\n",
       "    }\n",
       "</style>\n",
       "<table border=\"1\" class=\"dataframe\">\n",
       "  <thead>\n",
       "    <tr style=\"text-align: right;\">\n",
       "      <th></th>\n",
       "      <th>movie_id</th>\n",
       "      <th>title</th>\n",
       "      <th>tags</th>\n",
       "    </tr>\n",
       "  </thead>\n",
       "  <tbody>\n",
       "    <tr>\n",
       "      <th>0</th>\n",
       "      <td>19995</td>\n",
       "      <td>Avatar</td>\n",
       "      <td>In the 22nd century, a paraplegic Marine is di...</td>\n",
       "    </tr>\n",
       "    <tr>\n",
       "      <th>1</th>\n",
       "      <td>285</td>\n",
       "      <td>Pirates of the Caribbean: At World's End</td>\n",
       "      <td>Captain Barbossa, long believed to be dead, ha...</td>\n",
       "    </tr>\n",
       "    <tr>\n",
       "      <th>2</th>\n",
       "      <td>206647</td>\n",
       "      <td>Spectre</td>\n",
       "      <td>A cryptic message from Bond’s past sends him o...</td>\n",
       "    </tr>\n",
       "    <tr>\n",
       "      <th>3</th>\n",
       "      <td>49026</td>\n",
       "      <td>The Dark Knight Rises</td>\n",
       "      <td>Following the death of District Attorney Harve...</td>\n",
       "    </tr>\n",
       "    <tr>\n",
       "      <th>4</th>\n",
       "      <td>49529</td>\n",
       "      <td>John Carter</td>\n",
       "      <td>John Carter is a war-weary, former military ca...</td>\n",
       "    </tr>\n",
       "  </tbody>\n",
       "</table>\n",
       "</div>"
      ],
      "text/plain": [
       "   movie_id                                     title  \\\n",
       "0     19995                                    Avatar   \n",
       "1       285  Pirates of the Caribbean: At World's End   \n",
       "2    206647                                   Spectre   \n",
       "3     49026                     The Dark Knight Rises   \n",
       "4     49529                               John Carter   \n",
       "\n",
       "                                                tags  \n",
       "0  In the 22nd century, a paraplegic Marine is di...  \n",
       "1  Captain Barbossa, long believed to be dead, ha...  \n",
       "2  A cryptic message from Bond’s past sends him o...  \n",
       "3  Following the death of District Attorney Harve...  \n",
       "4  John Carter is a war-weary, former military ca...  "
      ]
     },
     "execution_count": 30,
     "metadata": {},
     "output_type": "execute_result"
    }
   ],
   "source": [
    "new.head()"
   ]
  },
  {
   "cell_type": "code",
   "execution_count": 31,
   "id": "0cfa65e9-1817-48e2-9b5c-4e997449546a",
   "metadata": {},
   "outputs": [],
   "source": [
    "from sklearn.feature_extraction.text import CountVectorizer\n",
    "cv = CountVectorizer(max_features=10000,stop_words='english')"
   ]
  },
  {
   "cell_type": "code",
   "execution_count": 32,
   "id": "88bc39cf-7cc2-4a02-9028-5081496d0c2d",
   "metadata": {},
   "outputs": [],
   "source": [
    "vector = cv.fit_transform(new['tags']).toarray()"
   ]
  },
  {
   "cell_type": "code",
   "execution_count": 33,
   "id": "97b6f4de-1869-4dfd-943a-6f3509f26472",
   "metadata": {},
   "outputs": [
    {
     "data": {
      "text/plain": [
       "array([[0, 0, 0, ..., 0, 0, 0],\n",
       "       [0, 0, 0, ..., 0, 0, 0],\n",
       "       [0, 0, 0, ..., 0, 0, 0],\n",
       "       ...,\n",
       "       [0, 0, 0, ..., 0, 0, 0],\n",
       "       [0, 0, 0, ..., 0, 0, 0],\n",
       "       [0, 0, 0, ..., 0, 0, 0]])"
      ]
     },
     "execution_count": 33,
     "metadata": {},
     "output_type": "execute_result"
    }
   ],
   "source": [
    "vector"
   ]
  },
  {
   "cell_type": "code",
   "execution_count": 34,
   "id": "1ce899ae-18a3-4c6b-81bc-8d8b54f5da7b",
   "metadata": {},
   "outputs": [
    {
     "data": {
      "text/plain": [
       "(4809, 10000)"
      ]
     },
     "execution_count": 34,
     "metadata": {},
     "output_type": "execute_result"
    }
   ],
   "source": [
    "vector.shape"
   ]
  },
  {
   "cell_type": "code",
   "execution_count": 35,
   "id": "13a2ac57-669a-4bca-a05e-9b6167c4339e",
   "metadata": {},
   "outputs": [],
   "source": [
    "import nltk\n",
    "from nltk.stem.porter import PorterStemmer\n",
    "ps = PorterStemmer()"
   ]
  },
  {
   "cell_type": "code",
   "execution_count": 36,
   "id": "666dde5d-784e-4f46-ad02-a6ff1e664194",
   "metadata": {},
   "outputs": [],
   "source": [
    "def stem(text):\n",
    "    y = []\n",
    "    for i in text.split():\n",
    "        y.append(ps.stem(i))\n",
    "    return \" \".join(y)"
   ]
  },
  {
   "cell_type": "code",
   "execution_count": 37,
   "id": "ace1b52b-2523-40b4-9a20-12dc944210dc",
   "metadata": {},
   "outputs": [],
   "source": [
    "new['tags'] = new['tags'].apply(stem)"
   ]
  },
  {
   "cell_type": "code",
   "execution_count": 38,
   "id": "503c48e6-ddb4-49d1-b13d-805b3de09114",
   "metadata": {},
   "outputs": [
    {
     "name": "stdout",
     "output_type": "stream",
     "text": [
      "['000', '007', '10', '100', '11', '12', '13', '14', '15', '150', '16', '16th', '17', '17th', '18', '18th', '18thcentury', '19', '1910s', '1920', '1920s', '1930s', '1937', '1940s', '1944', '1950', '1950s', '1955', '1959', '1960', '1960s', '1962', '1964', '1965', '1967', '1970s', '1971', '1972', '1973', '1974', '1976', '1979', '1980', '1980s', '1985', '1990s', '1995', '1997', '1999', '19th', '19thcentury', '20', '200', '2000', '2003', '2009', '20th', '21st', '23', '24', '25', '30', '300', '3d', '40', '50', '500', '50cent', '60', '60s', '70', '70s', 'aaron', 'aarondouglas', 'aaroneckhart', 'aaronpaul', 'aaronstanford', 'aarontaylor', 'aaronyoo', 'aasifmandvi', 'abandoned', 'abandons', 'abbiecornish', 'abducted', 'abigailbreslin', 'abilities', 'ability', 'able', 'aboard', 'abortion', 'abrahambenrubi', 'abrams', 'abroad', 'absence', 'abuse', 'abused', 'abusive', 'academic', 'academy', 'accept', 'accepted', 'accepts', 'access', 'accident', 'accidental', 'accidentally', 'accompanied', 'accomplish', 'accomplished', 'account', 'accountant', 'accused', 'ace', 'achieve', 'act', 'acting', 'action', 'actionhero', 'actions', 'activist', 'activities', 'activity', 'actor', 'actors', 'actress', 'acts', 'actual', 'actually', 'ada', 'adam', 'adamarkin', 'adambaldwin', 'adambeach', 'adambrody', 'adamdriver', 'adamfogerty', 'adamgodley', 'adamgoldberg', 'adamlefevre', 'adammckay', 'adams', 'adamsandler', 'adamscott', 'adamshankman', 'adaptation', 'adapted', 'add', 'addict', 'addicted', 'addiction', 'adds', 'adewaleakinnuoye', 'adjust', 'adolescence', 'adolescent', 'adopt', 'adopted', 'adoption', 'adopts', 'adorable', 'adrianabarraza', 'adriangrenier', 'adrianmartinez', 'adrianscarborough', 'adrienbrody', 'adrift', 'adult', 'adultanimation', 'adultery', 'adulthood', 'adults', 'advantage', 'adventure', 'adventures', 'advertising', 'advice', 'afemoomilami', 'affair', 'affairs', 'affect', 'affection', 'affections', 'affioncrockett', 'affluent', 'afghanistan', 'afraid', 'africa', 'african', 'africanamerican', 'aftercreditsstinger', 'afterlife', 'aftermath', 'agbaje', 'age', 'aged', 'agedifference', 'agency', 'agenda', 'agent', 'agents', 'aggressive', 'aging', 'ago', 'agree', 'agrees', 'ahead', 'aid', 'aidanquinn', 'aidaturturro', 'aided', 'aids', 'ailing', 'aim', 'aimeegarcia', 'air', 'airborne', 'aircraft', 'airplane', 'airplanecrash', 'airport', 'ajaynaidu', 'aka', 'al', 'alabama', 'alan', 'alanalda', 'alanarkin', 'alanblumenfeld', 'alancumming', 'alandale', 'alannaubach', 'alanrickman', 'alanruck', 'alantudyk', 'alaska', 'albert', 'albertbrooks', 'albertfinney', 'alberthall', 'alcatraz', 'alcohol', 'alcoholabuse', 'alcoholic', 'alcoholism', 'aldenehrenreich', 'alecbaldwin', 'alecguinness', 'alecmccowen', 'alecutgoff', 'alejandrogonzáleziñárritu', 'alessandronivola', 'alex', 'alexander', 'alexanderludwig', 'alexanderpayne', 'alexandersiddig', 'alexanderskarsgård', 'alexanderyassin', 'alexandradaddario', 'alexandraholden', 'alexandramarialara', 'alexapenavega', 'alexborstein', 'alexia', 'alexisarquette', 'alexisbledel', 'alexisknapp', 'alexkendrick', 'alexmacqueen', 'alexmeraz', 'alexpettyfer', 'alexproyas', 'alexrocco', 'alexrussell', 'alfie', 'alfieenoch', 'alfredhitchcock', 'alfredmolina', 'alfrewoodard', 'algeria', 'ali', 'aliashawkat', 'alice', 'alicebraga', 'alicedrummond', 'aliceeve', 'alicekrige', 'aliciasilverstone', 'aliciavikander', 'aliciawitt', 'alien', 'alienation', 'alieninvasion', 'alienlife', 'alienplanet', 'aliens', 'alike', 'alilarter', 'alisonfolland', 'alisonlohman', 'alisonpill', 'alistairpetrie', 'alive', 'allancorduner', 'allangraf', 'allegedly', 'allen', 'allencovert', 'allengarfield', 'alleong', 'alliance', 'allied', 'allies', 'allisonjanney', 'allow', 'allowing', 'allows', 'ally', 'alomawright', 'alongside', 'alpacino', 'alpha', 'alps', 'alroker', 'alter', 'altered', 'altering', 'alternate', 'alternatehistory', 'alternatereality', 'alternative', 'alunarmstrong', 'alysonhannigan', 'alyssa', 'alzheimer', 'amanda', 'amandabynes', 'amandacrew', 'amandapeet', 'amandaplummer', 'amandaseyfried', 'amandawalker', 'amateur', 'amaurynolasco', 'amazing', 'amazon', 'ambassador', 'amber', 'amberhay', 'amberheard', 'ambertamblyn', 'ambervalletta', 'ambition', 'ambitions', 'ambitious', 'ambrosio', 'ambulance', 'ambush', 'ambushed', 'america', 'americaferrera', 'american', 'americanabroad', 'americancivilwar', 'americandream', 'americanfootball', 'americanfootballplayer', 'americans', 'amid', 'amidst', 'aminjoseph', 'amnesia', 'amp', 'amsterdam', 'amusement', 'amusementpark', 'amusing', 'amy', 'amyadams', 'amyaquino', 'amyhill', 'amyirving', 'amypoehler', 'amyryan', 'amysedaris', 'amysmart', 'ana', 'anagasteyer', 'anakin', 'analyst', 'anarchiccomedy', 'anatoletaubman', 'ancient', 'ancientgreece', 'ancientrome', 'ancientworld', 'andersholm', 'anderson', 'andiemacdowell', 'andreafrankle', 'andreamartin', 'andreb', 'andrebraugher', 'andrew', 'andrewadamson', 'andrewbrooke', 'andrewbryniarski', 'andrewdaly', 'andrewdivoff', 'andrewfleming', 'andrewgarfield', 'andrewhavill', 'andrewlincoln', 'andrewniccol', 'andrewstanton', 'andrewtiernan', 'andrewwilson', 'android', 'andrzejbartkowiak', 'andrébenjamin', 'andrédussollier', 'andy', 'andybeckwith', 'andydick', 'andyfickman', 'andygarcía', 'andylau', 'andyrichter', 'andysamberg', 'andyserkis', 'andytennant', 'angel', 'angela', 'angelabassett', 'angelacurran', 'angeles', 'angelinajolie', 'angelo', 'angels', 'anger', 'anglee', 'angry', 'angusbarnett', 'angusmacfadyen', 'angusmacinnes', 'angussampson', 'anguswright', 'anikanonirose', 'animal', 'animalattack', 'animalhorror', 'animals', 'animated', 'animation', 'anime', 'anjelicahuston', 'ann', 'anna', 'annabellasciorra', 'annabelle', 'annachancellor', 'annacolwell', 'annadeaveresmith', 'annafaris', 'annafriel', 'annakendrick', 'annalevine', 'annamariahorsford', 'annamassey', 'annapaquin', 'annapopplewell', 'annasophiarobb', 'annathalbach', 'anncusack', 'anndowd', 'anne', 'annearcher', 'annebancroft', 'annefletcher', 'annehathaway', 'anneheche', 'annemoss', 'annettebening', 'annie', 'anniecorley', 'annieparisse', 'annikapergament', 'anniversary', 'annmagnuson', 'announces', 'annual', 'anonymity', 'anonymous', 'anselelgort', 'ansonmount', 'answer', 'answers', 'ant', 'antarctic', 'antarctica', 'anthology', 'anthony', 'anthonyanderson', 'anthonydaniels', 'anthonyedwards', 'anthonyheald', 'anthonyhopkins', 'anthonyj', 'anthonyjohnson', 'anthonylapaglia', 'anthonymackie', 'anthonymichaelhall', 'anthonymolinari', 'anthonyo', 'anthonyquinn', 'anthonyrapp', 'anthonystewarthead', 'anthonywong', 'anthonyzerbe', 'anthropomorphism', 'anti', 'antics', 'antihero', 'antisemitism', 'antjetraue', 'antoinefuqua', 'anton', 'antonicorone', 'antonio', 'antoniobanderas', 'antony', 'antonyelchin', 'anupamkher', 'anxiety', 'apart', 'apartheid', 'apartment', 'ape', 'apes', 'apocalypse', 'apocalyptic', 'apparent', 'apparently', 'appear', 'appearance', 'appearing', 'appears', 'apple', 'appointed', 'appreciate', 'apprentice', 'approach', 'approached', 'approaches', 'approaching', 'april', 'aprilgrace', 'aquarium', 'arab', 'arbanville', 'arbitrarylaw', 'arch', 'archaeologist', 'archeology', 'archer', 'archery', 'archiepanjabi', 'architect', 'arctic', 'arcy', 'ardenmyrin', 'area', 'aren', 'arena', 'argument', 'ariellekebbel', 'arielwinter', 'arigraynor', 'arise', 'aristocrat', 'arizona', 'arlisshoward', 'arm', 'armandassante', 'armandoriesco', 'armed', 'armiehammer', 'armijo', 'arminmueller', 'armored', 'arms', 'armsdeal', 'armsdealer', 'armstrong', 'army', 'arnold', 'arnoldpinnock', 'arnoldschwarzenegger', 'arranged', 'arrangedmarriage', 'arrangement', 'arranges', 'array', 'arrest', 'arrested', 'arrival', 'arrive', 'arrived', 'arrives', 'arriving', 'arrogant', 'arronshiver', 'arson', 'art', 'artgallery', 'arthur', 'arthurholden', 'arthurj', 'arthurmalet', 'arthurtovey', 'article', 'artifact', 'artificial', 'artificialintelligence', 'artist', 'artistic', 'artists', 'arts', 'asabutterfield', 'ash', 'ashes', 'ashley', 'ashleygreene', 'ashleyjohnson', 'ashleyjudd', 'ashleytisdale', 'ashlieatkinson', 'ashtonkutcher', 'asia', 'asian', 'aside', 'ask', 'asked', 'asking', 'asks', 'aspects', 'aspirations', 'aspiring', 'assassin', 'assassinate', 'assassination', 'assassins', 'assault', 'assigned', 'assignment', 'assist', 'assistance', 'assistant', 'assortment', 'assume', 'assumes', 'asteroid', 'astronaut', 'astronauts', 'asylum', 'atheist', 'athlete', 'athletes', 'athletic', 'atlanta', 'atlantic', 'atoessandoh', 'atomegoyan', 'atomic', 'atomicbomb', 'attack', 'attacked', 'attacking', 'attacks', 'attempt', 'attempted', 'attemptedmurder', 'attempting', 'attempts', 'attempttoescape', 'attend', 'attendant', 'attending', 'attends', 'attention', 'attic', 'attitude', 'attorney', 'attracted', 'attraction', 'attractive', 'aubreyplaza', 'auction', 'audience', 'audiences', 'audition', 'audreytautou', 'august', 'aundrebonds', 'aunjanueellis', 'aunt', 'austin', 'austinpendleton', 'australia', 'australian', 'austria', 'author', 'authorities', 'authority', 'autism', 'auto', 'autobiographical', 'automobileracing', 'avaacres', 'available', 'avenge', 'average', 'avoid', 'avoiding', 'await', 'awaits', 'awake', 'awakens', 'award', 'away', 'awesome', 'awkward', 'awry', 'ax', 'ayeletzurer', 'azizansari', 'azuraskye', 'babe', 'baby', 'bachelor', 'bachrach', 'backdrop', 'backed', 'background', 'backgrounds', 'backstage', 'backyard', 'bad', 'badly', 'bag', 'bahamas', 'bail', 'baileemadison', 'bailey', 'bailing', 'baker', 'balance', 'ball', 'ballet', 'baltimore', 'band', 'bandits', 'bangkok', 'banished', 'bank', 'banker', 'banking', 'bankrobber', 'bankrobbery', 'baptiste', 'bar', 'barbara', 'barbarahershey', 'barbarian', 'barbrastreisand', 'barely', 'bargained', 'barn', 'barnes', 'barney', 'baron', 'barry', 'barrycorbin', 'barrylevinson', 'barrylivingston', 'barrypepper', 'barryshabakahenley', 'barrysonnenfeld', 'bars', 'base', 'baseball', 'based', 'basedonchildren', 'basedoncomicbook', 'basedongraphicnovel', 'basedonnovel', 'basedonplay', 'basedonstagemusical', 'basedontrueevents', 'basedontruestory', 'basedontvseries', 'basedonvideogame', 'basedonyoungadultnovel', 'basement', 'basketball', 'bathtub', 'batman', 'battalion', 'battle', 'battlefield', 'battles', 'battling', 'bay', 'bdwong', 'beach', 'bear', 'bears', 'beast', 'beasts', 'beat', 'beating', 'beats', 'beaubridges', 'beauknapp', 'beaustarr', 'beautiful', 'beautifulwoman', 'beauty', 'bebeneuwirth', 'beccasweitzer', 'becky', 'becominganadult', 'bed', 'bedroom', 'bee', 'beer', 'befriends', 'began', 'begin', 'beginning', 'begins', 'behavior', 'beings', 'belgium', 'belief', 'beliefs', 'believe', 'believed', 'believes', 'believing', 'bell', 'bellathorne', 'belong', 'belongs', 'beloved', 'ben', 'benaffleck', 'benbarnes', 'benchaplin', 'bencross', 'bender', 'bending', 'beneath', 'benedictcumberbatch', 'benedictwong', 'benfalcone', 'benfoster', 'bengazzara', 'beniciodeltoro', 'benitaha', 'benjamin', 'benjaminbratt', 'benkingsley', 'benmendelsohn', 'bennett', 'benschwartz', 'benshenkman', 'benstiller', 'bent', 'benwhishaw', 'berlin', 'bernadettelords', 'bernardhill', 'bernardlee', 'bernardwhite', 'bernie', 'berniemac', 'bertstevens', 'bessflowers', 'best', 'bestfriend', 'bestfriendsinlove', 'bet', 'beth', 'bethgrant', 'betrayal', 'betrayed', 'bettemidler', 'better', 'betty', 'bettywhite', 'beverly', 'beverlyd', 'bible', 'biblical', 'bid', 'big', 'bigger', 'biggest', 'bigotry', 'bike', 'biker', 'bikers', 'bikini', 'bilbo', 'billbailey', 'billbellamy', 'billcamp', 'billcobbs', 'billcondon', 'billduke', 'bille', 'billhader', 'billion', 'billionaire', 'billirwin', 'billmaher', 'billmartinwilliams', 'billmoseley', 'billmurray', 'billnighy', 'billnunn', 'billpaxton', 'billpullman', 'billsmitrovich', 'billy', 'billyblair', 'billybobthornton', 'billyburke', 'billyconnolly', 'billycrudup', 'billycrystal', 'billydeewilliams', 'billymagnussen', 'billyslaughter', 'billywest', 'billyzane', 'bingoo', 'biographical', 'biography', 'biopic', 'bird', 'birdee', 'birth', 'birthday', 'bisexual', 'bisexuality', 'bishop', 'bit', 'bite', 'bitten', 'bitter', 'bittersweet', 'bizarre', 'black', 'blackandwhite', 'blackhole', 'blackmagic', 'blackmail', 'blackpeople', 'blacksmith', 'blade', 'blairunderwood', 'blake', 'blakeclark', 'blakelively', 'blame', 'blart', 'blast', 'blaxploitation', 'blind', 'blinddate', 'blindness', 'blindnessandimpairedvision', 'bliss', 'blizzard', 'block', 'blofeld', 'blog', 'blonde', 'blood', 'bloodsplatter', 'bloodthirsty', 'bloody', 'bloom', 'blossoms', 'blow', 'blows', 'blu', 'blue', 'blues', 'blunt', 'bly', 'blythedanner', 'board', 'boarding', 'boardingschool', 'boat', 'bob', 'bobb', 'bobbalaban', 'bobbergen', 'bobby', 'bobbycannavale', 'bobbyfarrelly', 'bobbymoynihan', 'bobclark', 'bobclendenin', 'bobgunton', 'bobhoskins', 'bobjennings', 'bobodenkirk', 'bobpeterson', 'bobsaget', 'bobstephenson', 'bodhielfman', 'bodies', 'body', 'bodyguard', 'bodyhorror', 'bohemian', 'bokeemwoodbine', 'bold', 'bollywood', 'bolt', 'bomb', 'bomber', 'bombing', 'bond', 'bonds', 'bone', 'bonnieaarons', 'bonniehunt', 'bonniejohnson', 'bonniewright', 'boo', 'book', 'books', 'boots', 'booze', 'border', 'borders', 'bored', 'boredom', 'boring', 'boriskodjoe', 'born', 'boss', 'boston', 'botched', 'bound', 'boundaries', 'bounty', 'bountyhunter', 'bourne', 'bout', 'bowling', 'box', 'boxer', 'boxers', 'boxing', 'boxingmatch', 'boy', 'boyd', 'boydbanks', 'boydholbrook', 'boyfriend', 'boys', 'brad', 'bradanderson', 'bradbird', 'braddourif', 'bradgarrett', 'bradley', 'bradleycooper', 'bradleywhitford', 'bradpitt', 'bradrenfro', 'bradwilliamhenke', 'bradycorbet', 'brain', 'braintumor', 'brainwashing', 'brand', 'brandon', 'brandoncyrus', 'brandonhenschel', 'brandonmolale', 'brandonsmith', 'brandont', 'branscomberichmond', 'brave', 'bravery', 'brazil', 'brazilian', 'break', 'breakdown', 'breaking', 'breakingthefourthwall', 'breaks', 'breakup', 'breast', 'breathing', 'breckinmeyer', 'breeding', 'brendablethyn', 'brendan', 'brendancoyle', 'brendanfletcher', 'brendanfraser', 'brendangleeson', 'brendansextoniii', 'brennan', 'brent', 'brentbriscoe', 'brentonthwaites', 'brentspiner', 'brettbaker', 'brettcullen', 'brettratner', 'brettrice', 'brewing', 'brian', 'briananthonywilson', 'brianblessed', 'briancox', 'briandennehy', 'briandepalma', 'briandoyle', 'brianhelgeland', 'brianhowe', 'brianhuskey', 'brianj', 'brianlevant', 'brianlibby', 'brianmarkinson', 'briannabrown', 'briano', 'brianposehn', 'brianrobbins', 'briansteele', 'brianstepanek', 'briantee', 'brianturk', 'brianvanholt', 'bride', 'bridesmaid', 'bridge', 'bridgetfonda', 'bridgetmoynahan', 'bridgettewilson', 'brief', 'brielarson', 'brien', 'bright', 'brilliant', 'bring', 'bringing', 'brings', 'brink', 'britain', 'british', 'britishsecretservice', 'brittanymurphy', 'brittanysnow', 'brittrobertson', 'broadway', 'broke', 'broken', 'broker', 'bronaghgallagher', 'bronsonwebb', 'bronx', 'brookeshields', 'brookesmith', 'brooklyn', 'brooks', 'broom', 'brothel', 'brother', 'brotherbrotherrelationship', 'brothers', 'brothersisterrelationship', 'brought', 'brown', 'bruce', 'brucealtman', 'brucecampbell', 'brucedavison', 'brucedern', 'brucegreenwood', 'brucemcfee', 'brucemcgill', 'brucespence', 'brucewillis', 'brunoganz', 'brunokirby', 'brutal', 'brutality', 'brutally', 'bryan', 'bryancranston', 'bryansinger', 'brycedallashoward', 'bríanf', 'buck', 'buckley', 'budapest', 'budcort', 'buddies', 'buddy', 'buddycomedy', 'buddycop', 'budget', 'build', 'building', 'builds', 'built', 'bullet', 'bully', 'bullying', 'bum', 'bumbling', 'bunch', 'bunker', 'bunny', 'bureaucracy', 'burglar', 'buried', 'burke', 'burlesque', 'burned', 'burnedalive', 'burnelltucker', 'burngorman', 'burns', 'burt', 'burtreynolds', 'bury', 'bus', 'bush', 'business', 'businessman', 'businesswoman', 'bust', 'busy', 'butch', 'butcher', 'butler', 'butt', 'button', 'buy', 'buzz', 'byrne', 'cabin', 'cable', 'caesar', 'cage', 'caine', 'cairo', 'cal', 'caleb', 'caleblandryjones', 'california', 'callahan', 'called', 'calling', 'calls', 'callumkeithrennie', 'calm', 'calvin', 'camcorder', 'came', 'camera', 'cameraman', 'cameras', 'cameron', 'cameronbright', 'cameroncrowe', 'camerondiaz', 'camgigandet', 'camillabelle', 'camp', 'campaign', 'campbell', 'campbellscott', 'camping', 'campus', 'camrynmanheim', 'canada', 'canadian', 'cancer', 'candidate', 'candlelightvigil', 'candy', 'canine', 'cannabis', 'cannibal', 'canuxploitation', 'capable', 'caper', 'capital', 'capitalism', 'capt', 'captain', 'captive', 'captors', 'capture', 'captured', 'captures', 'capturing', 'car', 'caraccident', 'caradelevingne', 'caraseymour', 'carbomb', 'carchase', 'carcrash', 'card', 'care', 'career', 'careers', 'carefree', 'cares', 'caretaker', 'careymulligan', 'cargo', 'caribbean', 'caricevanhouten', 'caring', 'carjourney', 'carl', 'carlagallo', 'carlagugino', 'carlciarfalio', 'carlo', 'carlosalazraqui', 'carloscarrasco', 'carlosgómez', 'carlosponce', 'carlossaldanha', 'carlreiner', 'carlweathers', 'carlyschroeder', 'carmen', 'carmenargenziano', 'carmenejogo', 'carmenelectra', 'carnage', 'carnival', 'carol', 'carolina', 'carolineaaron', 'carolinedhavernas', 'carolinegoodall', 'carolkane', 'carolsutton', 'carpenter', 'carrace', 'carrie', 'carriefisher', 'carriefleming', 'carriepreston', 'carroll', 'carry', 'carrying', 'cars', 'cartel', 'carter', 'cartoon', 'caruso', 'cary', 'caryelwes', 'casanvar', 'case', 'cases', 'casey', 'caseyaffleck', 'caseysiemaszko', 'caseywilson', 'cash', 'casino', 'cast', 'castle', 'castration', 'casual', 'cat', 'cataclysm', 'catalinasandinomoreno', 'catastrophe', 'catastrophic', 'catch', 'catches', 'cateblanchett', 'catherine', 'catherinedeneuve', 'catherinedyer', 'catherinehardwicke', 'catherinekeener', 'catherinemccormack', 'catherineo', 'catherinereitman', 'catherinezeta', 'cathey', 'catholic', 'catholicism', 'catholicpriest', 'cathymoriarty', 'cats', 'cattle', 'caught', 'cause', 'caused', 'causes', 'causing', 'cavalry', 'cave', 'cavemen', 'caydenboyd', 'cchpounder', 'cedrictheentertainer', 'cedricyarbrough', 'celebrate', 'celebrated', 'celebration', 'celebrity', 'celiaimrie', 'celiaweston', 'cell', 'cellphone', 'cemetery', 'center', 'centered', 'centers', 'central', 'centuries', 'century', 'ceo', 'ceremony', 'certain', 'cesar', 'cgi', 'chad', 'chadbrummett', 'chaddonella', 'chadlindberg', 'chadmichaelmurray', 'chadwickboseman', 'chagrin', 'chain', 'chainsaw', 'chair', 'challenge', 'challenged', 'challenges', 'challenging', 'chamber', 'chambers', 'champion', 'championship', 'chance', 'chancekelly', 'chances', 'chandlercanterbury', 'change', 'changed', 'changes', 'changing', 'channel', 'channingtatum', 'chaolichi', 'chaos', 'chaotic', 'chapman', 'chapter', 'character', 'characters', 'charge', 'charged', 'charges', 'charismatic', 'charity', 'charles', 'charlescyphers', 'charlesdance', 'charlesdurning', 'charlesfleischer', 'charlesgrodin', 'charleslane', 'charlesmartinsmith', 'charlesnapier', 'charless', 'charlie', 'charlieadler', 'charlieday', 'charliedell', 'charliehunnam', 'charliemurphy', 'charlierowe', 'charliesheen', 'charlizetheron', 'charlotte', 'charlotteayanna', 'charlotterampling', 'charltonheston', 'charm', 'charming', 'chase', 'chased', 'chases', 'chasesandraces', 'chauffeur', 'chazzpalminteri', 'cheating', 'cheechmarin', 'cheerleader', 'chef', 'chelahhorsdal', 'chelcieross', 'chemical', 'cher', 'cherioteri', 'cherryjones', 'cherylhines', 'chevychase', 'chicago', 'chicken', 'chief', 'child', 'childabuse', 'childhero', 'childhood', 'childhoodmemory', 'childhoodtrauma', 'childprodigy', 'children', 'chilling', 'chimcbride', 'chimp', 'china', 'chinatown', 'chinese', 'chip', 'chipmunks', 'chiwetelejiofor', 'chloe', 'chloëgracemoretz', 'chloësevigny', 'chocolate', 'choice', 'choices', 'choir', 'chon', 'choose', 'chooses', 'chopper', 'chosen', 'chosenone', 'chowyun', 'chris', 'chrisbauer', 'chrisbrowning', 'chriscolumbus', 'chriscooper', 'chriselliott', 'chrisellis', 'chrisevans', 'chrishemsworth', 'chriskattan', 'chrisklein', 'chrismarquette', 'chrismessina', 'chrismiller', 'chrismulkey', 'chriso', 'chrisowen', 'chrisparnell', 'chrispenn', 'chrispine', 'chrispratt', 'chrisrock', 'chrissanders', 'christ', 'christacampbell', 'christian', 'christianbale', 'christianberkel', 'christianclemenson', 'christianity', 'christianmckay', 'christianslater', 'christianstolte', 'christinaapplegate', 'christinamilian', 'christinaricci', 'christine', 'christinebaranski', 'christinetaylor', 'christmas', 'christmaseve', 'christmasparty', 'christmastree', 'christopher', 'christopheradamson', 'christopherberry', 'christopherdenham', 'christophereccleston', 'christopherevanwelch', 'christopherfairbank', 'christopherguest', 'christopherknights', 'christopherlambert', 'christopherlee', 'christopherlloyd', 'christophermcdonald', 'christophermeloni', 'christophermintz', 'christophernolan', 'christopherplummer', 'christopherwalken', 'christophwaltz', 'christucker', 'chriswedge', 'chrisweitz', 'chriswilson', 'chronicle', 'chronicles', 'chuck', 'chuckrussell', 'church', 'cia', 'ciaránhinds', 'cicelytyson', 'cigarette', 'cigarettesmoking', 'cigarsmoking', 'cillianmurphy', 'cinderella', 'cindy', 'cinema', 'circle', 'circuit', 'circumstances', 'circus', 'cities', 'citizens', 'city', 'civil', 'civilian', 'civilians', 'civilization', 'civilwar', 'clad', 'claim', 'claimed', 'claiming', 'claims', 'clair', 'claire', 'clairedanes', 'claireforlani', 'clan', 'clancybrown', 'clare', 'clarencewilliamsiii', 'clark', 'clarkduke', 'clarkepeters', 'clarkgregg', 'clarkmiddleton', 'clash', 'class', 'classdifferences', 'classes', 'classic', 'classified', 'classmate', 'classmates', 'classroom', 'classsociety', 'claude', 'claudevandamme', 'claudia', 'claus', 'claustrophobia', 'clay', 'claychamberlin', 'claynecrawford', 'clayton', 'cleaduvall', 'clean', 'clear', 'clemcaserta', 'clementvonfranckenstein', 'clerk', 'clever', 'client', 'clients', 'cliff', 'cliffcurtis', 'cliffrobertson', 'cliftoncollinsjr', 'cliftonjames', 'cliftonpowell', 'climate', 'climb', 'climbing', 'clintdyer', 'clinteastwood', 'clinthoward', 'clique', 'clivemerrison', 'cliveowen', 'clock', 'clone', 'cloning', 'clorisleachman', 'close', 'closed', 'closer', 'closest', 'closing', 'closure', 'cloud', 'clown', 'clowning', 'club', 'clubs', 'clue', 'clueless', 'clues', 'clutches', 'clydekusatsu', 'coach', 'coast', 'coastal', 'cobb', 'cobiesmulders', 'cobra', 'cocaine', 'cocky', 'code', 'codes', 'cody', 'codycameron', 'coe', 'coffin', 'cohen', 'col', 'cold', 'coldwar', 'cole', 'colehauser', 'coleman', 'coleridge', 'colin', 'colinfarrell', 'colinfirth', 'colinfoo', 'colinhanks', 'colinquinn', 'colinsalmon', 'colinstinton', 'collapse', 'collapses', 'colleague', 'colleagues', 'collect', 'collection', 'collective', 'collector', 'colleencamp', 'college', 'collettewolfe', 'collide', 'collins', 'collision', 'colmfeore', 'colmmeaney', 'colombia', 'colonel', 'colonialism', 'colony', 'color', 'colorado', 'colorful', 'columbusshort', 'columnist', 'coma', 'combat', 'combination', 'combined', 'come', 'comeback', 'comedian', 'comedic', 'comedy', 'comes', 'comet', 'comfort', 'comfortable', 'comic', 'comicbook', 'comics', 'coming', 'comingofage', 'comingout', 'command', 'commander', 'commanding', 'commando', 'commandos', 'commercial', 'commissioned', 'commit', 'commitment', 'commits', 'committed', 'common', 'communicate', 'communication', 'communism', 'communist', 'community', 'companion', 'companions', 'company', 'compete', 'competing', 'competition', 'competitive', 'complete', 'completely', 'complex', 'complicated', 'complications', 'composer', 'compound', 'compton', 'compulsive', 'computer', 'computervirus', 'conan', 'concentrationcamp', 'concerning', 'concerns', 'concert', 'conchataferrell', 'conclusion', 'condition', 'conditions', 'conductor', 'confederate', 'confession', 'confidence', 'confident', 'confined', 'conflict', 'conflicts', 'confront', 'confrontation', 'confronted', 'confronts', 'confused', 'congress', 'congressman', 'conman', 'connect', 'connected', 'connecticut', 'connection', 'connections', 'connects', 'connell', 'conner', 'connery', 'connie', 'connienielsen', 'connieray', 'connor', 'conquer', 'conquest', 'conrad', 'conradgoode', 'conradvernon', 'conscience', 'consciousness', 'consequences', 'conservative', 'considered', 'considers', 'conspiracy', 'conspiracyofmurder', 'conspire', 'constant', 'constantly', 'construction', 'consumed', 'contact', 'contain', 'containing', 'contains', 'contemporary', 'contend', 'content', 'contest', 'continent', 'continue', 'continued', 'continues', 'continuing', 'contract', 'contracts', 'control', 'controlled', 'controlling', 'controls', 'controversial', 'convent', 'convention', 'converge', 'conversation', 'conversations', 'convict', 'convicted', 'convicts', 'convince', 'convinced', 'convinces', 'cook', 'cooking', 'cool', 'cooper', 'cooperate', 'cooperthornton', 'cop', 'cope', 'cops', 'corbinbernsen', 'corbinbleu', 'core', 'coreyburton', 'coreyfeldman', 'coreyjohnson', 'coreystoll', 'corky', 'corleone', 'corner', 'corners', 'corporate', 'corporation', 'corps', 'corpse', 'corrupt', 'corruption', 'coryhardrict', 'corymonteith', 'cosmos', 'cost', 'costasmandylor', 'costume', 'costumes', 'cottage', 'cotton', 'couldn', 'counselor', 'count', 'countdown', 'countess', 'countless', 'countries', 'country', 'countryhouse', 'countrymusic', 'countryside', 'county', 'coup', 'coupd', 'couple', 'couples', 'courage', 'courageous', 'course', 'court', 'courtcase', 'courteneycox', 'courtneyb', 'courtroom', 'courts', 'cousin', 'cover', 'covert', 'coveted', 'covey', 'cow', 'cowardice', 'cowardliness', 'cowboy', 'cox', 'crab', 'crack', 'cracks', 'craft', 'craig', 'craigbierko', 'craigferguson', 'craigjohnson', 'craigparkinson', 'craigrobinson', 'craigt', 'crane', 'crash', 'crashed', 'crashes', 'crashing', 'crawford', 'crazed', 'crazy', 'create', 'created', 'creates', 'creating', 'creation', 'creative', 'creator', 'creators', 'creature', 'creatures', 'credit', 'creepy', 'creesummer', 'crew', 'crime', 'crimefighter', 'crimes', 'criminal', 'criminals', 'crisis', 'crispinglover', 'critical', 'critically', 'crocodile', 'crook', 'crooked', 'cross', 'crossdressing', 'crossed', 'crosses', 'crossroads', 'crowd', 'crown', 'crucifixion', 'cruel', 'cruelty', 'cruise', 'crusade', 'crush', 'cruz', 'crying', 'crystal', 'crystallowe', 'crystalthemonkey', 'cuba', 'cubagoodingjr', 'cube', 'cullen', 'cult', 'cultfilm', 'cultural', 'culture', 'cultureclash', 'cunning', 'cup', 'cure', 'curiosity', 'curious', 'current', 'currently', 'curse', 'cursed', 'curtclendenin', 'curtis', 'curtisarmstrong', 'curtishanson', 'cusp', 'custody', 'customers', 'cut', 'cuts', 'cutthroat', 'cuttingthecord', 'cyberpunk', 'cyborg', 'cynic', 'cynical', 'cynthianixon', 'cynthiastevenson', 'da', 'dabneycoleman', 'dad', 'dagger', 'dagmaradomińczyk', 'daily', 'dakotafanning', 'dakotajohnson', 'dale', 'daledickey', 'daledye', 'daley', 'dallasroberts', 'damage', 'damianyoung', 'damien', 'damionpoitier', 'damon', 'damonwayansjr', 'dan', 'dana', 'danacarvey', 'danagourrier', 'danaivey', 'danalee', 'danaykroyd', 'danbittner', 'dancallahan', 'dance', 'dancer', 'dancers', 'dancing', 'danduran', 'danecook', 'danedehaan', 'danerhodes', 'danfogler', 'danger', 'dangerous', 'dangerously', 'dangers', 'danhedaya', 'daniaramirez', 'daniel', 'danielbacon', 'danielbrühl', 'danielcraig', 'danielcudmore', 'danieldaekim', 'danielday', 'danielfranzese', 'danielgreene', 'danielkash', 'danielleharris', 'daniellondon', 'danielmays', 'danielradcliffe', 'danielroebuck', 'daniels', 'danielstern', 'danieltay', 'danielvonbargen', 'danielwestwood', 'danish', 'danmarshall', 'dannikatz', 'danny', 'dannyaiello', 'dannyboyle', 'dannydevito', 'dannyglover', 'dannyhuston', 'dannymann', 'dannymcbride', 'dannynucci', 'dannytrejo', 'dannywoodburn', 'dano', 'danpatrick', 'darcy', 'dare', 'daring', 'dark', 'darkcomedy', 'darkest', 'darkness', 'darrenaronofsky', 'darylhannah', 'darylmitchell', 'darylsabara', 'dashing', 'dashmihok', 'date', 'dates', 'dating', 'daughter', 'daughters', 'dave', 'davechappelle', 'davefoley', 'davefranco', 'davegoelz', 'davelegeno', 'davesheridan', 'david', 'davida', 'davidalangrier', 'davidandrews', 'davidarquette', 'davidayer', 'davidbailie', 'davidbamber', 'davidbowers', 'davidbowie', 'davidbradley', 'davidc', 'davidcarradine', 'davidcaruso', 'davidclennon', 'davidcostabile', 'davidcronenberg', 'davidcross', 'daviddenman', 'davidduchovny', 'davide', 'davidfincher', 'davidgordongreen', 'davidharbour', 'davidhemmings', 'davidherman', 'davidhewlett', 'davidhouse', 'davidhydepierce', 'davidj', 'davidjensen', 'davidkeith', 'davidkoechner', 'davidkoepp', 'davidkrumholtz', 'davidl', 'davidlewis', 'davidlynch', 'davidmorrissey', 'davidmorse', 'davido', 'davidogdenstiers', 'davidoyelowo', 'davidp', 'davidpasquesi', 'davidpatrickkelly', 'davidpaymer', 'davidproval', 'davidramsey', 'davidrasche', 'davidryall', 'davids', 'davidschneider', 'davidschofield', 'davidschwimmer', 'davidson', 'davidspade', 'davidsterne', 'davidstrathairn', 'davidthewlis', 'davidvadim', 'davidwain', 'davidwarner', 'davidwarshofsky', 'davidwenham', 'davidzayas', 'davidzucker', 'davies', 'davis', 'dawn', 'daxshepard', 'day', 'days', 'dc', 'dccomics', 'dea', 'dead', 'deadbody', 'deadliest', 'deadly', 'deaf', 'deal', 'dealer', 'dealers', 'dealing', 'dealings', 'deals', 'dean', 'deancain', 'deannorris', 'deanstockwell', 'death', 'deathofafriend', 'deathoffather', 'deathpenalty', 'deaths', 'debbiereynolds', 'debbimorgan', 'debimazar', 'deborahkaraunger', 'deborahrush', 'debramonk', 'debt', 'debut', 'decade', 'decades', 'decapitation', 'deceased', 'deceit', 'deception', 'decide', 'decided', 'decides', 'decision', 'decisions', 'dedicated', 'deebradleybaker', 'deeds', 'deep', 'deeper', 'deeply', 'deeproy', 'defeat', 'defeated', 'defeating', 'defend', 'defense', 'deforestkelley', 'deformed', 'deirdreo', 'deke', 'deliver', 'delivers', 'delivery', 'dell', 'delroylindo', 'delusion', 'demand', 'demanding', 'demands', 'demetrigoritsas', 'demimoore', 'demiánbichir', 'demon', 'demonic', 'demonicpossession', 'demons', 'dendrietaylor', 'deneentyler', 'denholmelliott', 'deniserichards', 'denisleary', 'deniso', 'denmark', 'dennis', 'dennisdugan', 'dennisfarina', 'dennishaysbert', 'dennishopper', 'dennisquaid', 'dent', 'dentist', 'denzelwashington', 'deobiaoparei', 'department', 'depicts', 'deportation', 'depressed', 'depression', 'depths', 'deputy', 'deranged', 'deraydavis', 'derek', 'derekjacobi', 'derekluke', 'derekmears', 'dermotmulroney', 'descend', 'descends', 'descent', 'desert', 'deserted', 'design', 'designed', 'designer', 'desire', 'desires', 'desk', 'desmondharrington', 'desmondllewelyn', 'desolate', 'despair', 'desperate', 'desperately', 'desperation', 'despite', 'destination', 'destined', 'destiny', 'destroy', 'destroyed', 'destroying', 'destroys', 'destruction', 'destructive', 'details', 'detective', 'detectives', 'detention', 'determination', 'determine', 'determined', 'detroit', 'deuce', 'devastated', 'devastating', 'develop', 'developed', 'developer', 'developing', 'development', 'develops', 'dever', 'device', 'devil', 'devilish', 'devinratray', 'devious', 'devonbostick', 'devonmurray', 'devonsawa', 'devoted', 'dexterdarden', 'dexterfletcher', 'diabolical', 'diagnosed', 'dialogue', 'diamant', 'diamond', 'diana', 'diane', 'dianekeaton', 'dianekruger', 'dianelane', 'dianemizota', 'dianevenora', 'diannewiest', 'diary', 'dick', 'dickcavett', 'dickens', 'dickerson', 'dickmiller', 'dickvandyke', 'dictator', 'did', 'didn', 'die', 'died', 'diedrichbader', 'diego', 'diegoluna', 'dies', 'differences', 'different', 'difficult', 'digging', 'dignity', 'dil', 'dilemma', 'dinameyer', 'dinaspybey', 'diner', 'dinner', 'dinosaur', 'dinosaurs', 'diplomat', 'dire', 'direct', 'directed', 'direction', 'director', 'directorial', 'directors', 'dirt', 'dirty', 'dirtycop', 'disabled', 'disappear', 'disappearance', 'disappearances', 'disappeared', 'disappears', 'disaster', 'disastermovie', 'disastrous', 'discipline', 'disco', 'discover', 'discovered', 'discovering', 'discovers', 'discovery', 'discrimination', 'disease', 'disfigured', 'disfigurement', 'disgraced', 'disguise', 'dishonesty', 'disillusioned', 'disney', 'disorder', 'disparate', 'dispatched', 'distance', 'distant', 'distress', 'district', 'distrust', 'disturbed', 'disturbing', 'ditch', 'diva', 'divided', 'diving', 'division', 'divorce', 'divorced', 'dj', 'djimonhounsou', 'djqualls', 'dna', 'doc', 'doctor', 'doctors', 'document', 'documentary', 'documents', 'dodge', 'does', 'doesn', 'dog', 'dogs', 'doing', 'doll', 'dollar', 'dollars', 'dolphin', 'dolphins', 'dolphlundgren', 'dom', 'domdeluise', 'domenicklombardozzi', 'domestic', 'domesticviolence', 'domhnallgleeson', 'dominance', 'dominated', 'domination', 'dominiccolón', 'dominiccooper', 'dominicpurcell', 'dominicwest', 'dominiquepinon', 'don', 'donald', 'donaldfaison', 'donaldfullilove', 'donaldglover', 'donaldpetrie', 'donaldpleasence', 'donaldsumpter', 'donaldsutherland', 'donaldtrump', 'donallogue', 'doncheadle', 'donharvey', 'donlake', 'donmckellar', 'donmcmanus', 'donnaduplantier', 'donnamarierecco', 'donnamurphy', 'donnell', 'donniewahlberg', 'donnieyen', 'donnovello', 'donohue', 'donovan', 'donrickles', 'donyesso', 'doom', 'doomed', 'doomsday', 'door', 'doorstep', 'doppelganger', 'dorian', 'dorianmissick', 'dorisroberts', 'dorothy', 'dorsey', 'double', 'doublecross', 'doublelife', 'doubt', 'doubts', 'doug', 'doughutchison', 'dougjones', 'douglas', 'douglasm', 'douglasmcgrath', 'douglassmith', 'dougliman', 'dougrayscott', 'dowd', 'downfall', 'dr', 'dracula', 'drag', 'dragon', 'drake', 'drakebell', 'drama', 'dramatic', 'drastic', 'draw', 'drawing', 'drawn', 'draws', 'dre', 'dream', 'dreamed', 'dreams', 'dreamsequence', 'drenadeniro', 'dress', 'drew', 'drewbarrymore', 'drewsnyder', 'dreyfus', 'drifter', 'drink', 'drinking', 'drive', 'driven', 'driver', 'drives', 'driving', 'drone', 'drop', 'dropped', 'drops', 'drowning', 'drug', 'drugabuse', 'drugaddict', 'drugaddiction', 'drugcartel', 'drugdealer', 'druglord', 'drugs', 'drugsmuggle', 'drugtraffic', 'druguse', 'drummer', 'drunk', 'drunken', 'du', 'dualidentity', 'duanemartin', 'duanewhitaker', 'dubbed', 'dublin', 'dubtaylor', 'duck', 'dude', 'duel', 'duffy', 'duke', 'dumped', 'dumps', 'duncan', 'dundee', 'dunn', 'dunne', 'duo', 'duringcreditsstinger', 'dust', 'dustinhoffman', 'dustinmilligan', 'dutch', 'duties', 'dutton', 'duty', 'dwarves', 'dwaynejohnson', 'dwightyoakam', 'dwindling', 'dying', 'dyinganddeath', 'dylan', 'dylanbaker', 'dylankenin', 'dylanmcdermott', 'dynamic', 'dynasty', 'dysfunctional', 'dysfunctionalfamily', 'dystopia', 'dystopicfuture', 'eager', 'earlbrown', 'earlier', 'early', 'earn', 'earned', 'earth', 'earthquake', 'easily', 'east', 'eastern', 'easy', 'eating', 'ebonmoss', 'eccentric', 'economic', 'economics', 'economy', 'ed', 'edasner', 'edbegleyjr', 'eddie', 'eddiecibrian', 'eddiedeezen', 'eddiegriffin', 'eddieizzard', 'eddiej', 'eddiejemison', 'eddiejones', 'eddiekayethomas', 'eddiemarsan', 'eddiemurphy', 'eddieredmayne', 'eddierouse', 'edgale', 'edgar', 'edgarramírez', 'edgarwright', 'edge', 'edharris', 'edhelms', 'ediemcclurg', 'edigathegi', 'editor', 'edlauter', 'edo', 'education', 'edward', 'edwardburns', 'edwardfox', 'edwardhardwicke', 'edwardherrmann', 'edwardjamesolmos', 'edwardnorton', 'edwards', 'edwardzwick', 'eerie', 'effect', 'effects', 'effort', 'efforts', 'egg', 'ego', 'egypt', 'egyptian', 'eileenatkins', 'el', 'elaborate', 'eldenhenson', 'elderly', 'election', 'electioncampaign', 'elements', 'elena', 'elephant', 'elevator', 'elia', 'eliaskoteas', 'elijahwood', 'elimarienthal', 'eliminate', 'eliroth', 'elisabethmoss', 'elisabethshue', 'elisagabrielli', 'eliseneal', 'elishacuthbert', 'elite', 'eliwallach', 'elizabeth', 'elizabethbanks', 'elizabethberkley', 'elizabethberrington', 'elizabethhurley', 'elizabethmarvel', 'elizabethmcgovern', 'elizabethmitchell', 'elizabetholsen', 'elizabethperkins', 'elizabethpeña', 'elizabethreaser', 'elizadushku', 'ella', 'elle', 'ellefanning', 'ellenbarkin', 'ellenburstyn', 'ellenpage', 'ellie', 'elliekemper', 'elliot', 'elliott', 'elliottgould', 'ellis', 'elm', 'elmo', 'eloycasados', 'elpidiacarrillo', 'elsa', 'elude', 'elusive', 'elves', 'elvis', 'elwin', 'elyabaskin', 'em', 'embark', 'embarking', 'embarks', 'embassy', 'embethdavidtz', 'embroiled', 'emerald', 'emerge', 'emergency', 'emerges', 'emigration', 'emilehirsch', 'emilioechevarría', 'emilioestevez', 'emiliorivera', 'emily', 'emilyalynlind', 'emilyblunt', 'emilybrowning', 'emilydeschanel', 'emilymeade', 'emilymortimer', 'emilywatson', 'eminem', 'emjayanthony', 'emma', 'emmanuellechriqui', 'emmaroberts', 'emmastone', 'emmathompson', 'emmawatson', 'emmetwalsh', 'emmyrossum', 'emotion', 'emotional', 'emotionally', 'emotions', 'emperor', 'empire', 'employee', 'employees', 'employer', 'employs', 'empowerment', 'empress', 'encounter', 'encounters', 'end', 'ended', 'ending', 'endless', 'endoftheworld', 'endrehules', 'ends', 'enduring', 'enemies', 'enemy', 'energy', 'enforcement', 'engage', 'engaged', 'engagement', 'engages', 'engaging', 'engineer', 'england', 'english', 'englishman', 'enigma', 'enigmatic', 'enjoy', 'enjoying', 'enlist', 'enlisted', 'enlists', 'enormous', 'enricocolantoni', 'ensemble', 'ensemblecast', 'ensues', 'ensure', 'entangled', 'enter', 'enterprise', 'enters', 'entertainer', 'entertaining', 'entertainment', 'entire', 'entirely', 'entity', 'entrepreneur', 'environment', 'environmental', 'envy', 'enzocilenti', 'epathamerkerson', 'epic', 'epidemic', 'epilepsy', 'episode', 'equal', 'equally', 'equipment', 'er', 'era', 'eric', 'ericbalfour', 'ericbana', 'ericbogosian', 'ericdarnell', 'ericedelstein', 'ericidle', 'erickavari', 'erickeenleyside', 'ericmabius', 'ericroberts', 'ericstoltz', 'erikknudsen', 'erin', 'erinnbartlett', 'ernest', 'ernestborgnine', 'erniehudson', 'erniereyes', 'erotic', 'eroticism', 'erupts', 'escapade', 'escape', 'escaped', 'escapefromprison', 'escapes', 'escaping', 'escort', 'especially', 'espionage', 'esprit', 'essenceatkins', 'essiedavis', 'establish', 'established', 'establishment', 'estate', 'esteem', 'esther', 'estherscott', 'estranged', 'etat', 'eternal', 'ethan', 'ethanembry', 'ethanhawke', 'ethansuplee', 'eugenelevy', 'eugenelipinski', 'europe', 'european', 'eva', 'evacuation', 'evade', 'evagreen', 'evalongoria', 'evamendes', 'evangelinelilly', 'evanjones', 'evanpeters', 'evanrachelwood', 'evans', 'eve', 'evening', 'event', 'events', 'eventually', 'everettmcgill', 'evermore', 'evers', 'everybody', 'everyday', 'evidence', 'evil', 'evolution', 'ewanmcgregor', 'ewenbremner', 'ex', 'exact', 'exactly', 'examines', 'exchange', 'excitement', 'exciting', 'exclusive', 'executed', 'execution', 'executive', 'exercise', 'exhibit', 'exile', 'exiled', 'exist', 'existed', 'existence', 'existentialism', 'exists', 'exorcism', 'exorcisms', 'exotic', 'exoticisland', 'expect', 'expectations', 'expected', 'expects', 'expedition', 'expendables', 'expensive', 'expensiverestaurant', 'experience', 'experienced', 'experiences', 'experiencing', 'experiment', 'expert', 'experts', 'explain', 'explodes', 'exploitation', 'exploits', 'exploration', 'explore', 'explorer', 'explorers', 'explores', 'exploring', 'explosion', 'explosive', 'explosives', 'expose', 'exposed', 'exposes', 'exsoldier', 'extinction', 'extortion', 'extra', 'extramaritalaffair', 'extraordinary', 'extraterrestrial', 'extraterrestrialtechnology', 'extreme', 'extremely', 'extremeviolence', 'eye', 'eyes', 'ezrabuzzington', 'ezramiller', 'fable', 'fabled', 'face', 'faced', 'faces', 'facility', 'facing', 'fact', 'factions', 'factory', 'fading', 'fail', 'failed', 'failing', 'fails', 'fairuzabalk', 'fairy', 'fairytale', 'faith', 'faithful', 'faizonlove', 'fake', 'falcon', 'fall', 'fallen', 'falling', 'fallinginlove', 'falls', 'falseidentity', 'falselyaccused', 'fame', 'famed', 'familiar', 'families', 'family', 'familyconflict', 'familyfeud', 'familyholiday', 'familyrelationships', 'familyvacation', 'famkejanssen', 'famous', 'fan', 'fanatic', 'fangvamp', 'fans', 'fantasies', 'fantastic', 'fantastical', 'fantasy', 'fantasyworld', 'far', 'farantahir', 'farce', 'farewell', 'farm', 'farmer', 'farmers', 'farmhouse', 'fascinated', 'fascism', 'fascist', 'fashion', 'fashioned', 'fast', 'faster', 'fastest', 'fat', 'fatal', 'fate', 'fated', 'fateful', 'father', 'fatherdaughterrelationship', 'fatherfigure', 'fatherhood', 'fathers', 'fathersonrelationship', 'favor', 'favorite', 'favors', 'fayedunaway', 'fbi', 'fbiagent', 'fear', 'feared', 'fearing', 'fearless', 'fears', 'fearsome', 'feature', 'features', 'featuring', 'federal', 'federation', 'feel', 'feeling', 'feelings', 'feels', 'feet', 'feisty', 'felicia', 'felicityhuffman', 'felix', 'fell', 'fellow', 'female', 'femalecorpse', 'femalefriendship', 'femalenudity', 'femaleprotagonist', 'females', 'femmefatale', 'fend', 'fenellawoolgar', 'feralchild', 'fergie', 'ferguson', 'fernandez', 'ferocious', 'festival', 'fetish', 'feud', 'fi', 'fiancee', 'fiancé', 'fiancée', 'fiction', 'fictional', 'fictionalplace', 'field', 'fields', 'fierce', 'fiercely', 'fifth', 'fight', 'fighter', 'fighters', 'fighting', 'fights', 'figure', 'figures', 'figuring', 'files', 'filled', 'film', 'filmdirector', 'filmed', 'filming', 'filmmaker', 'filmmakers', 'filmmaking', 'filmnoir', 'filmproducer', 'films', 'final', 'finale', 'finally', 'finances', 'financial', 'finch', 'finding', 'finds', 'fine', 'finish', 'finished', 'finn', 'finnwittrock', 'fiona', 'fionashaw', 'fionnulaflanagan', 'firearm', 'fired', 'firemen', 'fireworks', 'firm', 'firstlove', 'firsttime', 'fish', 'fisher', 'fisherman', 'fisherstevens', 'fishing', 'fishoutofwater', 'fistfight', 'fit', 'fitzgerald', 'fix', 'flame', 'flash', 'flashback', 'flat', 'flea', 'fledgling', 'flee', 'fleeing', 'flees', 'flesh', 'flies', 'flight', 'fling', 'flint', 'flirt', 'flood', 'flooding', 'floor', 'florida', 'florist', 'flower', 'floyd', 'fly', 'flying', 'flyingsaucer', 'flynn', 'focus', 'focused', 'focuses', 'fog', 'foil', 'foley', 'folk', 'follow', 'followed', 'following', 'follows', 'food', 'foot', 'footage', 'football', 'footchase', 'forbeskb', 'forbidden', 'forbiddenlove', 'force', 'forced', 'forces', 'forcing', 'ford', 'foreign', 'forest', 'forestwhitaker', 'forever', 'forget', 'forgiveness', 'form', 'formed', 'formidable', 'forms', 'formula', 'fort', 'fortune', 'fortuneteller', 'forward', 'foster', 'fought', 'foul', 'foundfootage', 'fourteen', 'fourth', 'fox', 'fragile', 'framed', 'france', 'francesbay', 'francesconroy', 'francesdelatour', 'francesfisher', 'francesmcdormand', 'franchise', 'francis', 'francisco', 'francisfordcoppola', 'franconero', 'frank', 'frankadonis', 'frankapotente', 'frankcollison', 'frankcoraci', 'frankenstein', 'frankgrillo', 'frankharper', 'frankie', 'frankiefaison', 'frankiemuniz', 'franklangella', 'frankmarshall', 'frankmcrae', 'frankmedrano', 'frankoz', 'frankpesce', 'frankvincent', 'frankwelker', 'frankwhaley', 'frankwood', 'fraternity', 'fraud', 'freak', 'fred', 'fredarmisen', 'freddaltonthompson', 'freddie', 'freddiehighmore', 'freddieprinzejr', 'freddy', 'freddyrodríguez', 'fredkeating', 'fredtatasciore', 'fredward', 'fredwillard', 'free', 'freed', 'freedom', 'freeman', 'freeze', 'french', 'fresh', 'freshman', 'friend', 'friendly', 'friends', 'friendship', 'frightening', 'frog', 'fromragstoriches', 'frontier', 'frozen', 'frustrated', 'fu', 'fueled', 'fugitive', 'fulfill', 'fully', 'fulviocecere', 'fun', 'fund', 'funds', 'funeral', 'funny', 'furious', 'future', 'futuristic', 'fword', 'gabriel', 'gabrielbyrne', 'gabriellerose', 'gabrielleunion', 'gabrielmacht', 'gabrielmann', 'gabyhoffmann', 'gadgets', 'gaelgarcíabernal', 'gagnon', 'gain', 'gained', 'gainey', 'galactic', 'galaxy', 'gale', 'galgadot', 'gallery', 'gambler', 'gambling', 'game', 'games', 'gandhi', 'gang', 'gangs', 'gangster', 'gangsterboss', 'gangsters', 'gangwar', 'garage', 'garbage', 'garcellebeauvais', 'garcia', 'garden', 'garfield', 'garretdillahunt', 'garretthedlund', 'garrettm', 'garrickhagon', 'garrychalk', 'garrymarshall', 'garryshandling', 'gary', 'garya', 'garyanthonywilliams', 'garybasaraba', 'garybusey', 'garycarloscervantes', 'garycole', 'garyfleder', 'garygray', 'garygrubbs', 'garyhouston', 'garylewis', 'garyoldman', 'garyowen', 'garysievers', 'garysinise', 'garyweeks', 'garywinick', 'gas', 'gasstation', 'gates', 'gatesmcfadden', 'gather', 'gathering', 'gattlingriffith', 'gave', 'gavin', 'gavino', 'gay', 'gayinterest', 'gayrelationship', 'gbengaakinnagbe', 'geddewatanabe', 'geenadavis', 'gemmaarterton', 'gemmajones', 'genarowlands', 'gene', 'genehackman', 'general', 'generals', 'generation', 'generations', 'genetic', 'genetically', 'geneticengineering', 'genetics', 'genevieveo', 'genius', 'genocide', 'genre', 'gentle', 'geoffbell', 'geoffreyarend', 'geoffreyblake', 'geoffreykeen', 'geoffreylewis', 'geoffreyrush', 'george', 'georgea', 'georgebuckflower', 'georgec', 'georgecarlin', 'georgecheung', 'georgechristy', 'georgeclooney', 'georgeharris', 'georgekennedy', 'georgelopez', 'georgelucas', 'georgemiller', 'georgeo', 'georgeplimpton', 'georgesegal', 'georgetakei', 'georgew', 'georgewallace', 'georgewyner', 'georgia', 'georginachapman', 'geraldinechaplin', 'geraldinejames', 'geraldinesomerville', 'geraldmcraney', 'geraldokamura', 'gerardbutler', 'gerardhoran', 'gerardmcsorley', 'gerardplunkett', 'german', 'germans', 'germany', 'gerry', 'gerrybamman', 'gerrybecker', 'gerrymendicino', 'getaway', 'gets', 'getting', 'ghetto', 'ghost', 'ghostly', 'ghosts', 'giacarides', 'giamantegna', 'giancarloesposito', 'gianninafacio', 'giannirusso', 'giant', 'giantmonster', 'giantrobot', 'giants', 'gift', 'gifted', 'gig', 'gigolo', 'gilbert', 'gilbirmingham', 'giles', 'gilliananderson', 'gillianjacobs', 'gillianvigman', 'gina', 'ginagershon', 'ginnifergoodwin', 'ginocorrado', 'giovanniribisi', 'girl', 'girlfriend', 'girlfriends', 'girls', 'given', 'gives', 'giving', 'gladiator', 'glamorous', 'glass', 'glen', 'glendonrich', 'glenn', 'glennclose', 'glenneheadly', 'glennhowerton', 'glennmorshower', 'glennplummer', 'glenpowell', 'global', 'globe', 'glory', 'glynnturman', 'goal', 'goals', 'god', 'godfrey', 'godmother', 'gods', 'goes', 'going', 'gold', 'golden', 'goldiehawn', 'golf', 'goliath', 'gone', 'gong', 'gongli', 'gonzo', 'good', 'goodandbad', 'goodman', 'goodvsevil', 'googygress', 'goons', 'gorankostić', 'gordon', 'gordonclapp', 'gore', 'goreverbinski', 'gorgeous', 'gorilla', 'gossip', 'got', 'gotham', 'gothamcity', 'gothic', 'gotten', 'government', 'governor', 'grace', 'gracezabriskie', 'gracie', 'grad', 'grade', 'gradually', 'graduate', 'graduating', 'graduation', 'grady', 'graham', 'grahambeckel', 'grahamcurry', 'grahamgreene', 'grahammctavish', 'grand', 'granddaughter', 'grandfather', 'grandfathergrandsonrelationship', 'grandmother', 'grandson', 'granny', 'grant', 'grantheslov', 'graphic', 'grasp', 'grave', 'gray', 'great', 'greatbritain', 'greatdepression', 'greater', 'greatest', 'greatwhiteshark', 'greece', 'greed', 'greedy', 'greek', 'green', 'greg', 'gregcollins', 'gregellis', 'greggermann', 'gregghenry', 'greggrunberg', 'gregkinnear', 'gregoryalanwilliams', 'gregoryitzin', 'gregorynicotero', 'gregorypeck', 'gregorysmith', 'gregorysporleder', 'gretagerwig', 'gretchenmol', 'gretel', 'grew', 'grey', 'greygriffin', 'grief', 'grieving', 'grifffurst', 'griffin', 'griffindunne', 'griffiths', 'grim', 'grip', 'grisly', 'gritty', 'grizzly', 'grizzlybear', 'grocery', 'ground', 'group', 'groupie', 'groupoffriends', 'groups', 'grove', 'grow', 'growing', 'growingup', 'grown', 'grows', 'gruesome', 'guard', 'guardian', 'guards', 'guerrilla', 'guest', 'guests', 'gugumbatha', 'guidance', 'guide', 'guillermodeltoro', 'guilt', 'guilty', 'guitar', 'guitarist', 'gulf', 'gulfwar', 'gun', 'gunbattle', 'gunfight', 'guninmouth', 'gunman', 'guns', 'gunslinger', 'gunviolence', 'guru', 'gus', 'gusvansant', 'guy', 'guyhamilton', 'guypearce', 'guyritchie', 'guys', 'guytorry', 'gwen', 'gwynethpaltrow', 'gym', 'gypsy', 'génesisrodríguez', 'gérarddepardieu', 'hacker', 'hacking', 'hades', 'hagan', 'hair', 'hairdresser', 'haleybennett', 'haleyjoelosment', 'half', 'halfway', 'halholbrook', 'hall', 'halleberry', 'halloran', 'halloween', 'hallucination', 'han', 'hand', 'handed', 'handle', 'hands', 'handsome', 'handtohandcombat', 'hang', 'hanging', 'hangover', 'hangs', 'hankazaria', 'hannah', 'hans', 'hansel', 'hansoto', 'hapless', 'happen', 'happened', 'happening', 'happens', 'happily', 'happiness', 'happy', 'hara', 'harassment', 'harbor', 'harbors', 'hard', 'hardened', 'harder', 'hare', 'harlandwilliams', 'harlem', 'harmony', 'harold', 'haroldgould', 'haroldperrineau', 'haroldramis', 'harriet', 'harris', 'harrison', 'harrisonford', 'harrisyulin', 'harrowing', 'harry', 'harrycarey', 'harryconnickjr', 'harrydeanstanton', 'harrylennix', 'harryshearer', 'harsh', 'hart', 'harvard', 'harvey', 'harveyfierstein', 'harveykeitel', 'hasn', 'hat', 'hatched', 'hatches', 'hate', 'hatred', 'haunt', 'haunted', 'hauntedhouse', 'haunting', 'haven', 'having', 'havoc', 'hawaii', 'hawkins', 'haydenchristensen', 'haydenpanettiere', 'hayleyatwell', 'head', 'headed', 'heading', 'headquarters', 'heads', 'heal', 'healing', 'health', 'hear', 'heard', 'hearing', 'hears', 'heart', 'heartattack', 'heartbreak', 'heartbroken', 'hearted', 'hearts', 'heather', 'heatherburns', 'heathergoldenhersh', 'heathergraham', 'heatherlocklear', 'heathermatarazzo', 'heathledger', 'heaven', 'heavily', 'heavy', 'heavymetal', 'heavyweight', 'hecker', 'hee', 'heir', 'heiress', 'heist', 'held', 'helen', 'helena', 'helenabonhamcarter', 'helenhunt', 'helenmccrory', 'helenmirren', 'helicopter', 'hell', 'help', 'helped', 'helping', 'helps', 'henchmen', 'henry', 'henrycavill', 'henryg', 'henrygoodman', 'henryo', 'henryrollins', 'henrythomas', 'henrywinkler', 'henson', 'herlihy', 'herman', 'hero', 'heroes', 'heroic', 'heroin', 'heroism', 'hi', 'hidden', 'hiddencamera', 'hide', 'hides', 'hiding', 'high', 'higher', 'highest', 'highlands', 'highly', 'highschool', 'highschoolsports', 'highschoolstudent', 'highway', 'hijack', 'hijacking', 'hilarious', 'hilariously', 'hilaryduff', 'hilaryswank', 'hill', 'hillharper', 'hills', 'himalaya', 'hindu', 'hip', 'hippie', 'hire', 'hired', 'hires', 'hiroyukisanada', 'hiroyukitagawa', 'historic', 'historical', 'historicalfigure', 'history', 'hit', 'hitchhiker', 'hitler', 'hitman', 'hits', 'ho', 'hobbit', 'hockey', 'hoffman', 'hogwarts', 'hold', 'holden', 'holding', 'holds', 'hole', 'holiday', 'hollandtaylor', 'holly', 'hollyhunter', 'hollywood', 'holmes', 'holmesosborne', 'holtmccallany', 'holy', 'home', 'homeinvasion', 'homeland', 'homeless', 'homelessperson', 'homes', 'hometown', 'homicidal', 'homicide', 'homophobia', 'homosexuality', 'honest', 'honey', 'honeymoon', 'hong', 'hongkong', 'honor', 'hood', 'hoodlum', 'hook', 'hooks', 'hop', 'hope', 'hopedavis', 'hopelessly', 'hopes', 'hoping', 'hopkins', 'hopper', 'horatiosanz', 'horrible', 'horribly', 'horrific', 'horrifying', 'horror', 'horrors', 'horse', 'horsebackriding', 'horserace', 'horses', 'hospital', 'host', 'hostage', 'hostages', 'hostile', 'hostility', 'hot', 'hotel', 'hotelroom', 'hotshot', 'hottest', 'hour', 'hours', 'house', 'household', 'housekeeper', 'houses', 'housewife', 'housing', 'houston', 'howard', 'hud', 'hudson', 'huge', 'hugh', 'hughdancy', 'hughes', 'hughgrant', 'hughjackman', 'hughlaurie', 'hughley', 'hughross', 'hugoweaving', 'human', 'humananimalrelationship', 'humanity', 'humankind', 'humans', 'humantrafficking', 'humiliated', 'humiliation', 'humor', 'hun', 'hundreds', 'hunger', 'hungry', 'hunt', 'hunted', 'hunter', 'hunterburke', 'hunterparrish', 'hunters', 'hunting', 'hunts', 'hurricane', 'hurt', 'husband', 'hustler', 'hybrid', 'hypnosis', 'hysterical', 'hyun', 'héctorelizondo', 'iainglen', 'ian', 'ianabercrombie', 'iangomez', 'ianhart', 'ianholm', 'ianmckellen', 'ianmcneice', 'ianmcshane', 'iannelson', 'ianrichardson', 'ianroberts', 'ianwhyte', 'ice', 'icecube', 'icehockey', 'iconic', 'idea', 'idealistic', 'ideas', 'identities', 'identity', 'idol', 'idriselba', 'idyllic', 'ignites', 'ignoring', 'igorjijikine', 'ii', 'iii', 'ike', 'ikebarinholtz', 'il', 'iliavolok', 'ill', 'illeanadouglas', 'illegal', 'illegaldrugs', 'illegalimmigration', 'illegalprostitution', 'illicit', 'illness', 'illusion', 'image', 'imaginable', 'imaginary', 'imaginaryfriend', 'imagination', 'imagined', 'imax', 'imeldastaunton', 'immediately', 'immense', 'immigrant', 'immigrants', 'immigration', 'immortal', 'immortality', 'imogenpoots', 'impact', 'impending', 'imperial', 'important', 'imposed', 'impossible', 'impostor', 'impress', 'imprisoned', 'imprisonment', 'improve', 'inadvertently', 'incest', 'incident', 'incidents', 'include', 'includes', 'including', 'incompetent', 'increasingly', 'incredible', 'independence', 'independent', 'independentfilm', 'india', 'indian', 'indiana', 'indianlead', 'indians', 'indie', 'individual', 'individuals', 'industry', 'inept', 'inevitable', 'inexperienced', 'inexplicable', 'inexplicably', 'infamous', 'infant', 'infected', 'infection', 'infidelity', 'infiltrate', 'infiltrates', 'influence', 'influenced', 'influential', 'informant', 'information', 'inhabitants', 'inheritance', 'inherited', 'inherits', 'initial', 'initially', 'initiates', 'injected', 'injured', 'injury', 'injustice', 'inmate', 'inmates', 'inner', 'innocence', 'innocent', 'insane', 'insaneasylum', 'insanity', 'inside', 'insight', 'insists', 'insomnia', 'inspector', 'inspiration', 'inspirational', 'inspire', 'inspired', 'inspires', 'inspiring', 'installment', 'instant', 'instantly', 'instead', 'instinct', 'institute', 'institution', 'instructor', 'insult', 'insurance', 'insurgence', 'insurgents', 'intelligence', 'intelligent', 'intended', 'intends', 'intense', 'intent', 'intention', 'intentions', 'interested', 'interesting', 'interferes', 'intergalactic', 'intern', 'internal', 'international', 'internet', 'interpol', 'interpreter', 'interracialrelationship', 'interrogation', 'interspeciesromance', 'intertwine', 'interview', 'interviews', 'inthecloset', 'intimate', 'intolerance', 'intrepid', 'intricate', 'intrigue', 'introduces', 'introverted', 'invade', 'invaders', 'invading', 'invasion', 'invention', 'inventor', 'investigate', 'investigates', 'investigating', 'investigation', 'investigator', 'investment', 'investor', 'invincible', 'invisibility', 'invisible', 'invisibleman', 'invitation', 'invited', 'invites', 'involved', 'involves', 'involving', 'ioangruffudd', 'iowa', 'ira', 'iran', 'iranian', 'iraq', 'iraqi', 'iraqwar', 'ireland', 'irene', 'irina', 'irish', 'irland', 'irmap', 'iron', 'irresistible', 'irreverent', 'irrfankhan', 'irving', 'isaachdebankolé', 'isabellarossellini', 'isabellefuhrman', 'isabellehuppert', 'isaiahwashington', 'ishmael', 'isiahwhitlockjr', 'islafisher', 'islam', 'island', 'isn', 'isolated', 'isolation', 'israel', 'israeli', 'issues', 'istanbul', 'italian', 'italo', 'italy', 'ivan', 'ivanamiličević', 'ivankane', 'ivanreitman', 'ivy', 'iwanonkiw', 'jacindabarrett', 'jack', 'jackangel', 'jackass', 'jackblack', 'jackconley', 'jackdavenport', 'jackgilpin', 'jackgordon', 'jackhuston', 'jackie', 'jackiechan', 'jackieearlehaley', 'jackiegonneau', 'jackiehoffman', 'jackiesandler', 'jackietuttle', 'jackkehler', 'jacklemmon', 'jackmcbrayer', 'jackmcgee', 'jacknicholson', 'jacknoseworthy', 'jacko', 'jackpurvis', 'jackriley', 'jackryan', 'jackson', 'jacksonrathbone', 'jackthompson', 'jackwarden', 'jacob', 'jacobvargas', 'jacques', 'jacquesperrin', 'jadapinkettsmith', 'jaded', 'jaicourtney', 'jail', 'jaimeking', 'jaimepressly', 'jake', 'jakeabel', 'jakebusey', 'jakecurran', 'jakegyllenhaal', 'jakehoffman', 'jakejohnson', 'jakekasdan', 'jaket', 'jakeweber', 'jamaica', 'jamal', 'jamalmixon', 'james', 'jamesa', 'jamesavery', 'jamesbadgedale', 'jamesbrolin', 'jamescaan', 'jamescameron', 'jamescoburn', 'jamescorden', 'jamescosmo', 'jamescromwell', 'jamesd', 'jamesdebello', 'jamesdumont', 'jamesearljones', 'jamesfaulkner', 'jamesfiddy', 'jamesfox', 'jamesfrain', 'jamesfranco', 'jamesgammon', 'jamesgandolfini', 'jamesgleason', 'jamesgreene', 'jamesgunn', 'jameshandy', 'jameshong', 'jamesivory', 'jameskaren', 'jameslegros', 'jamesmacdonald', 'jamesmangold', 'jamesmarsden', 'jamesmartinkelly', 'jamesmcavoy', 'jamesnesbitt', 'jamesparks', 'jamespatrickstuart', 'jamesphelps', 'jamespurefoy', 'jamesransone', 'jamesrebhorn', 'jamesremar', 'jamesrusso', 'jamessaito', 'jamessikking', 'jamesspader', 'jamesstewart', 'jamestolkan', 'jameswan', 'jameswong', 'jameswoods', 'jameysheridan', 'jamie', 'jamiebell', 'jamiecampbellbower', 'jamiechung', 'jamiedenbo', 'jamieforeman', 'jamiefoxx', 'jamiekennedy', 'jamieleecurtis', 'jamiemcshane', 'jamiewaylett', 'jan', 'jandebont', 'jane', 'janeadams', 'janeanegarofalo', 'janecurtin', 'janefonda', 'janeiro', 'janekrakowski', 'janelynch', 'janetjackson', 'janetmcteer', 'janitor', 'janrabson', 'januaryjones', 'japan', 'japanese', 'jardine', 'jaredharris', 'jaredleto', 'jaredsandler', 'jasmine', 'jason', 'jasonalexander', 'jasonbateman', 'jasonbiggs', 'jasonclarke', 'jasondavis', 'jasondouglas', 'jasonflemyng', 'jasonfriedberg', 'jasongray', 'jasonharris', 'jasonisaacs', 'jasonjones', 'jasonkravits', 'jasonlee', 'jasonlondon', 'jasonmantzoukas', 'jasonmarsden', 'jasonmewes', 'jasonpatric', 'jasonreitman', 'jasonritter', 'jasonrobards', 'jasonschwartzman', 'jasonscottlee', 'jasonsegel', 'jasonstatham', 'jasonsudeikis', 'jasonvorhees', 'jasonwatkins', 'jasonweaver', 'jaumecollet', 'javierbardem', 'jay', 'jaybaruchel', 'jaybrazeau', 'jaychandrasekhar', 'jayduplass', 'jayhernandez', 'jaylenmoore', 'jayleno', 'jaymohr', 'jayneeastwood', 'jayo', 'jayroach', 'jazz', 'jazzmusician', 'jealous', 'jealousy', 'jean', 'jeaninejackson', 'jeanne', 'jeannetripplehorn', 'jeannettaarnette', 'jeanreno', 'jeans', 'jeansmart', 'jedbrophy', 'jedi', 'jedrees', 'jeff', 'jeffbennett', 'jeffbridges', 'jeffchase', 'jeffdaniels', 'jefferson', 'jefffahey', 'jeffgarlin', 'jeffgoldblum', 'jeffhochendoner', 'jeffpidgeon', 'jeffrey', 'jeffreycombs', 'jeffreycorazzini', 'jeffreydeanmorgan', 'jeffreydemunn', 'jeffreydonovan', 'jeffreyjones', 'jeffreytambor', 'jeffreywright', 'jefftremaine', 'jeffwitzke', 'jeffwolfe', 'jemaineclement', 'jenamalone', 'jenettegoldstein', 'jeniferlewis', 'jenkins', 'jenna', 'jennaelfman', 'jennafischer', 'jennifer', 'jenniferaniston', 'jenniferbeals', 'jenniferconnelly', 'jennifercoolidge', 'jenniferehle', 'jenniferesposito', 'jennifergarner', 'jenniferhudson', 'jenniferjasonleigh', 'jenniferlawrence', 'jenniferlopez', 'jenniferlovehewitt', 'jennifermorrison', 'jenniferschwalbachsmith', 'jennifertilly', 'jenny', 'jennyagutter', 'jennymccarthy', 'jeremy', 'jeremybulloch', 'jeremydavies', 'jeremyhoward', 'jeremyirons', 'jeremynortham', 'jeremypiven', 'jeremyrenner', 'jeremyroberts', 'jeremysisto', 'jeremystrong', 'jermainewilliams', 'jernardburks', 'jeroenkrabbé', 'jerry', 'jerryferrara', 'jerryo', 'jerrystiller', 'jersey', 'jerusalem', 'jesperchristensen', 'jess', 'jesse', 'jessebradford', 'jesseeisenberg', 'jessegarcia', 'jesseheiman', 'jessehutch', 'jessejames', 'jessemccartney', 'jesseplemons', 'jessharnell', 'jessica', 'jessicaalba', 'jessicabiel', 'jessicacauffiel', 'jessicachastain', 'jessicahecht', 'jessicalange', 'jessicalucas', 'jessicasimpson', 'jessicastroup', 'jessicaszohr', 'jesus', 'jesuschrist', 'jet', 'jetli', 'jew', 'jewel', 'jewels', 'jewish', 'jews', 'jigsaw', 'jihad', 'jill', 'jillhennessy', 'jillianarmenante', 'jillianbatherson', 'jillianbell', 'jillscott', 'jilltalley', 'jim', 'jimbelushi', 'jimbroadbent', 'jimcarrey', 'jimcarter', 'jimcaviezel', 'jimcummings', 'jimgaffigan', 'jimhaynie', 'jimimistry', 'jimlampley', 'jimmisimpson', 'jimmy', 'jimmybennett', 'jimmyfallon', 'jimmygonzales', 'jimnorton', 'jimparsons', 'jimpiddock', 'jimsturgess', 'jimward', 'jin', 'joan', 'joanallen', 'joanchen', 'joancusack', 'joannacassidy', 'joanplowright', 'joaquimdealmeida', 'joaquinphoenix', 'joaquíncosio', 'job', 'jobinterview', 'jobs', 'jock', 'jodelleferland', 'jodiefoster', 'jodyracicot', 'jodythompson', 'joe', 'joealaskey', 'joeanderson', 'joechrest', 'joecobden', 'joed', 'joedante', 'joedonbaker', 'joeflaherty', 'joel', 'joelcoen', 'joeldavidmoore', 'joeledgerton', 'joelotruglio', 'joelschumacher', 'joelyrichardson', 'joemantegna', 'joemorton', 'joenunez', 'joepantoliano', 'joepesci', 'joepingue', 'joeranft', 'joespinell', 'joewright', 'joey', 'joeyansah', 'joeyking', 'joeylaurenadams', 'john', 'johna', 'johnalexander', 'johnathonschaech', 'johnaylward', 'johnbeasley', 'johnbedfordlloyd', 'johnbenjaminhickey', 'johnbillingsley', 'johnburke', 'johnc', 'johncandy', 'johncapodice', 'johncarpenter', 'johncarradine', 'johncarrolllynch', 'johncassini', 'johncenatiempo', 'johncho', 'johncleese', 'johncorbett', 'johncusack', 'johncygan', 'johnd', 'johndiehl', 'johndimaggio', 'johndoe', 'johnf', 'johnfarley', 'johnfranchi', 'johngallagherjr', 'johngielgud', 'johnglover', 'johngoodman', 'johnh', 'johnhannah', 'johnhawkes', 'johnheard', 'johnhurt', 'johnjudd', 'johnkassir', 'johnkrasinski', 'johnl', 'johnlandis', 'johnlarroquette', 'johnlasseter', 'johnleguizamo', 'johnlithgow', 'johnmahoney', 'johnmalkovich', 'johnmcconnell', 'johnmctiernan', 'johnmichaelhiggins', 'johnneville', 'johnny', 'johnnydepp', 'johnnyharris', 'johnnyknoxville', 'johnnymessner', 'johnnysimmons', 'johnnywhitworth', 'johnortiz', 'johnp', 'johnpatrickamedori', 'johnr', 'johnratzenberger', 'johnrhys', 'johnrothman', 'johnsavage', 'johnsayles', 'johnsessions', 'johnshrapnel', 'johnsingleton', 'johnslattery', 'johnson', 'johnspencer', 'johnstanding', 'johnstockwell', 'johnston', 'johntravolta', 'johnturturro', 'johnventimiglia', 'johnw', 'johnwaters', 'johnwayne', 'johnwitherspoon', 'johnwoo', 'joielee', 'join', 'joined', 'joining', 'joins', 'joint', 'joker', 'jon', 'jonabrahams', 'jonahhill', 'jonathan', 'jonathanaris', 'jonathanbanks', 'jonathandemme', 'jonathanfrakes', 'jonathanloughran', 'jonathanpryce', 'jonathanrhysmeyers', 'jonathantucker', 'jonathanwinters', 'jonbernthal', 'jones', 'joneyez', 'jonfavreau', 'jongries', 'jonhamm', 'jonheder', 'jonlovitz', 'jonm', 'jonnyleemiller', 'jonnyweston', 'jonpolito', 'jonstewart', 'jontenney', 'jonturteltaub', 'jonvoight', 'jordan', 'jordanabrewster', 'jordanladd', 'jordanlund', 'jordimollà', 'jormataccone', 'jose', 'josefaltin', 'josefsommer', 'josepablocantillo', 'joseph', 'josephbishara', 'josephcotten', 'josephd', 'josephfiennes', 'josephgilgun', 'josephgordon', 'josephjuliansoria', 'josephmawle', 'josephmazzello', 'josepholiveira', 'josephp', 'josephsikora', 'josh', 'joshbrolin', 'joshcharles', 'joshduhamel', 'joshgad', 'joshhamilton', 'joshhartnett', 'joshherdman', 'joshhutcherson', 'joshlucas', 'joshmostel', 'joshpais', 'joshpeck', 'joshpence', 'joshstewart', 'joshua', 'joshuajackson', 'joshualeonard', 'jossackland', 'josézúñiga', 'journal', 'journalism', 'journalist', 'journey', 'journeys', 'joy', 'joybryant', 'jozefaoki', 'joãocostamenezes', 'jr', 'jsugarcia', 'juan', 'juanriedinger', 'judahfriedlander', 'juddapatow', 'juddhirsch', 'juddlormand', 'judeciccolella', 'judelaw', 'judge', 'judgereinhold', 'judidench', 'judith', 'judy', 'judydavis', 'judygreer', 'julenerenee', 'jules', 'julia', 'julian', 'julianglover', 'julianmorris', 'juliannamargulies', 'juliannehough', 'juliannemoore', 'juliannenicholson', 'julianrhind', 'julianrichings', 'juliansands', 'julianwadham', 'juliaroberts', 'juliastiles', 'juliasweeney', 'julie', 'julieandrews', 'juliebenz', 'juliechristie', 'juliedelpy', 'juliehagerty', 'juliet', 'julietstevenson', 'juliettebinoche', 'juliettelewis', 'juliewalters', 'juliewhite', 'juliooscarmechoso', 'julius', 'july', 'jump', 'jumps', 'june', 'junedianeraphael', 'junesquibb', 'jung', 'jungle', 'jungles', 'juni', 'junior', 'junkie', 'junotemple', 'jurneesmollett', 'jurors', 'jury', 'just', 'justice', 'justin', 'justinamachado', 'justinchon', 'justinewachsberger', 'justinlin', 'justinlong', 'justintheroux', 'justintimberlake', 'justusvondohnányi', 'jürgenprochnow', 'kadeestrickland', 'kai', 'kaiju', 'kaitlinolson', 'kalihawk', 'kalirocha', 'kalpenn', 'kane', 'kanehodder', 'kangaroo', 'kansas', 'kapoor', 'karaoke', 'karate', 'karelroden', 'karen', 'karenallen', 'karenkahn', 'kari', 'karinkonoval', 'kariwuhrer', 'karl', 'karlurban', 'kasilemmons', 'kat', 'katdennings', 'kate', 'katebeckinsale', 'katebosworth', 'kateburton', 'kateesackhoff', 'katehudson', 'katekneeland', 'katemara', 'katewalsh', 'katewinslet', 'katharineisabelle', 'katharinetowne', 'katherine', 'katherineheigl', 'katherinehelmond', 'katherinelanasa', 'katherinewaterston', 'katherynwinnick', 'kathleenfreeman', 'kathleenquinlan', 'kathleenturner', 'kathleenwilhoite', 'kathrynhahn', 'kathrynmorris', 'kathsoucie', 'kathy', 'kathybaker', 'kathybates', 'kathygriffin', 'kathynajimy', 'katie', 'katieholmes', 'katniss', 'katrinabowden', 'katy', 'katymixon', 'kay', 'keanureeves', 'keefe', 'keegan', 'keenenivorywayans', 'keeper', 'keeping', 'keeps', 'keiraknightley', 'keithcampbell', 'keithdavid', 'keithloneker', 'kekepalmer', 'kellanlutz', 'kelligarner', 'kelly', 'kellyhu', 'kellylynch', 'kellymacdonald', 'kellypreston', 'kellyreilly', 'kelseygrammer', 'ken', 'kenanthompson', 'kenhudsoncampbell', 'kenjeong', 'kenleung', 'kenmarino', 'kennedy', 'kennethbranagh', 'kennethcampbell', 'kennethchoi', 'kennethcranham', 'kennethwelsh', 'kennybaker', 'kennyortega', 'kenwatanabe', 'kept', 'kerirussell', 'kermit', 'kerrycahill', 'kerryrossall', 'kerrywashington', 'kevin', 'kevinbacon', 'kevinchapman', 'kevincooney', 'kevincorrigan', 'kevincostner', 'kevindunn', 'kevindurand', 'kevineldon', 'kevingage', 'kevingrevioux', 'kevinhart', 'kevinj', 'kevinjames', 'kevinkline', 'kevinmccarthy', 'kevinmckidd', 'kevinmcnally', 'kevinmichaelrichardson', 'kevinnash', 'kevinnealon', 'kevino', 'kevinpollak', 'kevinsmith', 'kevinspacey', 'kevinsussman', 'kevinwiggins', 'kevinzegers', 'key', 'kgb', 'khan', 'khandialexander', 'kick', 'kid', 'kidnap', 'kidnapped', 'kidnappers', 'kidnapping', 'kidnaps', 'kids', 'kidsandfamily', 'kiefersutherland', 'kieranculkin', 'kierstenwarren', 'kill', 'killed', 'killer', 'killerrobot', 'killers', 'killing', 'killings', 'kills', 'kim', 'kimbasinger', 'kimberlyelise', 'kimberlyscott', 'kimcattrall', 'kimcoates', 'kimhunter', 'kind', 'kindly', 'king', 'kingdom', 'kingpin', 'kings', 'kippardue', 'kirbyheyborne', 'kirk', 'kirkjones', 'kirstendunst', 'kiss', 'kit', 'kitchen', 'klein', 'knew', 'knife', 'knight', 'knit', 'knock', 'know', 'knowing', 'knowledge', 'known', 'knows', 'kodismit', 'kofisiriboe', 'kong', 'konstantinkhabenskiy', 'korea', 'korean', 'kriskristofferson', 'krismarshall', 'kristaallen', 'kristenbell', 'kristenjohnston', 'kristenschaal', 'kristenstewart', 'kristenwiig', 'kristenwilson', 'kristinbooth', 'kristinchenoweth', 'kristindavis', 'kristinscottthomas', 'krueger', 'krystalellsworth', 'krystenritter', 'kukluxklan', 'kumar', 'kung', 'kungfu', 'kurt', 'kurtfuller', 'kurtrussell', 'kurtwoodsmith', 'kuwait', 'kuzco', 'kwasisongui', 'kyle', 'kylebornheimer', 'kylechandler', 'kylegallner', 'kylegass', 'kylemaclachlan', 'kylerussellclements', 'kylieminogue', 'kymwhitley', 'kyrasedgwick', 'la', 'lab', 'label', 'labor', 'laboratory', 'laced', 'laceychabert', 'lack', 'lacks', 'ladder', 'ladies', 'lady', 'ladykiller', 'laid', 'lainiekazan', 'lake', 'lakebell', 'lalaanthony', 'lambert', 'lambertwilson', 'lancee', 'lancehenriksen', 'lancereddick', 'land', 'lander', 'landing', 'lands', 'landscape', 'lane', 'lanesmith', 'lang', 'language', 'languagebarrier', 'lapd', 'lara', 'laraflynnboyle', 'laragrice', 'larainenewman', 'larenztate', 'large', 'larger', 'largest', 'larry', 'larrycharles', 'larryjoshua', 'larryking', 'larrymiller', 'larrypine', 'las', 'lascoatkins', 'laser', 'lasergun', 'lassehallström', 'lasvegas', 'late', 'later', 'latest', 'latin', 'launch', 'launched', 'launches', 'laura', 'lauracayouette', 'lauradern', 'lauraharring', 'laurakightlinger', 'lauralinney', 'lauraramsey', 'lauren', 'laurenbacall', 'laurencefishburne', 'laurencemason', 'laurenceolivier', 'laurengraham', 'laurenholly', 'laurenmiller', 'lauriemetcalf', 'lava', 'lavish', 'law', 'lawman', 'lawrence', 'lawrencegilliardjr', 'lawrencekasdan', 'laws', 'lawsuit', 'lawyer', 'laxative', 'lazalonso', 'lazy', 'le', 'lead', 'leader', 'leaders', 'leadership', 'leading', 'leads', 'league', 'learn', 'learned', 'learning', 'learns', 'leary', 'leathompson', 'leave', 'leaves', 'leaving', 'lecter', 'led', 'lee', 'leebyung', 'leeermey', 'leeevans', 'leegarlington', 'leeleesobieski', 'leemajors', 'leepace', 'leetamahori', 'leevancleef', 'left', 'legacy', 'legal', 'legend', 'legendary', 'legends', 'legion', 'legs', 'leighwhannell', 'lelandorser', 'lena', 'lenadunham', 'lenaheadey', 'lenaolin', 'lencariou', 'length', 'lengths', 'lenniejames', 'lennieloftin', 'lenny', 'lennykravitz', 'lennyvenito', 'leo', 'leobill', 'leon', 'leonard', 'leonardearlhowze', 'leonardl', 'leonardnimoy', 'leonardodicaprio', 'leonardonam', 'leonorvarela', 'leonrippy', 'leorossi', 'les', 'lesbian', 'lesbianrelationship', 'lesleymanville', 'lesliebibb', 'lesliemann', 'leslienielsen', 'lesliephillips', 'lesliestefanson', 'lesson', 'lessons', 'lester', 'let', 'lethal', 'letter', 'letters', 'level', 'levitt', 'lewis', 'lewtemple', 'lgbt', 'li', 'liaison', 'liamcunningham', 'liamhemsworth', 'liamneeson', 'liar', 'liberal', 'liberation', 'liberationofprisoners', 'lie', 'lies', 'lieutenant', 'lievschreiber', 'life', 'lifeanddeath', 'lifelong', 'lifestyle', 'lifetime', 'light', 'lightning', 'lights', 'like', 'likes', 'lil', 'lilitaylor', 'lillywachowski', 'lily', 'lilyrabe', 'lilytomlin', 'limits', 'limousine', 'lincoln', 'linda', 'lindacardellini', 'lindaemond', 'lindahunt', 'lindenashby', 'lindsayduncan', 'lindsaylohan', 'lindsaysloane', 'line', 'lines', 'link', 'linked', 'linshaye', 'linusroache', 'lion', 'lisa', 'lisak', 'lisakudrow', 'list', 'literally', 'literary', 'literature', 'little', 'littleboy', 'live', 'liveactionandanimation', 'lived', 'lives', 'living', 'livtyler', 'liz', 'lizzycaplan', 'll', 'llcoolj', 'lloyd', 'lloydkaufman', 'loan', 'local', 'locals', 'locate', 'location', 'lochlynmunro', 'locked', 'logan', 'loganlerman', 'loismaxwell', 'loissmith', 'lola', 'lolitadavidovich', 'london', 'londonengland', 'londonhall', 'lone', 'loneliness', 'lonely', 'loner', 'lonewolf', 'long', 'longer', 'longs', 'longtime', 'lonniefarmer', 'look', 'looking', 'looks', 'loop', 'loose', 'loosely', 'lord', 'lorettadevine', 'lorialan', 'lornascott', 'los', 'losangeles', 'lose', 'loser', 'loses', 'losing', 'loss', 'lossofbrother', 'lossofchild', 'lossoffamily', 'lossoffather', 'lossofhusband', 'lossoflover', 'lossofmother', 'lossofparents', 'lossofson', 'lossofvirginity', 'lossofwife', 'lost', 'lot', 'lottery', 'lou', 'loudiamondphillips', 'loughlin', 'louis', 'louisc', 'louisefletcher', 'louiseparker', 'louisiana', 'louisleterrier', 'louislombardi', 'lounge', 'loutaylorpucci', 'lovable', 'love', 'loveatfirstsight', 'loved', 'loveless', 'loveletter', 'loveofone', 'lover', 'lovers', 'loves', 'lovesickness', 'lovetriangle', 'loving', 'low', 'loyal', 'loyalties', 'loyalty', 'lsd', 'lt', 'luc', 'lucas', 'lucasblack', 'lucastill', 'lucbesson', 'luce', 'lucindajenney', 'luck', 'lucky', 'lucrative', 'lucy', 'lucyliu', 'lucypunch', 'ludacris', 'ludgerpistor', 'ludivinesagnier', 'luisdasilvajr', 'luisguzmán', 'lukashaas', 'luke', 'lukeevans', 'lukegoss', 'lukegrimes', 'lukewilson', 'lupeontiveros', 'lure', 'lured', 'lurks', 'lush', 'lust', 'luthor', 'luxury', 'lydiahull', 'lying', 'lyndaboyd', 'lynn', 'lynncohen', 'lynncollins', 'lynnredgrave', 'lynnwhitfield', 'léaseydoux', 'ma', 'macaulayculkin', 'machete', 'machine', 'machinegun', 'machines', 'mackenziecrook', 'mackenziefoy', 'mackenziegray', 'macmcdonald', 'macy', 'mad', 'madagascar', 'madame', 'maddiecorman', 'madea', 'madelinecarroll', 'madelinekahn', 'madison', 'madness', 'madonna', 'madscientist', 'madsmikkelsen', 'maewhitman', 'mafia', 'mafiaboss', 'magazine', 'magdaszubanski', 'maggie', 'maggiegrace', 'maggiegyllenhaal', 'maggieq', 'maggiesmith', 'magic', 'magical', 'magicalobject', 'magician', 'magnate', 'magnificent', 'mahershalaali', 'mahoney', 'maid', 'mail', 'main', 'maine', 'mainly', 'mainstream', 'maintain', 'majestic', 'major', 'make', 'makenzieveganorfolk', 'makeover', 'maker', 'makes', 'making', 'mako', 'malcolm', 'malcolmd', 'malcolmgoodwin', 'malcolmmcdowell', 'male', 'malefemalerelationship', 'maleficent', 'malefriendship', 'malenudity', 'malevolent', 'malibu', 'malinåkerman', 'mall', 'malley', 'mallory', 'malone', 'mama', 'mammoth', 'man', 'manage', 'managed', 'manager', 'manages', 'mandela', 'mandymoore', 'mandypatinkin', 'manhattan', 'manhood', 'manhunt', 'maniac', 'manipulation', 'mankind', 'manner', 'mannered', 'manny', 'mannypérez', 'mansion', 'manubennett', 'manufacturing', 'manvsmachine', 'maori', 'map', 'marathon', 'marcblucas', 'marcelinehugot', 'marceliureș', 'marcellothedford', 'marcforster', 'march', 'marciagayharden', 'marciajeankurtz', 'marcjohnjefferies', 'marclawrence', 'marcmacaulay', 'marcmcclure', 'marcoperella', 'marcorodríguez', 'marcost', 'marcus', 'marcuslylebrown', 'marekvašut', 'margaret', 'margaretcolin', 'margarettravolta', 'margomartindale', 'margotkidder', 'margotrobbie', 'maria', 'mariabello', 'mariacanals', 'mariachi', 'mariah', 'mariannejean', 'marianseldes', 'marie', 'marielhemingway', 'marijuana', 'marilyn', 'marinasirtis', 'marine', 'marinecorps', 'marines', 'marinhinkle', 'marinireland', 'marioncotillard', 'mariovanpeebles', 'marisatomei', 'mark', 'markacheson', 'markaddy', 'markboonejunior', 'markcamacho', 'markchristopherlawrence', 'markdacascos', 'markduplass', 'marked', 'market', 'marketing', 'markfalvo', 'markgatiss', 'markheap', 'markhoughton', 'markivanir', 'markkubr', 'markl', 'marklenard', 'markmargolis', 'markmoses', 'markpellegrino', 'markpellington', 'markpolish', 'markrolston', 'markruffalo', 'markryan', 'markrylance', 'marks', 'marksmith', 'markstrong', 'markwahlberg', 'markwaters', 'markwebber', 'markwilliams', 'marleyshelton', 'marlonbrando', 'marlonwayans', 'marooned', 'marriage', 'marriagecrisis', 'marriageproposal', 'married', 'marriedcouple', 'marries', 'marry', 'marrying', 'mars', 'marshal', 'marshall', 'marshallbell', 'martha', 'martial', 'martialarts', 'martian', 'martin', 'martinbalsam', 'martinbrest', 'martincampbell', 'martindonovan', 'martinfreeman', 'martinhenderson', 'martinklebba', 'martinlandau', 'martinlawrence', 'martinsavage', 'martinscorsese', 'martinsheen', 'martinshort', 'martinstarr', 'martoncsokas', 'marty', 'marvelcinematicuniverse', 'marvelcomic', 'marvinj', 'mary', 'marybethhurt', 'marybirdsong', 'maryblack', 'maryelizabethwinstead', 'maryellentrainor', 'marykayplace', 'maryland', 'marylouiseburke', 'marylynnrajskub', 'marymccormack', 'marymcdonnell', 'marypatgleason', 'marysteenburgen', 'maryworonov', 'maríaconchitaalonso', 'mascot', 'mask', 'masked', 'maskedkiller', 'masks', 'mason', 'mass', 'massachusetts', 'massacre', 'massive', 'massmurder', 'master', 'mastermind', 'masterp', 'masterpiece', 'masters', 'masturbation', 'match', 'mate', 'material', 'mates', 'mathematician', 'mathematics', 'mathieuamalric', 'mathieukassovitz', 'matrix', 'matt', 'mattclark', 'mattcraven', 'mattdamon', 'mattdillon', 'matter', 'matteroflifeanddeath', 'matters', 'mattfrewer', 'mattgerald', 'matthew', 'matthewbroderick', 'matthewcornwell', 'matthewfox', 'matthewg', 'matthewgoode', 'matthewgraygubler', 'matthewj', 'matthewlewis', 'matthewlillard', 'matthewmacfadyen', 'matthewmarsden', 'matthewmarsh', 'matthewmcconaughey', 'matthewmodine', 'matthewpage', 'matthewperry', 'matthews', 'mattking', 'mattleblanc', 'mattletscher', 'mattlucas', 'mattmalloy', 'mattmccolm', 'matto', 'mattreeves', 'mattross', 'mattschulze', 'mattwalsh', 'mattwinston', 'matyelokgibbs', 'maurice', 'mauricelamarche', 'maurychaykin', 'maverick', 'max', 'maxbaker', 'maxcasella', 'maxcharles', 'maximilianohernández', 'maximilianschell', 'maximum', 'maximus', 'maxirons', 'maxmartini', 'maxminghella', 'maxthieriot', 'maxvonsydow', 'maxwell', 'maya', 'mayacivilization', 'mayarudolph', 'maybe', 'mayhem', 'mayor', 'maze', 'mccall', 'mccarthy', 'mcclane', 'mcg', 'mcginley', 'mcphee', 'meagangood', 'mean', 'meaning', 'means', 'meant', 'meara', 'meat', 'meatloaf', 'mechanic', 'medal', 'medallion', 'media', 'medical', 'medication', 'medicine', 'medieval', 'meet', 'meeting', 'meets', 'mega', 'megan', 'meganfox', 'meganmullally', 'megryan', 'mekhiphifer', 'melancholy', 'melanie', 'melaniegriffith', 'melanielynskey', 'melbrooks', 'melgibson', 'melissa', 'melissageorge', 'melissajoanhart', 'melissaleo', 'melissamccarthy', 'melorahardin', 'melrodriguez', 'melvin', 'member', 'members', 'memories', 'memory', 'memoryloss', 'men', 'menace', 'menasuvari', 'mental', 'mentalillness', 'mentalinstitution', 'mentally', 'mentallydisabled', 'mentor', 'mephisto', 'mercenaries', 'mercenary', 'merchant', 'merciless', 'mercy', 'mere', 'mermaid', 'merrittwever', 'merylstreep', 'message', 'messages', 'met', 'metal', 'meteor', 'methodman', 'methods', 'metro', 'mettle', 'mexican', 'mexicanstandoff', 'mexico', 'mexicobarrier', 'mi6', 'mia', 'miami', 'michael', 'michaela', 'michaeladamthwaite', 'michaelangarano', 'michaelb', 'michaelbaileysmith', 'michaelbay', 'michaelberryman', 'michaelbiehn', 'michaelbowen', 'michaelbyrne', 'michaelc', 'michaelcaine', 'michaelcaton', 'michaelcera', 'michaelchapman', 'michaelchernus', 'michaelclarkeduncan', 'michaelcountryman', 'michaelculkin', 'michaeld', 'michaeldorn', 'michaeldouglas', 'michaelealy', 'michaelensign', 'michaelfassbender', 'michaelgambon', 'michaelgaston', 'michaelgough', 'michaelhitchcock', 'michaelianblack', 'michaelimperioli', 'michaelironside', 'michaelj', 'michaeljackson', 'michaeljaiwhite', 'michaeljeter', 'michaelkeaton', 'michaelkelly', 'michaelkennethwilliams', 'michaelkey', 'michaellerner', 'michaellonsdale', 'michaelmadsen', 'michaelmaloney', 'michaelmann', 'michaelmantell', 'michaelmassee', 'michaelmckean', 'michaelmcshane', 'michaelmilhoan', 'michaelmonks', 'michaelmoore', 'michaelmurphy', 'michaelo', 'michaelpapajohn', 'michaelparks', 'michaelparé', 'michaelpeña', 'michaelpitt', 'michaelpolish', 'michaelrapaport', 'michaelrispoli', 'michaelrooker', 'michaelrosenbaum', 'michaels', 'michaelshamuswiles', 'michaelshannon', 'michaelsheen', 'michaelstuhlbarg', 'michaelwelch', 'michaelweston', 'michaelwincott', 'michaelwinterbottom', 'michaelyork', 'michelle', 'michellemonaghan', 'michellenolden', 'michellepfeiffer', 'michellerodriguez', 'michelletrachtenberg', 'michellewilliams', 'michelleyeoh', 'michigan', 'mickey', 'mickeyrooney', 'mickeyrourke', 'mickiemcgowan', 'mid', 'middle', 'middleages', 'middleeast', 'midlifecrisis', 'midnight', 'midst', 'midwest', 'mighty', 'miguela', 'miguelferrer', 'miguelsandoval', 'mike', 'mikebinder', 'mikebirbiglia', 'mikedopud', 'mikeepps', 'mikejudge', 'mikemitchell', 'mikemyers', 'mikenewell', 'mikenichols', 'mikeo', 'mikestarr', 'mikevogel', 'mikewhite', 'mikohughes', 'milakunis', 'mild', 'mile', 'miles', 'milesteller', 'miley', 'mileycyrus', 'military', 'millajovovich', 'miller', 'million', 'millionaire', 'millions', 'mills', 'milo', 'miloventimiglia', 'min', 'mind', 'mindcontrol', 'minded', 'minds', 'mindykaling', 'mindysterling', 'miner', 'miners', 'ming', 'minglo', 'mining', 'minions', 'minister', 'minnesota', 'minniedriver', 'minor', 'minute', 'minutes', 'miracle', 'miranda', 'mirandaotto', 'mirandarichardson', 'mirasorvino', 'mirceamonroe', 'miriammargolyes', 'mirror', 'misadventures', 'mischievous', 'miserable', 'misfit', 'misfits', 'misguided', 'mismatched', 'misogynist', 'miss', 'missile', 'missing', 'missingperson', 'mission', 'missionary', 'missionofmurder', 'missions', 'missipyle', 'mississippi', 'missouri', 'mistake', 'mistakeinperson', 'mistaken', 'mistakenidentity', 'mistakenly', 'mistakes', 'mistress', 'mitch', 'mitchell', 'mix', 'mixed', 'mo', 'mob', 'mobilephone', 'mobster', 'mobsters', 'mockumentary', 'model', 'modern', 'moisésarias', 'mole', 'molly', 'mollycheek', 'mollyshannon', 'mom', 'moment', 'moments', 'monamarshall', 'monetmazur', 'money', 'monica', 'monicabellucci', 'monicacalhoun', 'monicapotter', 'monk', 'monkey', 'monroe', 'monster', 'monsters', 'monstrous', 'montana', 'monte', 'month', 'months', 'montreal', 'moon', 'moonlights', 'moore', 'moral', 'morality', 'morgan', 'morganfreeman', 'morgue', 'moritzbleibtreu', 'mormon', 'morning', 'morris', 'morrischestnut', 'mortal', 'moscow', 'moses', 'mossad', 'motel', 'mother', 'motherdaughterrelationship', 'motherlylove', 'motherrole', 'mothersonrelationship', 'motion', 'motives', 'motley', 'motor', 'motorcycle', 'mount', 'mountain', 'mountains', 'mounting', 'mounts', 'mouse', 'mouthed', 'moved', 'movement', 'moves', 'movie', 'movieinmovie', 'movies', 'moviestar', 'moving', 'mr', 'mrs', 'multi', 'multiple', 'multiplestorylines', 'mumblecore', 'mumblegore', 'mummy', 'murder', 'murdered', 'murderer', 'murderhunt', 'murdering', 'murderous', 'murders', 'murphy', 'murray', 'murrayabraham', 'muse', 'museum', 'music', 'musical', 'musicband', 'musician', 'musicians', 'muslim', 'mutant', 'mutants', 'mutation', 'mute', 'mutiny', 'mutual', 'myers', 'mykeltiwilliamson', 'myles', 'mysteries', 'mysterious', 'mysteriously', 'mystery', 'mystical', 'myth', 'mythical', 'mythology', 'míamaestro', 'nadimsawalha', 'nadineellis', 'naive', 'naivety', 'naked', 'nam', 'named', 'names', 'nancy', 'nancyallen', 'nancymeyers', 'nancyo', 'nanny', 'naomieharris', 'naomiwatts', 'napoleon', 'narcotics', 'narnia', 'narration', 'narrative', 'nasa', 'nascarella', 'nasty', 'nataliatena', 'natalie', 'nataliedormer', 'nataliemorales', 'natalieportman', 'nataschamcelhone', 'natasha', 'natashagregsonwagner', 'natashahenstridge', 'natashalyonne', 'natassiamalthe', 'nate', 'natecorddry', 'nateparker', 'natfaxon', 'nathan', 'nathanfillion', 'nathangamble', 'nathangeist', 'nathanielparker', 'nathanlane', 'nation', 'national', 'nations', 'native', 'nativeamerican', 'natives', 'natural', 'naturaldisaster', 'naturally', 'nature', 'natured', 'natwolff', 'naval', 'navigate', 'navy', 'navyseal', 'nazi', 'nazigermany', 'nazis', 'nba', 'neal', 'nealhuff', 'nealmcdonough', 'near', 'nearby', 'nearfuture', 'nearly', 'nebraska', 'necessary', 'necronomicon', 'nectarrose', 'ned', 'nedbeatty', 'nedbellamy', 'neddennehy', 'need', 'needed', 'needs', 'nefarious', 'neglected', 'negotiator', 'neighbor', 'neighborhood', 'neighbors', 'neil', 'neilflynn', 'neiljordan', 'neill', 'neilpatrickharris', 'nelson', 'nelsonbonilla', 'nelsonmandela', 'nemesis', 'neo', 'nephew', 'nephi', 'nerd', 'nerdy', 'ness', 'nestorserrano', 'netherlands', 'network', 'neurotic', 'nevada', 'nevecampbell', 'neverland', 'new', 'newborn', 'newcomer', 'newfound', 'newidentity', 'newjersey', 'newlove', 'newly', 'newlywed', 'newmexico', 'neworleans', 'news', 'newspaper', 'newton', 'newyear', 'newyork', 'newyorkcity', 'newzealand', 'nialong', 'niamhwilson', 'niavardalos', 'nice', 'nichellenichols', 'nicholas', 'nicholasbell', 'nicholascampbell', 'nicholasfarrell', 'nicholasgonzalez', 'nicholasguest', 'nicholashoult', 'nicholasjones', 'nicholaspryor', 'nicholasstoller', 'nicholasturturro', 'nicholaswoodeson', 'nichols', 'nicholson', 'nick', 'nickcannon', 'nickcassavetes', 'nickchinlund', 'nickfrost', 'nickgomez', 'nickjameson', 'nickkroll', 'nickloren', 'nicknolte', 'nickofferman', 'nicksearcy', 'nickstahl', 'nickswardson', 'nickw', 'nicky', 'nickykatt', 'nicolascage', 'nicole', 'nicoleariparker', 'nicoleholofcener', 'nicolekidman', 'niece', 'niecynash', 'nigelhawthorne', 'night', 'nightclub', 'nightlife', 'nightly', 'nightmare', 'nightmares', 'nightmarish', 'nightshyamalan', 'nightstand', 'nikkireed', 'nikkityler', 'nikolajcoster', 'ninadobrev', 'ninayoung', 'ninja', 'nique', 'nixon', 'noah', 'noahemmerich', 'noahhuntley', 'noahtaylor', 'noahwyle', 'noamjenkins', 'nobility', 'noble', 'nobleman', 'noelfisher', 'noelgugliemi', 'noir', 'nominee', 'non', 'nonagaye', 'nonsoanozie', 'noopeningcredits', 'nora', 'noradunn', 'norazehetner', 'norbertweisser', 'normal', 'norman', 'normanjewison', 'normanreedus', 'normmacdonald', 'north', 'northern', 'nose', 'nosed', 'notebook', 'notices', 'notorious', 'noureendewulf', 'nova', 'novak', 'novel', 'novelist', 'november', 'novice', 'nuclear', 'nuclearmissile', 'nudity', 'number', 'numberintitle', 'numbers', 'numerous', 'nun', 'nurse', 'nyc', 'nypd', 'núñez', 'obama', 'obbababatundé', 'object', 'objects', 'obscure', 'obsessed', 'obsession', 'obsessive', 'obstacles', 'obtain', 'occasionally', 'occult', 'occupation', 'occupied', 'occurred', 'occurrences', 'occurs', 'ocean', 'octaviaspencer', 'october', 'odd', 'oddball', 'odds', 'odedfehr', 'odetteannable', 'odyssey', 'offer', 'offered', 'offers', 'office', 'officer', 'officers', 'official', 'officials', 'offspring', 'ogre', 'ohio', 'oil', 'old', 'older', 'oldermanyoungerwomanrelationship', 'olegtaktarov', 'olekkrupa', 'olethorsen', 'olgakurylenko', 'olive', 'oliver', 'olivermuirhead', 'oliverphelps', 'oliverplatt', 'oliverstone', 'olivia', 'oliviamunn', 'oliviathirlby', 'oliviawilde', 'oliviawilliams', 'olivierrabourdin', 'olympic', 'olympicgames', 'olympics', 'omar', 'omarbensonmiller', 'omarepps', 'omarihardwick', 'omarj', 'omarsharif', 'omidabtahi', 'omiddjalili', 'ompuri', 'onagrauer', 'oneagainstmany', 'onenight', 'ones', 'online', 'onofrio', 'ontheroad', 'ontherun', 'open', 'opened', 'opening', 'openly', 'opens', 'opera', 'operating', 'operation', 'operations', 'operative', 'operatives', 'operator', 'ophelialovibond', 'opium', 'opponent', 'opportunities', 'opportunity', 'opposing', 'opposite', 'opposites', 'oppositesattract', 'opposition', 'oppression', 'oppressive', 'oprahwinfrey', 'ops', 'orange', 'orbit', 'orchid', 'orcs', 'order', 'ordered', 'orders', 'ordinary', 'oregon', 'organ', 'organization', 'organized', 'organizedcrime', 'orgasm', 'origin', 'original', 'origins', 'orlandobloom', 'orlandojones', 'orleans', 'orphan', 'orphanage', 'orphaned', 'orphans', 'orsonwelles', 'oscar', 'oscaraward', 'oscarisaac', 'ossiedavis', 'otherworldly', 'ouijaboard', 'outback', 'outbreak', 'outcast', 'outer', 'outerspace', 'outlaw', 'outlook', 'outrageous', 'outside', 'outwit', 'overbearing', 'overcome', 'overcomes', 'overdose', 'overly', 'overnight', 'overrun', 'overthrow', 'overwhelmed', 'overwhelming', 'owens', 'owenwilson', 'owl', 'owned', 'owner', 'owners', 'owns', 'oxford', 'oz', 'ozzyosbourne', 'paced', 'pacific', 'pack', 'package', 'packed', 'pact', 'paddyconsidine', 'pagan', 'page', 'pageant', 'pagetbrewster', 'paid', 'paige', 'pain', 'painful', 'painfully', 'painter', 'painting', 'pair', 'pakistan', 'pakistani', 'pal', 'palace', 'palmer', 'pals', 'pam', 'pamgrier', 'pan', 'panama', 'panda', 'pandemic', 'pandora', 'panic', 'panther', 'pants', 'panzer', 'paper', 'papers', 'paradise', 'parallel', 'parallelworld', 'paranoia', 'paranoid', 'paranormal', 'paranormalphenomena', 'paraplegic', 'parent', 'parenthood', 'parents', 'parentskidsrelationship', 'paris', 'parishilton', 'parisian', 'park', 'parker', 'parkerposey', 'parody', 'parole', 'parrish', 'particularly', 'parties', 'partner', 'partnered', 'partners', 'partnership', 'parts', 'party', 'partying', 'pass', 'passage', 'passed', 'passenger', 'passengers', 'passes', 'passing', 'passion', 'passionate', 'passions', 'passport', 'past', 'pastor', 'pat', 'path', 'pathealy', 'pathingle', 'paths', 'patient', 'patients', 'patkiernan', 'patmorita', 'pato', 'patriarch', 'patriciaarquette', 'patriciabelcher', 'patriciaclarkson', 'patriciafrench', 'patrick', 'patrickbauchau', 'patrickdempsey', 'patrickfischler', 'patrickfugit', 'patrickgallagher', 'patrickgodfrey', 'patrickkennedy', 'patrickmalahide', 'patrickmcdade', 'patrickmcnamara', 'patricko', 'patricksabongui', 'patrickst', 'patrickstewart', 'patrickswayze', 'patrickthomaso', 'patrickwarburton', 'patrickwilson', 'patriotism', 'patroach', 'patrol', 'pattid', 'pattilupone', 'patton', 'pattonoswalt', 'paul', 'paula', 'pauladelstein', 'paulagarcés', 'paulajaiparker', 'paulamalcomson', 'paulanderson', 'paulapatton', 'paulbartel', 'paulben', 'paulbettany', 'paulbutler', 'paulcalderon', 'pauldano', 'pauldooley', 'pauleiding', 'paulf', 'paulfeig', 'paulfix', 'paulfreeman', 'paulgiamatti', 'paulgleason', 'paulgreengrass', 'paulgross', 'paulguilfoyle', 'paulherman', 'paullazar', 'paulnewman', 'paulreiser', 'paulreubens', 'paulrodríguez', 'paulrudd', 'paulscheer', 'paulschneider', 'paulschrader', 'paulsorvino', 'paulsparks', 'paulthomasanderson', 'paulverhoeven', 'paulw', 'paulwalker', 'paulweitz', 'pavellychnikoff', 'pawn', 'pawns', 'pay', 'paying', 'pays', 'pazdelahuerta', 'pazvega', 'peace', 'peaceful', 'pearl', 'peasant', 'peck', 'pedophile', 'pedophilia', 'pedroarmendárizjr', 'peers', 'peggyroeder', 'penelopeannmiller', 'penelopewilton', 'penguin', 'penguins', 'penn', 'pennsylvania', 'penny', 'pennymarshall', 'penélopecruz', 'people', 'percy', 'perez', 'perfect', 'perfection', 'perfectly', 'perform', 'performance', 'performances', 'performer', 'performing', 'perilous', 'period', 'perioddrama', 'perlahaney', 'perry', 'perseus', 'persia', 'persian', 'person', 'personal', 'personalities', 'personality', 'perspective', 'perspectives', 'persuade', 'peru', 'pet', 'pete', 'petedocter', 'petepostlethwaite', 'peter', 'peterberg', 'peterbillingsley', 'peterboyle', 'petercapaldi', 'peterchelsom', 'petercoyote', 'petercullen', 'peterdante', 'peterdinklage', 'peterdonaldbadalamentiii', 'peteregan', 'peterfacinelli', 'peterfalk', 'peterfirth', 'peterfonda', 'peterfriedman', 'petergallagher', 'petergerety', 'petergreene', 'peterhermann', 'peterhowitt', 'peterhyams', 'peterjackson', 'peterjacobson', 'peterjason', 'petermackenzie', 'petermacneill', 'petermaloney', 'petermayhew', 'petermcrobbie', 'petermensah', 'petermullan', 'petero', 'peterouterbridge', 'petersarsgaard', 'petersegal', 'peterserafinowicz', 'petersohn', 'peterson', 'peterstormare', 'petervaughan', 'peterweller', 'peterwight', 'petrjáklml', 'petrol', 'petty', 'peytonlist', 'peytonreed', 'phantom', 'phenomena', 'phenomenon', 'phil', 'philadelphia', 'philaustin', 'phildavis', 'philipbakerhall', 'philipbosco', 'philippavel', 'philippe', 'philipseymourhoffman', 'phillamarr', 'phillipnoyce', 'phillips', 'philosophy', 'philproctor', 'phone', 'photo', 'photographer', 'photography', 'phyllidalaw', 'phyllissomerville', 'physical', 'physician', 'pianist', 'piano', 'picard', 'pick', 'picks', 'picture', 'pictures', 'piece', 'pieces', 'piercebrosnan', 'pierfrancescofavino', 'pierre', 'pig', 'piglet', 'pilot', 'pilots', 'pimp', 'pink', 'pinocchio', 'piperperabo', 'piptorrens', 'pirate', 'pirates', 'pistol', 'pits', 'pitt', 'pitted', 'pizza', 'place', 'placed', 'places', 'plague', 'plagued', 'plan', 'plane', 'planet', 'planned', 'plannedmurder', 'planning', 'plans', 'plant', 'plantation', 'plasse', 'platonic', 'play', 'playboy', 'played', 'player', 'players', 'playground', 'playing', 'plays', 'playwright', 'pleasure', 'plenty', 'plot', 'plots', 'plunged', 'plunges', 'plus', 'po', 'poet', 'poetry', 'point', 'poison', 'poker', 'polar', 'pole', 'police', 'policebrutality', 'policechase', 'policecorruption', 'policedetective', 'policeman', 'policeofficer', 'policeoperation', 'political', 'politician', 'politicians', 'politics', 'pollard', 'pollution', 'polly', 'pool', 'poor', 'pop', 'pope', 'popstar', 'popular', 'popularity', 'populated', 'population', 'porn', 'pornography', 'port', 'portal', 'porter', 'portia', 'portrait', 'pose', 'posing', 'position', 'possess', 'possessed', 'possesses', 'possession', 'possibility', 'possible', 'possibly', 'post', 'posttraumaticstressdisorder', 'pot', 'potential', 'potentially', 'potter', 'poverty', 'powell', 'power', 'powered', 'powerful', 'poweroutage', 'powers', 'powersboothe', 'prank', 'prayer', 'pre', 'preacher', 'precious', 'predator', 'pregnancy', 'pregnancyandbirth', 'pregnant', 'prehistoric', 'prehistorictimes', 'prejudice', 'prejudices', 'premonition', 'prepare', 'prepared', 'prepares', 'preparing', 'prequel', 'presence', 'present', 'presents', 'president', 'presidential', 'presidentialelection', 'press', 'pressure', 'pressures', 'prestigious', 'presumed', 'pretty', 'prevent', 'previous', 'prey', 'price', 'priceless', 'pride', 'priest', 'prime', 'prince', 'princess', 'principal', 'prison', 'prisoncell', 'prisoner', 'prisoners', 'prisonersofwar', 'private', 'privatedetective', 'privateschool', 'privileged', 'prize', 'pro', 'probably', 'problem', 'problems', 'process', 'prodigy', 'produced', 'producer', 'product', 'production', 'professional', 'professor', 'profile', 'profit', 'profoundly', 'program', 'programming', 'progresses', 'project', 'projects', 'prom', 'prominent', 'promise', 'promised', 'promises', 'promising', 'promoter', 'promotion', 'prompting', 'promptly', 'proof', 'property', 'prophecy', 'proportions', 'prosecution', 'prospect', 'prospector', 'prostitute', 'prostitution', 'protect', 'protecting', 'protection', 'protest', 'protégé', 'proud', 'prove', 'provence', 'proves', 'provide', 'proving', 'pruitttaylorvince', 'psychiatric', 'psychiatrist', 'psychic', 'psychological', 'psychologist', 'psychology', 'psychopath', 'psychopathic', 'psychotic', 'pub', 'puberty', 'public', 'publicist', 'publisher', 'pull', 'pulled', 'pulls', 'punishment', 'punk', 'puppet', 'puppy', 'pure', 'purpose', 'pursue', 'pursued', 'pursues', 'pursuing', 'pursuit', 'push', 'pushed', 'pushes', 'puts', 'putting', 'pyramid', 'quarantine', 'quarter', 'quarterback', 'queen', 'queenie', 'queenlatifah', 'queens', 'quentin', 'quentintarantino', 'quest', 'question', 'questions', 'quick', 'quickly', 'quiet', 'quinn', 'quirky', 'quite', 'rabbit', 'race', 'raceagainsttime', 'racehorse', 'racer', 'races', 'rachaelharris', 'rachaelleighcook', 'rachel', 'racheldratch', 'rachelgriffiths', 'rachellelefevre', 'rachelmcadams', 'rachelnichols', 'rachelticotin', 'rachelweisz', 'racial', 'racially', 'racialsegregation', 'racing', 'racism', 'racist', 'radeserbedzija', 'radhamitchell', 'radiation', 'radical', 'radio', 'radiopresenter', 'radiostation', 'radiotransmission', 'radivojebukvić', 'rae', 'raedengreer', 'rafael', 'rafespall', 'rag', 'rage', 'rageandhate', 'rages', 'raging', 'ragtag', 'raid', 'raids', 'railroad', 'rain', 'rainerbock', 'rainnwilson', 'raise', 'raised', 'raising', 'rajagosnell', 'raju', 'rally', 'ralph', 'ralphbrown', 'ralphfiennes', 'ralphgarman', 'ralphineson', 'rambo', 'ramimalek', 'rampage', 'ramónrodríguez', 'ran', 'rancehoward', 'ranch', 'rancher', 'randall', 'randalldukkim', 'randallpark', 'randy', 'randyoglesby', 'randyquaid', 'ranger', 'rangers', 'ranking', 'ranks', 'ransom', 'rap', 'rape', 'rapidly', 'rapmusic', 'rapper', 'rare', 'rashidajones', 'rat', 'rate', 'rated', 'ratings', 'ravaged', 'ravilisyanov', 'raw', 'rawsonmarshallthurber', 'ray', 'raybaker', 'raygarvey', 'rayliotta', 'raymckinnon', 'raymond', 'raymondcruz', 'raymondj', 'raynorscheine', 'raypark', 'rayromano', 'raystevenson', 'raywinstone', 'raywise', 'razaaqadoti', 'reach', 'reaches', 'reaching', 'reactions', 'reading', 'reads', 'ready', 'real', 'realestate', 'realise', 'realises', 'reality', 'realize', 'realizes', 'realizing', 'really', 'realm', 'reaper', 'reason', 'reasons', 'rebecca', 'rebeccademornay', 'rebeccagayheart', 'rebeccahall', 'rebeccapidgeon', 'rebeccaromijn', 'rebel', 'rebellion', 'rebellious', 'rebels', 'rebelwilson', 'reboot', 'rebuild', 'receive', 'received', 'receives', 'receiving', 'recent', 'recently', 'recipe', 'reckless', 'reclaim', 'reclusive', 'recognizes', 'reconcile', 'reconnect', 'record', 'recorded', 'recording', 'recordproducer', 'records', 'recounts', 'recover', 'recovering', 'recruit', 'recruited', 'recruits', 'red', 'redeem', 'redemption', 'redneck', 'reeceshearsmith', 'reed', 'reeddiamond', 'reeling', 'reese', 'reesewitherspoon', 'referential', 'refuge', 'refugee', 'refuse', 'refuses', 'regain', 'regan', 'rege', 'reggielee', 'regime', 'regiment', 'reginahall', 'reginaking', 'regisphilbin', 'regret', 'regular', 'rehab', 'reich', 'reid', 'reign', 'reilly', 'reincarnation', 'reitman', 'rejected', 'rekindle', 'rekindling', 'related', 'relation', 'relationship', 'relationshipproblems', 'relationships', 'relative', 'relatives', 'release', 'released', 'releasefromprison', 'relentless', 'relentlessly', 'relic', 'relief', 'religion', 'religionandsupernatural', 'religious', 'relocate', 'relocated', 'reluctant', 'reluctantly', 'rely', 'remain', 'remaining', 'remains', 'remake', 'remarkable', 'remember', 'remote', 'removed', 'remy', 'renegade', 'renerusso', 'rennyharlin', 'reno', 'renowilson', 'renowned', 'rent', 'renéetaylor', 'renéezellweger', 'repair', 'repairman', 'repayment', 'replace', 'replaced', 'replacement', 'report', 'reporter', 'reports', 'repressed', 'republic', 'reputation', 'request', 'requires', 'rescue', 'rescued', 'rescuemission', 'rescues', 'rescuing', 'research', 'researcher', 'resident', 'residents', 'resist', 'resistance', 'resolve', 'resort', 'resourceful', 'resources', 'respect', 'respected', 'respective', 'responds', 'response', 'responsibilities', 'responsibility', 'responsible', 'rest', 'restaurant', 'restore', 'result', 'resulting', 'results', 'resurfaces', 'resurrected', 'resurrection', 'retelling', 'retire', 'retired', 'retirement', 'retreat', 'retribution', 'retrieve', 'return', 'returned', 'returning', 'returns', 'reuben', 'reunion', 'reunite', 'reunited', 'reunites', 'reveal', 'revealed', 'revealing', 'reveals', 'revelation', 'revelations', 'revenge', 'reverend', 'revived', 'revolt', 'revolution', 'revolutionary', 'revolves', 'reward', 'rexlinn', 'rhodagriffis', 'rhonamitra', 'rhysifans', 'ricardogarcia', 'ricardomontalban', 'rice', 'rich', 'richard', 'richardarmitage', 'richardattenborough', 'richardbenjamin', 'richardbrake', 'richardbremmer', 'richardbright', 'richardbrooks', 'richardcetrone', 'richardcoyle', 'richardcurtis', 'richarddonner', 'richarddreyfuss', 'richarddurden', 'richarddysart', 'richarde', 'richardedson', 'richardfitzpatrick', 'richardgant', 'richardgere', 'richardgraham', 'richardgriffiths', 'richardharris', 'richardjenkins', 'richardjones', 'richardjordan', 'richardkiel', 'richardkind', 'richardlagravenese', 'richardleaf', 'richardlester', 'richardlineback', 'richardlinklater', 'richardmasur', 'richardmccabe', 'richardo', 'richardportnow', 'richardriehle', 'richardroundtree', 'richardroxburgh', 'richards', 'richardschiff', 'richardson', 'richardt', 'richardtyson', 'richardzeman', 'riches', 'richmondarquette', 'rick', 'rickducommun', 'rickgomez', 'rickgonzalez', 'rickoverton', 'ricky', 'rickygervais', 'rickyjay', 'rickyschroder', 'rickyune', 'rico', 'ricreitz', 'ricyoung', 'rid', 'riddick', 'riddle', 'ride', 'rider', 'riding', 'ridleyscott', 'rifle', 'right', 'rightandjustice', 'rightful', 'rights', 'rikilindhome', 'riley', 'ring', 'riot', 'ripley', 'riptorn', 'rise', 'rises', 'rising', 'risk', 'risks', 'ritawilson', 'ritchiecoster', 'ritchiemontgomery', 'ritual', 'rival', 'rivalry', 'rivals', 'river', 'rizwanmanji', 'road', 'roadmovie', 'roads', 'roadtrip', 'rob', 'robber', 'robbers', 'robbery', 'robbiecoltrane', 'robbing', 'robbrown', 'robcampbell', 'robcohen', 'robcorddry', 'robert', 'roberta', 'robertc', 'robertcapron', 'robertcarlyle', 'robertclohessy', 'robertclotworthy', 'robertcurtisbrown', 'robertd', 'robertdavi', 'robertdeniro', 'robertdowneyjr', 'robertduvall', 'robertenglund', 'robertforster', 'robertfoxworth', 'robertharvey', 'robertj', 'robertjohnburke', 'robertjoy', 'robertklein', 'robertknepper', 'robertloggia', 'robertluketic', 'robertmaillet', 'roberto', 'robertpatrick', 'robertpattinson', 'robertpicardo', 'robertpine', 'robertportal', 'robertprosky', 'robertredford', 'robertrodriguez', 'roberts', 'robertschwentke', 'robertsmigel', 'robertstanton', 'robertwagner', 'robertwisdom', 'robertzemeckis', 'robhuebel', 'robin', 'robinatkindownes', 'robinson', 'robinwilliams', 'robinwright', 'roblowe', 'robminkoff', 'robmoran', 'robot', 'robots', 'robpaulsen', 'robreiner', 'robriggle', 'robschneider', 'robzombie', 'rochester', 'rock', 'rockandroll', 'rockband', 'rocker', 'rocket', 'rockstar', 'rocky', 'rod', 'roddymcdowall', 'rodgerbumpass', 'rodlurie', 'rodney', 'rodrigosantoro', 'rodsteiger', 'roger', 'rogerallam', 'rogerashton', 'rogerbart', 'rogercorman', 'rogerdonaldson', 'rogerguenveursmith', 'rogerl', 'rogermitchell', 'rogermoore', 'rogerrees', 'rogers', 'rogue', 'rolandemmerich', 'role', 'roles', 'roll', 'roller', 'roman', 'romance', 'romances', 'romanempire', 'romanpolanski', 'romantic', 'romantically', 'romanticcomedy', 'romanymalco', 'rome', 'romeo', 'romero', 'romolagarai', 'ron', 'roncook', 'roneldard', 'ronhoward', 'ronjeremy', 'ronlivingston', 'ronmadoff', 'ronnie', 'ronperlman', 'ronrifkin', 'roof', 'rooftop', 'rookie', 'room', 'roommate', 'roommates', 'rooneymara', 'roots', 'rorycochrane', 'roryculkin', 'rosamundpike', 'rosannaarquette', 'rosariodawson', 'rose', 'rosebyrne', 'roselynsánchez', 'rosemariedewitt', 'rosemaryharris', 'rosemaryhoward', 'roshanseth', 'rosieperez', 'ross', 'rough', 'round', 'rourke', 'route', 'routine', 'row', 'rowanatkinson', 'roy', 'royal', 'royalty', 'royscheider', 'ruby', 'rubénblades', 'rufussewell', 'rugby', 'rugrats', 'ruin', 'ruined', 'ruins', 'rule', 'ruled', 'ruler', 'rules', 'rumor', 'rumored', 'rumors', 'run', 'runaway', 'runner', 'running', 'runs', 'ruperteverett', 'rupertfriend', 'rupertgraves', 'rupertgrint', 'rural', 'ruralsetting', 'rusblackwell', 'rush', 'russell', 'russellbrand', 'russellcrowe', 'russia', 'russian', 'russians', 'rustyschwimmer', 'rutgerhauer', 'ruth', 'ruthless', 'ruthsheen', 'ryan', 'ryangosling', 'ryanmerriman', 'ryano', 'ryanphillippe', 'ryanreynolds', 'ryanrobbins', 'rza', 'saber', 'sabotage', 'sabshimono', 'sachabaroncohen', 'sacred', 'sacrifice', 'sacrifices', 'sadiesandler', 'sadism', 'sadist', 'sadistic', 'sadness', 'safari', 'safe', 'safely', 'safety', 'saffronburrows', 'saga', 'sai', 'said', 'sail', 'sailing', 'sailor', 'saint', 'sake', 'salabaker', 'sale', 'salem', 'sales', 'salesclerk', 'salesman', 'sally', 'sallyfield', 'sallyhawkins', 'sallykirkland', 'sallyphillips', 'salmahayek', 'salon', 'salt', 'sam', 'samantha', 'samanthamathis', 'samanthamorton', 'sambottoms', 'samclaflin', 'samdouglas', 'samelliott', 'samjaeger', 'sammendes', 'sammirotibi', 'samneill', 'sampeckinpah', 'samraimi', 'samrobards', 'samrockwell', 'samshepard', 'samspruell', 'samuel', 'samuell', 'samurai', 'samworthington', 'san', 'sanaalathan', 'sanchez', 'sand', 'sanders', 'sandra', 'sandrabullock', 'sandraellislafferty', 'sandraoh', 'sandrataylor', 'sandrineholt', 'sandstorm', 'sandy', 'sanfrancisco', 'sangster', 'sanity', 'santa', 'santaclaus', 'santiagosegura', 'saoirseronan', 'sapprentice', 'sara', 'sarah', 'sarahgadon', 'sarahjessicaparker', 'sarahmichellegellar', 'sarahpaulson', 'sarahpolley', 'sarahsilverman', 'sarapaxton', 'sarastewart', 'sasharoiz', 'satan', 'satanic', 'satellite', 'satire', 'saulrubinek', 'savage', 'savannah', 'save', 'saved', 'saves', 'saving', 'savingtheworld', 'savior', 'savvy', 'saw', 'say', 'sayedbadreya', 'saying', 'says', 'saïdtaghmaoui', 'sblock', 'sbook', 'scale', 'scam', 'scandal', 'scarecrow', 'scared', 'scarlettjohansson', 'scary', 'scene', 'scenes', 'scheme', 'schemes', 'scheming', 'schizophrenia', 'schmidt', 'scholarship', 'school', 'schoolbus', 'schoolofwitchcraft', 'schoolparty', 'schools', 'schoolteacher', 'schwartz', 'sci', 'science', 'sciencefiction', 'scientific', 'scientist', 'scientists', 'scootmcnairy', 'score', 'scores', 'scorsese', 'scotland', 'scott', 'scotta', 'scottadkins', 'scottadsit', 'scottbakula', 'scottcaan', 'scottcooper', 'scotteastwood', 'scottglenn', 'scotthicks', 'scottish', 'scottlawrence', 'scottmenville', 'scottmosier', 'scottporter', 'scottsowers', 'scottspeedman', 'scottwilson', 'scout', 'scouttaylor', 'scramble', 'screaming', 'screen', 'screenplay', 'screenwriter', 'script', 'scrooge', 'scuba', 'scubadiving', 'scully', 'sdailylife', 'sday', 'sdream', 'sea', 'seal', 'seamonster', 'sean', 'seanastin', 'seanbean', 'seanconnery', 'seanharris', 'seanhayes', 'seannwilliamscott', 'seano', 'seanpatrickflanery', 'seanpatrickthomas', 'seanpenn', 'seanpertwee', 'seanwhalen', 'seanyoung', 'search', 'searches', 'searching', 'seas', 'seaside', 'season', 'seasoned', 'seat', 'seattle', 'sebastian', 'sebastianhülk', 'sebastiankoch', 'sebastianstan', 'secluded', 'second', 'secret', 'secretagent', 'secretary', 'secretbase', 'secretidentity', 'secretintelligenceservice', 'secretlab', 'secretlove', 'secretly', 'secretmission', 'secretorganization', 'secrets', 'secretservice', 'secretsociety', 'section', 'secure', 'security', 'securitycamera', 'securityguard', 'seduce', 'seduced', 'seduces', 'seduction', 'seductive', 'seeing', 'seek', 'seeking', 'seeks', 'seemingly', 'seen', 'sees', 'seize', 'selaward', 'selenagomez', 'self', 'selfsacrifice', 'sell', 'selling', 'sells', 'selma', 'selmablair', 'semi', 'senate', 'senator', 'send', 'sending', 'sends', 'senior', 'seniors', 'sensation', 'sense', 'sensitive', 'sent', 'sentence', 'sentenced', 'seo', 'seok', 'separate', 'separated', 'separation', 'september', 'sequel', 'sergeant', 'sergehoude', 'serial', 'serialkiller', 'series', 'seriesofmurders', 'seriously', 'serra', 'serum', 'servant', 'serve', 'served', 'serves', 'service', 'services', 'serving', 'sessions', 'set', 'seth', 'sethgilliam', 'sethgreen', 'sethhoward', 'sethmacfarlane', 'sethmeyers', 'sethrogen', 'sets', 'setting', 'settle', 'settler', 'settlers', 'settles', 'seve', 'seven', 'severe', 'severely', 'sewer', 'sewers', 'sex', 'sexaddiction', 'sexcomedy', 'sexism', 'sexscene', 'sexual', 'sexualabuse', 'sexualidentity', 'sexuality', 'sexually', 'sexualobsession', 'sexy', 'seymourcassel', 'sgt', 'shadmoss', 'shadow', 'shadows', 'shadowy', 'shady', 'shailenewoodley', 'shake', 'shaken', 'shakespeare', 'shalomharlow', 'shane', 'shaneblack', 'shanemeadows', 'shanerimmer', 'shanewest', 'shanghai', 'shannonelizabeth', 'shannonwilcox', 'shannynsossamon', 'shape', 'shaquilleo', 'share', 'shared', 'shares', 'sharing', 'shark', 'sharkattack', 'sharks', 'sharonconley', 'sharonlandry', 'sharonleal', 'sharonstone', 'sharonwilkins', 'sharp', 'shattered', 'shauntoub', 'shaw', 'shawnashmore', 'shawneesmith', 'shawnfogarty', 'shawnhatosy', 'shawnlevy', 'shawnroberts', 'shea', 'sheawhigham', 'sheep', 'shelter', 'sheltered', 'shepherd', 'sheriff', 'sherimoonzombie', 'sherman', 'sherrishepherd', 'sherry', 'sherrylynn', 'shialabeouf', 'shield', 'shift', 'shifting', 'shilohfernandez', 'shin', 'ship', 'ships', 'shipwreck', 'shirleyhenderson', 'shirleyknight', 'shirleymaclaine', 'shocked', 'shocking', 'shoes', 'shohrehaghdashloo', 'shome', 'shoot', 'shooting', 'shootout', 'shoots', 'shop', 'shopping', 'shoppingmall', 'short', 'shortly', 'shot', 'shotgun', 'shottodeath', 'showbusiness', 'showdown', 'shower', 'showing', 'shown', 'shows', 'shredder', 'shrek', 'shut', 'shuttle', 'shy', 'shyness', 'siblings', 'sick', 'sid', 'sidekick', 'sides', 'sidhaig', 'sidney', 'sidneylumet', 'siege', 'siennaguillory', 'siennamiller', 'sight', 'sights', 'sign', 'signal', 'signed', 'signing', 'signs', 'sigourneyweaver', 'sik', 'silence', 'silent', 'silentfilm', 'silver', 'similar', 'simmons', 'simon', 'simonbaker', 'simoncallow', 'simonchandler', 'simonkunz', 'simonmcburney', 'simonpegg', 'simonwest', 'simple', 'simply', 'simpson', 'simultaneously', 'sin', 'sing', 'singer', 'singers', 'singing', 'single', 'singlefather', 'singlemother', 'singleparent', 'sinister', 'siobhanfallon', 'sir', 'sissyspacek', 'sister', 'sisters', 'sistersisterrelationship', 'sit', 'site', 'sittingonatoilet', 'situation', 'situations', 'sixth', 'size', 'sized', 'skateboarding', 'skeetulrich', 'skeleton', 'skeptical', 'skiing', 'skill', 'skilled', 'skills', 'skippsudduth', 'skull', 'sky', 'skylarastin', 'skylergisondo', 'skyscraper', 'skywalker', 'slacker', 'slapstick', 'slasher', 'slaughter', 'slave', 'slavery', 'slaves', 'sleazy', 'sleep', 'sleeping', 'sleepwalking', 'sleepy', 'slife', 'slimpickens', 'slowly', 'slum', 'sly', 'small', 'smalltown', 'smart', 'smith', 'smitten', 'smoking', 'smooth', 'smoove', 'smuggler', 'smuggling', 'snake', 'sniper', 'snoopdogg', 'snow', 'snowstorm', 'snowwhite', 'soccer', 'social', 'socialite', 'socially', 'socialoutcast', 'society', 'sociopath', 'sofia', 'sofiacoppola', 'sofíavergara', 'solar', 'solareclipse', 'sold', 'soldier', 'soldiers', 'sole', 'solitary', 'solo', 'solomon', 'solve', 'somebody', 'somewhat', 'son', 'song', 'songs', 'songwriter', 'sons', 'soon', 'sophie', 'sophieokonedo', 'sophisticated', 'sorcerer', 'sorcery', 'sorority', 'sort', 'sought', 'soul', 'soulmates', 'souls', 'sound', 'soundtrack', 'sour', 'source', 'south', 'southafrica', 'southern', 'southernusa', 'soviet', 'sovietunion', 'space', 'spacebattle', 'spacecolony', 'spacecraft', 'spacemarine', 'spacemission', 'spaceopera', 'spaceship', 'spacetravel', 'spain', 'spanish', 'spanning', 'sparks', 'sparrow', 'speak', 'speaking', 'spear', 'special', 'specialist', 'species', 'spectacle', 'spectacular', 'speech', 'speed', 'spell', 'spencer', 'spencergarrett', 'spencerlocke', 'spencerwilding', 'spend', 'spending', 'spends', 'spent', 'sperm', 'spider', 'spiders', 'spike', 'spikejonze', 'spikelee', 'spin', 'spiral', 'spirit', 'spirited', 'spirits', 'spiritual', 'spirituality', 'spoiled', 'spoof', 'sport', 'sports', 'sportsteam', 'spot', 'spotlight', 'spread', 'spreading', 'spring', 'sprison', 'spy', 'spying', 'squad', 'square', 'st', 'staceytravis', 'stacykeach', 'stadium', 'staff', 'stage', 'stagecoach', 'stages', 'stagnight', 'stahl', 'stake', 'stakes', 'stalked', 'stalker', 'stalking', 'stan', 'stand', 'standing', 'stands', 'stanlee', 'stanley', 'stanleyanderson', 'stanleydesantis', 'stanleykubrick', 'stanleytucci', 'star', 'starcrossedlovers', 'stardom', 'starfleet', 'stark', 'starksands', 'starring', 'stars', 'start', 'started', 'starting', 'starts', 'state', 'states', 'station', 'status', 'stay', 'staying', 'steal', 'stealing', 'steals', 'steampunk', 'steel', 'steelhelmet', 'stella', 'stellanskarsgård', 'step', 'stepfather', 'stephaniehonoré', 'stephanieszostak', 'stephen', 'stephenbishop', 'stephenchow', 'stephencollins', 'stephendorff', 'stephene', 'stephenfrears', 'stephenfry', 'stephengraham', 'stephenherek', 'stephenhopkins', 'stephenkearin', 'stephenlang', 'stephenmarcus', 'stephenmchattie', 'stephenrea', 'stephenrider', 'stephenroot', 'stephenspinella', 'stephentobolowsky', 'stephenwalters', 'stepmother', 'steps', 'steve', 'stevebannos', 'stevebuscemi', 'stevecarell', 'stevecoogan', 'stevecoulter', 'steveeastin', 'steveguttenberg', 'steveharris', 'stevekahan', 'stevemartin', 'steveminer', 'steven', 'stevenberkoff', 'stevenbrill', 'stevenford', 'stevenm', 'stevenmackintosh', 'stevenrobertson', 'stevens', 'stevenseagal', 'stevensoderbergh', 'stevenspielberg', 'stevenstrait', 'steveoedekerk', 'stevespeirs', 'stevetyler', 'stevezahn', 'stevieraydallimore', 'stewardess', 'stewart', 'sting', 'stock', 'stockardchanning', 'stockbroker', 'stolen', 'stone', 'stoneage', 'stoner', 'stones', 'stop', 'stopmotion', 'stopped', 'stopping', 'store', 'stories', 'storm', 'story', 'straight', 'stranded', 'strange', 'stranger', 'strangers', 'strategy', 'stray', 'street', 'streetgang', 'streets', 'streetwise', 'strength', 'stress', 'stretch', 'strict', 'strike', 'strikes', 'string', 'strip', 'stripclub', 'stripes', 'stripper', 'strives', 'stroke', 'strong', 'structure', 'struggle', 'struggles', 'struggling', 'stu', 'stuart', 'stuartgreer', 'stuartpankin', 'stuartwilson', 'stuck', 'studded', 'student', 'students', 'studies', 'studio', 'studios', 'study', 'stumble', 'stumbles', 'stumbling', 'stunning', 'stunt', 'stuntman', 'stunts', 'stupidity', 'style', 'su', 'sub', 'subject', 'subjected', 'submachinegun', 'submarine', 'subsequent', 'substance', 'suburb', 'suburban', 'suburbia', 'subway', 'succeed', 'succeeds', 'success', 'successful', 'successfully', 'successor', 'sudden', 'suddenly', 'sue', 'suffer', 'suffering', 'suffers', 'sugar', 'sugarlynbeard', 'suggests', 'suicidal', 'suicide', 'suicideattempt', 'suit', 'suitcase', 'suitor', 'sullivan', 'summer', 'summercamp', 'sun', 'sung', 'sungkang', 'sunglasses', 'sunlight', 'sunnysandler', 'sunrise', 'super', 'supercomputer', 'superhero', 'superheroes', 'superheroteam', 'superhuman', 'superhumanstrength', 'superman', 'supermarket', 'supermodel', 'supernatural', 'supernaturalpower', 'supernaturalpowers', 'superpower', 'superpowers', 'superstar', 'supervillain', 'supervisor', 'supplies', 'supply', 'support', 'supposed', 'supposedly', 'suppressedpast', 'sure', 'surf', 'surface', 'surfer', 'surfing', 'surgeon', 'surgery', 'surly', 'surprise', 'surprised', 'surprises', 'surprising', 'surprisingly', 'surreal', 'surrealism', 'surrogate', 'surrounded', 'surrounding', 'surveillance', 'survival', 'survive', 'survived', 'survives', 'surviving', 'survivor', 'survivors', 'susan', 'susansarandon', 'suspect', 'suspected', 'suspecting', 'suspects', 'suspense', 'suspicion', 'suspicions', 'suspicious', 'suzanneshepherd', 'sven', 'swan', 'swap', 'swashbuckler', 'swastika', 'swat', 'swatteam', 'sweden', 'sweeney', 'sweeping', 'sweet', 'sweetheart', 'swept', 'swimmingpool', 'swing', 'switzerland', 'swoosiekurtz', 'sword', 'swordandsorcery', 'swordfight', 'swordplay', 'sworn', 'sydney', 'sydneypollack', 'sylvesterstallone', 'sylviakauders', 'symbol', 'sympathetic', 'syndicate', 'syndrome', 'table', 'tabloid', 'taboo', 'tactics', 'tadhorino', 'tae', 'tag', 'tai', 'tail', 'tailor', 'takayofischer', 'taken', 'takes', 'taking', 'tale', 'talefigure', 'talent', 'talented', 'talents', 'tales', 'taliashire', 'taliban', 'talisasoto', 'talk', 'talking', 'talkinganimal', 'talks', 'tall', 'talulahriley', 'tamalajones', 'tamaratunie', 'tammyblanchard', 'taneemccall', 'tank', 'tape', 'tapes', 'tarajip', 'tarankillam', 'tarareid', 'tarastrong', 'tarasubkoff', 'target', 'targeted', 'targets', 'tarynmanning', 'tashasmith', 'task', 'tasked', 'tasks', 'taste', 'tate', 'tatedonovan', 'tatianamaslany', 'tattoo', 'tatyanaali', 'taxi', 'taxidriver', 'tayediggs', 'taylor', 'taylorhackford', 'taylorkitsch', 'taylorlautner', 'taylornegron', 'tchékykaryo', 'teach', 'teacher', 'teachers', 'teachersandstudents', 'teaches', 'teaching', 'team', 'teams', 'teamwork', 'tear', 'tears', 'tech', 'technology', 'ted', 'teddanson', 'teddy', 'tedfriend', 'tedlevine', 'tedraimi', 'tedwhittall', 'teen', 'teenage', 'teenageboy', 'teenagecrush', 'teenagegirl', 'teenagehero', 'teenagepregnancy', 'teenager', 'teenageromance', 'teenagers', 'teenagesexuality', 'teencomedy', 'teenmovie', 'teens', 'telekinesis', 'telepathy', 'telephone', 'teleportation', 'television', 'tell', 'telling', 'tells', 'temple', 'temporary', 'temptation', 'temueramorrison', 'tennessee', 'tennis', 'tense', 'tension', 'tensions', 'terenceharvey', 'terencekelly', 'terencestamp', 'teresapalmer', 'terigarr', 'teripolo', 'teriwyble', 'term', 'terminal', 'terminalillness', 'terms', 'terrain', 'terrence', 'terrencehoward', 'terrencejenkins', 'terrible', 'terrier', 'terrified', 'terrifying', 'territory', 'terror', 'terrorism', 'terrorist', 'terrorists', 'terrorize', 'terrorized', 'terrorizing', 'terry', 'terrychen', 'terrycrews', 'terrydaleparks', 'terrygilliam', 'terrykinney', 'terrynotary', 'terryo', 'terryserpico', 'tess', 'tessharper', 'test', 'tested', 'tests', 'tex', 'texan', 'texas', 'thai', 'thailand', 'thandienewton', 'thanks', 'thanksgiving', 'theater', 'theatre', 'theatregroup', 'theatremilieu', 'theatreplay', 'thebiggame', 'theft', 'theme', 'theodore', 'theory', 'therapist', 'therapy', 'theresa', 'theresarandle', 'thief', 'thieves', 'thing', 'things', 'think', 'thinking', 'thinks', 'thirst', 'thirty', 'thomas', 'thomasbrodie', 'thomasf', 'thomasfrancismurphy', 'thomashadenchurch', 'thomashowell', 'thomasiannicholas', 'thomasjane', 'thomasjeffersonbyrd', 'thomaskretschmann', 'thomaslennon', 'thomasmann', 'thomasrosales', 'thombarry', 'thompson', 'thor', 'thorabirch', 'thornton', 'thought', 'thoughts', 'thousand', 'thousands', 'threat', 'threaten', 'threatened', 'threatening', 'threatens', 'threats', 'thrill', 'thriller', 'thrilling', 'throatslitting', 'throne', 'throw', 'thrown', 'throws', 'thrust', 'thug', 'thugs', 'thwart', 'tiatexada', 'tibet', 'ticket', 'tickets', 'tide', 'ties', 'tiffanyl', 'tiffanysandermckenzie', 'tiger', 'tigger', 'tight', 'tightly', 'tikasumpter', 'tildaswinton', 'till', 'tilschweiger', 'tim', 'timallen', 'timblakenelson', 'timburton', 'timcurry', 'timdezarn', 'time', 'timebomb', 'timeless', 'timemachine', 'times', 'timetravel', 'timgriffin', 'timguinee', 'timhill', 'timid', 'timkelleher', 'timmatheson', 'timmcgraw', 'timmcinnerny', 'timmcmullan', 'timmeadows', 'timothy', 'timothydalton', 'timothyhutton', 'timothyolyphant', 'timothypatrickquill', 'timothyspall', 'timothywest', 'timparati', 'timperez', 'timpigott', 'timrobbins', 'timroth', 'timstory', 'tina', 'tinafey', 'tiny', 'tired', 'titanic', 'title', 'tituswelliver', 'tiyasircar', 'tobacco', 'tobehooper', 'tobeymaguire', 'tobinbell', 'tobyhuss', 'tobyjones', 'tobykebbell', 'today', 'todd', 'toddallen', 'toddboyce', 'toddfield', 'toddlouiso', 'toddphillips', 'togoigawa', 'toilet', 'tokyo', 'told', 'tolkien', 'toll', 'tom', 'tomaldredge', 'tomarnold', 'tomasarana', 'tomatkins', 'tomberenger', 'tombower', 'tomcourtenay', 'tomcruise', 'tomeverett', 'tomeverettscott', 'tomfelton', 'tomfisher', 'tomgreen', 'tomhanks', 'tomhardy', 'tomhiddleston', 'tomholland', 'tomhollander', 'tomhulce', 'tomkane', 'tomkemp', 'tomkenny', 'tomlisterjr', 'tommccarthy', 'tommcgrath', 'tommy', 'tommyflanagan', 'tommyleejones', 'tomnoonan', 'tomnowicki', 'tomo', 'tompkins', 'tomquinn', 'tomsavini', 'tomshadyac', 'tomsizemore', 'tomskerritt', 'tomtowles', 'tomtykwer', 'tomvirtue', 'tomwaits', 'tomwilkinson', 'tomwoodruffjr', 'tomásmilián', 'tong', 'tonicollette', 'tonto', 'tony', 'tonyamendola', 'tonybentley', 'tonycox', 'tonycurran', 'tonygoldwyn', 'tonyhale', 'tonyhawk', 'tonyjaa', 'tonyjay', 'tonynappo', 'tonyplana', 'tonyscott', 'tonyshalhoub', 'tonysirico', 'tonytodd', 'took', 'toole', 'tools', 'tooth', 'tophergrace', 'toretto', 'torment', 'tormented', 'torn', 'tornado', 'toronto', 'torstenvoges', 'torture', 'tortured', 'tory', 'toshootdead', 'total', 'totalitarian', 'totally', 'touch', 'touches', 'touching', 'tough', 'toughest', 'tour', 'tourist', 'tourists', 'tournament', 'tours', 'tower', 'town', 'townspeople', 'toxic', 'toy', 'toycomestolife', 'toys', 'traceywalter', 'traciethoms', 'track', 'tracking', 'tracks', 'tracy', 'tracymorgan', 'trade', 'trader', 'trading', 'tradition', 'traditional', 'traffic', 'trafficking', 'tragedy', 'tragic', 'tragically', 'tragichero', 'trail', 'trailer', 'train', 'trained', 'trainee', 'trainer', 'training', 'trains', 'traitor', 'transfer', 'transform', 'transformation', 'transformed', 'transformers', 'transforming', 'transforms', 'transplant', 'transplantation', 'transport', 'transported', 'transporter', 'transporting', 'transportofprisoners', 'transvestism', 'trap', 'trapped', 'traps', 'trauma', 'traumatic', 'travel', 'travelers', 'traveling', 'travels', 'travis', 'treacherous', 'treasure', 'treasurehunt', 'treat', 'treating', 'treatment', 'treatwilliams', 'tree', 'trek', 'tressmacneille', 'trevor', 'treyparker', 'trial', 'trials', 'triangle', 'tribe', 'trick', 'tricks', 'tried', 'tries', 'triggers', 'trilogy', 'trinialvarado', 'trio', 'trip', 'tris', 'triumphs', 'troll', 'troops', 'trophy', 'tropical', 'trouble', 'troubled', 'troubles', 'troy', 'troyevans', 'troygarity', 'troyrobinson', 'truck', 'trucker', 'true', 'truly', 'truman', 'trunk', 'trust', 'trusted', 'truth', 'truths', 'try', 'trying', 'tsunami', 'tucker', 'tuckersmallwood', 'tunnel', 'turbulent', 'turkey', 'turmoil', 'turn', 'turned', 'turner', 'turning', 'turns', 'turtle', 'turtles', 'tutt', 'tv', 'tvmovie', 'tvratings', 'tvshow', 'tvstation', 'twentysomething', 'twice', 'twin', 'twinbrother', 'twins', 'twist', 'twisted', 'twists', 'tyburrell', 'tycoon', 'tyjones', 'tyler', 'tylerlabine', 'tylermane', 'tylerperry', 'tylerposey', 'tyolsson', 'type', 'types', 'typical', 'tyrannical', 'tyrannosaurusrex', 'tyranny', 'tyrant', 'tyresegibson', 'tysimpkins', 'tzima', 'téaleoni', 'udokier', 'ufo', 'ugly', 'ulrichthomsen', 'ultimate', 'ultimately', 'ultra', 'umathurman', 'umbrella', 'unable', 'unadamon', 'unauthorized', 'unaware', 'unbeknownst', 'unborn', 'uncanny', 'uncharted', 'uncle', 'uncomfortable', 'unconventional', 'uncover', 'uncovered', 'uncovering', 'uncovers', 'undead', 'underage', 'undercover', 'undercoveragent', 'undercovercop', 'underdog', 'undergoes', 'underground', 'understand', 'underwater', 'underwear', 'underworld', 'unemployed', 'unemployment', 'unexpected', 'unexpectedly', 'unfold', 'unfolds', 'unforeseen', 'unforgettable', 'unfortunate', 'unfortunately', 'unhappiness', 'unhappy', 'unimaginable', 'union', 'unique', 'unit', 'unite', 'united', 'unitednations', 'unitedstates', 'universe', 'university', 'unknowingly', 'unknown', 'unleash', 'unleashed', 'unleashes', 'unleashing', 'unless', 'unlike', 'unlikely', 'unlikelyfriendship', 'unlock', 'unlucky', 'unorthodox', 'unprecedented', 'unpredictable', 'unravel', 'unravels', 'unrequitedlove', 'unsavory', 'unscrupulous', 'unsimulatedsex', 'unsociability', 'unsolved', 'unspeakable', 'unstable', 'unstoppable', 'unsure', 'unsuspecting', 'unthinkable', 'untimely', 'unusual', 'unwelcome', 'unwilling', 'unwitting', 'unwittingly', 'upbringing', 'upcomedy', 'upcoming', 'upper', 'upperclass', 'uprising', 'uprobbery', 'ups', 'upset', 'upside', 'upstairs', 'uptight', 'urban', 'usa', 'usapresident', 'use', 'used', 'uses', 'usherraymond', 'using', 'ussenterprise', 'usual', 'utah', 'utopia', 'uweboll', 'vacation', 'val', 'valenterodriguez', 'valentine', 'valerie', 'valerieperrine', 'valerietian', 'valiant', 'valkilmer', 'valley', 'valuable', 'value', 'values', 'vampire', 'vampirehunter', 'vampires', 'van', 'vance', 'vandalism', 'vanessa', 'vanessabranch', 'vanessaferlito', 'vanessahudgens', 'vanessamartinez', 'vanessaredgrave', 'vanessawilliams', 'vanish', 'vanishes', 'vanity', 'variety', 'various', 'vast', 'vastly', 'vatican', 'vault', 've', 'vega', 'vegas', 'vegetarian', 'velibortopic', 'vengeance', 'vengeful', 'venice', 'venture', 'ventures', 'verafarmiga', 'verge', 'vernetroyer', 'vernondobtcheff', 'veronicacartwright', 'version', 'verylittledialogue', 'vet', 'veteran', 'veterinarian', 'vice', 'vicious', 'victim', 'victims', 'victor', 'victorargo', 'victorgarber', 'victoria', 'victorian', 'victorianengland', 'victorslezak', 'victorwong', 'victory', 'video', 'videogame', 'vienna', 'vietnam', 'vietnamveteran', 'vietnamwar', 'view', 'viewers', 'views', 'viggomortensen', 'vigilante', 'viking', 'villa', 'village', 'villagers', 'villain', 'villainous', 'villains', 'vince', 'vincent', 'vincentcassel', 'vincentd', 'vincentfranklin', 'vincentgallo', 'vincentlaresca', 'vincentpastore', 'vincentregan', 'vincentschiavelli', 'vincentwong', 'vincevaughn', 'vindiesel', 'vinessashaw', 'vineyard', 'vingrhames', 'vinniejones', 'violadavis', 'violence', 'violenceinschools', 'violent', 'violenthusband', 'violently', 'violet', 'violin', 'virgin', 'virginia', 'virginiamadsen', 'virginity', 'virtual', 'virtually', 'virtualreality', 'virus', 'visa', 'vision', 'visions', 'visit', 'visited', 'visiting', 'visitor', 'visitors', 'visits', 'visual', 'vivicaa', 'vlad', 'vlastavrána', 'voice', 'voiceover', 'voices', 'volatile', 'volcano', 'volunteer', 'volunteers', 'vomit', 'von', 'vondiecurtis', 'voodoo', 'vororte', 'vow', 'vows', 'voyage', 'voyeur', 'voyeurism', 'vs', 'vulcan', 'vytoruginis', 'wacky', 'wade', 'wage', 'wager', 'wages', 'wai', 'wait', 'waiter', 'waiting', 'waitress', 'waits', 'wake', 'wakes', 'waldau', 'walk', 'walker', 'walking', 'walks', 'wall', 'wallace', 'wallaceshawn', 'wallet', 'walls', 'wallstreet', 'walsh', 'walt', 'walter', 'waltergotell', 'walterkoenig', 'waltongoggins', 'wan', 'wanda', 'wandasykes', 'wang', 'want', 'wanted', 'wanting', 'wants', 'war', 'warcrimes', 'ward', 'warden', 'warehouse', 'warfare', 'warlock', 'warlord', 'warming', 'warner', 'warondrugs', 'waronterror', 'warren', 'warrenbeatty', 'warrior', 'warriors', 'wars', 'warship', 'warveteran', 'warwickdavis', 'washed', 'washington', 'washingtond', 'wasn', 'waste', 'wasteland', 'watch', 'watches', 'watching', 'water', 'waters', 'watson', 'wave', 'way', 'wayneduvall', 'wayneknight', 'waynepére', 'ways', 'wealth', 'wealthy', 'weapon', 'weapons', 'wearing', 'wears', 'weary', 'weather', 'weaver', 'web', 'website', 'wed', 'wedding', 'week', 'weekend', 'weeks', 'weird', 'welcome', 'wells', 'wendellpierce', 'wendiemalick', 'wendimclendon', 'wendy', 'wendycrewson', 'went', 'werewolf', 'wernerherzog', 'wesanderson', 'wesbentley', 'wescraven', 'wesley', 'wesleysnipes', 'wesstudi', 'west', 'western', 'whale', 'wheelchair', 'whip', 'whisked', 'white', 'whitehouse', 'whoopigoldberg', 'wicked', 'wide', 'widow', 'widowed', 'widower', 'wielding', 'wife', 'wifehusbandrelationship', 'wilburfitzgerald', 'wild', 'wilderness', 'wildlife', 'wildly', 'wilkinson', 'willarnett', 'willed', 'willemdafoe', 'willferrell', 'willforte', 'william', 'williamfichtner', 'williamforsythe', 'williamfriedkin', 'williamh', 'williamhootkins', 'williamhurt', 'williamleescott', 'williammapother', 'williammorgansheppard', 'williams', 'williamsadler', 'williamshatner', 'willie', 'williegarson', 'willienelson', 'willing', 'willis', 'willpatton', 'willsmith', 'wilson', 'win', 'wind', 'window', 'winds', 'wine', 'wing', 'winner', 'winnie', 'winning', 'winonaryder', 'wins', 'winter', 'wise', 'wish', 'wishes', 'witch', 'witches', 'witness', 'witnessed', 'witnesses', 'witnesstomurder', 'wits', 'witted', 'wizard', 'wizardry', 'wolf', 'wolfgangpetersen', 'wolfkahler', 'woman', 'womandirector', 'womanizer', 'womanrelation', 'women', 'won', 'wonder', 'wonders', 'woo', 'wood', 'woodharris', 'woods', 'woody', 'woodyallen', 'woodyharrelson', 'word', 'words', 'wordsworth', 'work', 'workaholic', 'worked', 'worker', 'workers', 'working', 'works', 'world', 'worlds', 'worldwari', 'worldwarii', 'worldwide', 'worse', 'worship', 'worst', 'worth', 'wound', 'wounded', 'wounds', 'wreak', 'wrestler', 'wrestling', 'wretch', 'wright', 'write', 'writer', 'writes', 'writing', 'written', 'wrong', 'wrote', 'wwii', 'wyatt', 'wyoming', 'xanderberkeley', 'xaviersamuel', 'xenomorph', 'xenophobia', 'xzibit', 'yacht', 'yakuza', 'yard', 'yasiinbey', 'yayadacosta', 'year', 'years', 'yellow', 'yoga', 'yorickvanwageningen', 'york', 'yorkshire', 'young', 'youngadult', 'youngboy', 'younger', 'youngest', 'youth', 'yulvazquez', 'yuppie', 'yvettenicolebrown', 'zacefron', 'zacharygordon', 'zacharywoodlee', 'zachbraff', 'zachgalifianakis', 'zachgrenier', 'zacksnyder', 'zackward', 'zakorth', 'zaneholtz', 'zealand', 'zebra', 'zeljkoivanek', 'zengesner', 'zeus', 'zhangyimou', 'zhangziyi', 'zinedinesoualem', 'zion', 'zoe', 'zoekazan', 'zoesaldana', 'zombie', 'zombieapocalypse', 'zombies', 'zone', 'zoo', 'zooeydeschanel', 'zoëbell', 'zoëkravitz']\n"
     ]
    }
   ],
   "source": [
    "feature_names = cv.get_feature_names_out()\n",
    "print(list(feature_names))"
   ]
  },
  {
   "cell_type": "code",
   "execution_count": 39,
   "id": "82f131f5-82da-4b11-be67-760d35ded230",
   "metadata": {},
   "outputs": [],
   "source": [
    "from sklearn.metrics.pairwise import cosine_similarity"
   ]
  },
  {
   "cell_type": "code",
   "execution_count": 40,
   "id": "8d20c89a-eb70-42f2-9115-6cccc7d82285",
   "metadata": {},
   "outputs": [
    {
     "data": {
      "text/plain": [
       "array([[1.        , 0.05407381, 0.04241898, ..., 0.01873172, 0.02019893,\n",
       "        0.        ],\n",
       "       [0.05407381, 1.        , 0.06537205, ..., 0.01924501, 0.        ,\n",
       "        0.        ],\n",
       "       [0.04241898, 0.06537205, 1.        , ..., 0.02264554, 0.        ,\n",
       "        0.        ],\n",
       "       ...,\n",
       "       [0.01873172, 0.01924501, 0.02264554, ..., 1.        , 0.06469966,\n",
       "        0.0421637 ],\n",
       "       [0.02019893, 0.        , 0.        , ..., 0.06469966, 1.        ,\n",
       "        0.04546629],\n",
       "       [0.        , 0.        , 0.        , ..., 0.0421637 , 0.04546629,\n",
       "        1.        ]])"
      ]
     },
     "execution_count": 40,
     "metadata": {},
     "output_type": "execute_result"
    }
   ],
   "source": [
    "cosine_similarity(vector)"
   ]
  },
  {
   "cell_type": "code",
   "execution_count": 41,
   "id": "f68bcee6-33d1-4368-8dda-10c48db9ae0d",
   "metadata": {},
   "outputs": [],
   "source": [
    "similarity = cosine_similarity(vector)"
   ]
  },
  {
   "cell_type": "code",
   "execution_count": 42,
   "id": "aa49fa71-94ab-4d3f-a24b-447973f4a861",
   "metadata": {},
   "outputs": [
    {
     "data": {
      "text/plain": [
       "[(539, np.float64(0.195976600339204)),\n",
       " (2405, np.float64(0.18547162802488576)),\n",
       " (582, np.float64(0.18212319909644353)),\n",
       " (1916, np.float64(0.17971268936194615)),\n",
       " (1214, np.float64(0.1776140670111957))]"
      ]
     },
     "execution_count": 42,
     "metadata": {},
     "output_type": "execute_result"
    }
   ],
   "source": [
    "sorted(list(enumerate(similarity[0])),reverse=True,key=lambda x:x[1])[1:6]"
   ]
  },
  {
   "cell_type": "code",
   "execution_count": 43,
   "id": "de5c0d3e-5805-4f69-a28f-e637aabc8554",
   "metadata": {},
   "outputs": [],
   "source": [
    "def recommend(movie):\n",
    "    index = new[new['title'] == movie].index[0]\n",
    "    distances = sorted(list(enumerate(similarity[index])),reverse=True,key = lambda x: x[1])\n",
    "    for i in distances[1:6]:\n",
    "        print(new.iloc[i[0]].title)"
   ]
  },
  {
   "cell_type": "code",
   "execution_count": 44,
   "id": "af1436a4-2006-416c-a082-32d66c688583",
   "metadata": {},
   "outputs": [
    {
     "name": "stdout",
     "output_type": "stream",
     "text": [
      "Avengers: Age of Ultron\n",
      "Captain America: Civil War\n",
      "Thor\n",
      "Iron Man\n",
      "Captain America: The Winter Soldier\n"
     ]
    }
   ],
   "source": [
    "recommend('The Avengers')"
   ]
  },
  {
   "cell_type": "code",
   "execution_count": 45,
   "id": "b9776220-1d13-4af4-8a19-9b754992a4f4",
   "metadata": {},
   "outputs": [],
   "source": [
    "import pickle"
   ]
  },
  {
   "cell_type": "code",
   "execution_count": 46,
   "id": "1e6f1b2f-2093-40ed-a819-abe69eabad13",
   "metadata": {},
   "outputs": [],
   "source": [
    "pickle.dump(new,open('movie_list.pkl','wb'))\n",
    "pickle.dump(similarity,open('similarity.pkl','wb'))"
   ]
  },
  {
   "cell_type": "code",
   "execution_count": null,
   "id": "cbddb9e1-79e1-42f4-94be-ca635f87cfae",
   "metadata": {},
   "outputs": [],
   "source": []
  }
 ],
 "metadata": {
  "kernelspec": {
   "display_name": "Python 3 (ipykernel)",
   "language": "python",
   "name": "python3"
  },
  "language_info": {
   "codemirror_mode": {
    "name": "ipython",
    "version": 3
   },
   "file_extension": ".py",
   "mimetype": "text/x-python",
   "name": "python",
   "nbconvert_exporter": "python",
   "pygments_lexer": "ipython3",
   "version": "3.12.4"
  }
 },
 "nbformat": 4,
 "nbformat_minor": 5
}
